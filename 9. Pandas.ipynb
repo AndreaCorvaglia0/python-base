{
 "cells": [
  {
   "cell_type": "markdown",
   "id": "a8e7e442",
   "metadata": {},
   "source": [
    "# Pandas\n"
   ]
  },
  {
   "cell_type": "markdown",
   "id": "920f5106",
   "metadata": {},
   "source": [
    "## Introduzione"
   ]
  },
  {
   "cell_type": "markdown",
   "id": "fe4d8510",
   "metadata": {},
   "source": [
    "Pandas è una libreria di analisi dati open-source scritta in Python. È stata sviluppata principalmente per risolvere problemi di manipolazione dei dati, offrendo una vasta gamma di funzionalità di analisi e visualizzazione dei dati. Pandas è diventato uno strumento fondamentale per molti data scientist, grazie alla sua capacità di manipolare dati in modo efficiente.\n",
    "\n",
    "Una delle principali ragioni per cui Pandas è così popolare nell'ambito della data science è la sua capacità di gestire grandi quantità di dati. Grazie all'utilizzo dei DataFrame, la struttura dati principale di Pandas, è possibile eseguire analisi sui dati in modo molto efficiente, indipendentemente dalle dimensioni dei dati stessi (se i dati diventano veramente grandi conviene passare a strumenti come spark).\n",
    "\n",
    "Pandas offre anche una vasta gamma di funzioni per manipolare, filtrare, aggregare e trasformare i dati. Ciò significa che è possibile eseguire operazioni complesse sui dati in modo semplice e intuitivo, senza dover scrivere codice lungo e complesso. Inoltre, Pandas offre funzionalità avanzate per la gestione di dati mancanti e duplicati, che sono comuni nei dataset.\n",
    "\n",
    "Oltre a queste funzionalità, Pandas è noto per la sua capacità di integrarsi con altre librerie di analisi dati in Python, come Numpy, Matplotlib e Scikit-learn. Ciò significa che è possibile creare un flusso di lavoro coerente e intuitivo per l'analisi dei dati, utilizzando una serie di librerie interconnesse."
   ]
  },
  {
   "cell_type": "markdown",
   "id": "a55bf0c3",
   "metadata": {},
   "source": [
    "## Dataset"
   ]
  },
  {
   "cell_type": "markdown",
   "id": "4c41ba0b",
   "metadata": {},
   "source": [
    "Per mostrare l'utilizzo di Pandas, utilizzeremo il dataset Iris, uno dei dataset più famosi utilizzati in data science. Il dataset Iris contiene dati su tre specie di iris (setosa, versicolor e virginica), con informazioni sulle lunghezze e le larghezze dei sepali e dei petali. Per utilizzare questo dataset, eseguiamo il seguente codice:"
   ]
  },
  {
   "cell_type": "markdown",
   "id": "9a1f9a3d",
   "metadata": {},
   "source": [
    "Altri dataset: https://github.com/mwaskom/seaborn-data"
   ]
  },
  {
   "cell_type": "code",
   "execution_count": 1,
   "id": "6a0ac03f",
   "metadata": {
    "scrolled": true
   },
   "outputs": [
    {
     "data": {
      "text/html": [
       "<div>\n",
       "<style scoped>\n",
       "    .dataframe tbody tr th:only-of-type {\n",
       "        vertical-align: middle;\n",
       "    }\n",
       "\n",
       "    .dataframe tbody tr th {\n",
       "        vertical-align: top;\n",
       "    }\n",
       "\n",
       "    .dataframe thead th {\n",
       "        text-align: right;\n",
       "    }\n",
       "</style>\n",
       "<table border=\"1\" class=\"dataframe\">\n",
       "  <thead>\n",
       "    <tr style=\"text-align: right;\">\n",
       "      <th></th>\n",
       "      <th>sepal_length</th>\n",
       "      <th>sepal_width</th>\n",
       "      <th>petal_length</th>\n",
       "      <th>petal_width</th>\n",
       "      <th>species</th>\n",
       "    </tr>\n",
       "  </thead>\n",
       "  <tbody>\n",
       "    <tr>\n",
       "      <th>0</th>\n",
       "      <td>5.1</td>\n",
       "      <td>3.5</td>\n",
       "      <td>1.4</td>\n",
       "      <td>0.2</td>\n",
       "      <td>setosa</td>\n",
       "    </tr>\n",
       "    <tr>\n",
       "      <th>1</th>\n",
       "      <td>4.9</td>\n",
       "      <td>3.0</td>\n",
       "      <td>1.4</td>\n",
       "      <td>0.2</td>\n",
       "      <td>setosa</td>\n",
       "    </tr>\n",
       "    <tr>\n",
       "      <th>2</th>\n",
       "      <td>4.7</td>\n",
       "      <td>3.2</td>\n",
       "      <td>1.3</td>\n",
       "      <td>0.2</td>\n",
       "      <td>setosa</td>\n",
       "    </tr>\n",
       "    <tr>\n",
       "      <th>3</th>\n",
       "      <td>4.6</td>\n",
       "      <td>3.1</td>\n",
       "      <td>1.5</td>\n",
       "      <td>0.2</td>\n",
       "      <td>setosa</td>\n",
       "    </tr>\n",
       "    <tr>\n",
       "      <th>4</th>\n",
       "      <td>5.0</td>\n",
       "      <td>3.6</td>\n",
       "      <td>1.4</td>\n",
       "      <td>0.2</td>\n",
       "      <td>setosa</td>\n",
       "    </tr>\n",
       "  </tbody>\n",
       "</table>\n",
       "</div>"
      ],
      "text/plain": [
       "   sepal_length  sepal_width  petal_length  petal_width species\n",
       "0           5.1          3.5           1.4          0.2  setosa\n",
       "1           4.9          3.0           1.4          0.2  setosa\n",
       "2           4.7          3.2           1.3          0.2  setosa\n",
       "3           4.6          3.1           1.5          0.2  setosa\n",
       "4           5.0          3.6           1.4          0.2  setosa"
      ]
     },
     "execution_count": 1,
     "metadata": {},
     "output_type": "execute_result"
    }
   ],
   "source": [
    "import pandas as pd\n",
    "iris = pd.read_csv('https://raw.githubusercontent.com/mwaskom/seaborn-data/master/iris.csv')\n",
    "iris.head()"
   ]
  },
  {
   "cell_type": "markdown",
   "id": "bdb9ba69",
   "metadata": {},
   "source": [
    "Il codice sopra carica il dataset Iris dal repository Github di Seaborn e lo salva in un DataFrame chiamato iris. Utilizzando la funzione head(), possiamo visualizzare le prime cinque righe del DataFrame."
   ]
  },
  {
   "cell_type": "markdown",
   "id": "ffc6f62e",
   "metadata": {},
   "source": [
    "## Analisi dataset"
   ]
  },
  {
   "cell_type": "markdown",
   "id": "816c4e89",
   "metadata": {},
   "source": [
    "Il dataset Iris è un dataset di classificazione che contiene informazioni su 150 fiori di Iris, ognuno dei quali appartiene a una delle tre specie di Iris (Iris Setosa, Iris Versicolour o Iris Virginica). Il dataset contiene quattro variabili di input (lunghezza del sepalo, larghezza del sepalo, lunghezza del petalo e larghezza del petalo) e una variabile di output (la specie di Iris a cui appartiene il fiore)."
   ]
  },
  {
   "cell_type": "markdown",
   "id": "ac75c282",
   "metadata": {},
   "source": [
    "Possiamo esaminare i tipi di dato delle colonne del dataset utilizzando il metodo dtypes di Pandas:"
   ]
  },
  {
   "cell_type": "code",
   "execution_count": 2,
   "id": "c1f61545",
   "metadata": {},
   "outputs": [
    {
     "name": "stdout",
     "output_type": "stream",
     "text": [
      "sepal_length    float64\n",
      "sepal_width     float64\n",
      "petal_length    float64\n",
      "petal_width     float64\n",
      "species          object\n",
      "dtype: object\n"
     ]
    }
   ],
   "source": [
    "print(iris.dtypes)"
   ]
  },
  {
   "cell_type": "markdown",
   "id": "75eb083f",
   "metadata": {},
   "source": [
    "Come possiamo vedere, le prime quattro colonne (che contengono i dati di input) sono di tipo float64, mentre la quinta colonna (che contiene la variabile di output) è di tipo object. Il tipo object può indicare anche una colonna di dati di tipo stringa."
   ]
  },
  {
   "cell_type": "markdown",
   "id": "a27651a0",
   "metadata": {},
   "source": [
    "Possiamo anche esaminare alcune statistiche di base sulle colonne numeriche del dataset utilizzando il metodo describe:"
   ]
  },
  {
   "cell_type": "code",
   "execution_count": 3,
   "id": "25ace409",
   "metadata": {},
   "outputs": [
    {
     "name": "stdout",
     "output_type": "stream",
     "text": [
      "       sepal_length  sepal_width  petal_length  petal_width\n",
      "count    150.000000   150.000000    150.000000   150.000000\n",
      "mean       5.843333     3.057333      3.758000     1.199333\n",
      "std        0.828066     0.435866      1.765298     0.762238\n",
      "min        4.300000     2.000000      1.000000     0.100000\n",
      "25%        5.100000     2.800000      1.600000     0.300000\n",
      "50%        5.800000     3.000000      4.350000     1.300000\n",
      "75%        6.400000     3.300000      5.100000     1.800000\n",
      "max        7.900000     4.400000      6.900000     2.500000\n"
     ]
    }
   ],
   "source": [
    "print(iris.describe())"
   ]
  },
  {
   "cell_type": "markdown",
   "id": "df28495e",
   "metadata": {},
   "source": [
    "Come possiamo vedere, il metodo describe ci fornisce alcune statistiche di base sulle colonne numeriche del dataset, come la media, la deviazione standard, il valore minimo, il valore massimo e i quartili. Queste statistiche ci aiutano a capire la distribuzione dei dati nel dataset e a individuare eventuali valori anomali."
   ]
  },
  {
   "cell_type": "markdown",
   "id": "b19e06e7",
   "metadata": {},
   "source": [
    "\n",
    "\n",
    "\n",
    "## Elaborazione dati\n",
    "\n",
    "Ora che abbiamo caricato il dataset, possiamo eseguire una serie di analisi sui dati. Ad esempio, possiamo calcolare la media delle lunghezze dei petali per ogni specie di iris, utilizzando il seguente codice:"
   ]
  },
  {
   "cell_type": "code",
   "execution_count": 5,
   "id": "e5c024f9",
   "metadata": {},
   "outputs": [
    {
     "name": "stdout",
     "output_type": "stream",
     "text": [
      "species\n",
      "setosa        1.9\n",
      "versicolor    5.1\n",
      "virginica     6.9\n",
      "Name: petal_length, dtype: float64\n"
     ]
    }
   ],
   "source": [
    "petal_length_means = iris.groupby('species')['petal_length'].max()\n",
    "\n",
    "print(petal_length_means)"
   ]
  },
  {
   "cell_type": "markdown",
   "id": "1eb69381",
   "metadata": {},
   "source": [
    "Il codice sopra raggruppa i dati del dataset per specie di iris utilizzando la funzione groupby(). Quindi, calcola la media delle lunghezze dei petali per ogni specie di iris utilizzando la funzione mean(). Infine, utilizzando la funzione print(), visualizziamo i risultati.\n",
    "\n",
    "Come puoi vedere, Pandas rende l'analisi dei dati molto semplice e intuitiva. Con solo poche righe di codice, siamo riusciti a calcolare la media delle lunghezze dei petali per ogni specie di iris. Questo è solo un esempio delle potenzialità di Pandas nell'ambito della data science.\n",
    "\n",
    "Oltre alla manipolazione dei dati, Pandas offre anche una vasta gamma di funzionalità per la visualizzazione dei dati. Ad esempio, è possibile utilizzare la libreria Matplotlib per creare grafici e visualizzazioni dei dati basati sui DataFrame di Pandas.\n",
    "\n",
    "Ad esempio, possiamo creare un grafico a dispersione dei dati del dataset Iris utilizzando il seguente codice:"
   ]
  },
  {
   "cell_type": "code",
   "execution_count": 6,
   "id": "bf97a8d5",
   "metadata": {},
   "outputs": [
    {
     "data": {
      "image/png": "[encoded data removed]",
      "text/plain": [
       "<Figure size 640x480 with 1 Axes>"
      ]
     },
     "metadata": {},
     "output_type": "display_data"
    }
   ],
   "source": [
    "import matplotlib.pyplot as plt\n",
    "\n",
    "colors = {'setosa':'r', 'versicolor':'g', 'virginica':'b'}\n",
    "\n",
    "for i in range(len(iris['species'].unique())):\n",
    "    species = iris['species'].unique()[i]\n",
    "    x = iris.loc[iris['species']==species]['petal_length']\n",
    "    y = iris.loc[iris['species']==species]['petal_width']\n",
    "    plt.scatter(x, y, c=colors[species], label=species)\n",
    "\n",
    "plt.xlabel('Petal Length')\n",
    "plt.ylabel('Petal Width')\n",
    "plt.title('Iris Dataset')\n",
    "\n",
    "plt.legend()\n",
    "\n",
    "plt.show()"
   ]
  },
  {
   "cell_type": "markdown",
   "id": "f4028097",
   "metadata": {},
   "source": [
    "Il codice sopra crea un grafico a dispersione dei dati del dataset Iris, utilizzando i valori delle lunghezze dei petali e delle larghezze dei petali come coordinate x e y. Il grafico utilizza colori diversi per ogni specie di iris, e include anche una legenda per identificare facilmente ogni specie.\n",
    "\n",
    "Come puoi vedere, Pandas e Matplotlib possono essere utilizzati insieme per creare grafici e visualizzazioni dei dati complessi in modo semplice e intuitivo."
   ]
  },
  {
   "cell_type": "markdown",
   "id": "cd9037d5",
   "metadata": {},
   "source": [
    "## Altri Dataset"
   ]
  },
  {
   "cell_type": "markdown",
   "id": "a8a96e91",
   "metadata": {},
   "source": [
    "Il dataset \"Tips\" contiene informazioni su varie caratteristiche di 244 ricevute in un ristorante, inclusi il totale della spesa, la quantità di mancia e il giorno e l'ora del pasto. Possiamo caricare il dataset utilizzando il seguente codice:"
   ]
  },
  {
   "cell_type": "code",
   "execution_count": 7,
   "id": "682b835a",
   "metadata": {},
   "outputs": [],
   "source": [
    "import pandas as pd\n",
    "\n",
    "tips = pd.read_csv('https://raw.githubusercontent.com/mwaskom/seaborn-data/master/tips.csv')"
   ]
  },
  {
   "cell_type": "code",
   "execution_count": 9,
   "id": "06771003",
   "metadata": {},
   "outputs": [
    {
     "data": {
      "text/html": [
       "<div>\n",
       "<style scoped>\n",
       "    .dataframe tbody tr th:only-of-type {\n",
       "        vertical-align: middle;\n",
       "    }\n",
       "\n",
       "    .dataframe tbody tr th {\n",
       "        vertical-align: top;\n",
       "    }\n",
       "\n",
       "    .dataframe thead th {\n",
       "        text-align: right;\n",
       "    }\n",
       "</style>\n",
       "<table border=\"1\" class=\"dataframe\">\n",
       "  <thead>\n",
       "    <tr style=\"text-align: right;\">\n",
       "      <th></th>\n",
       "      <th>total_bill</th>\n",
       "      <th>tip</th>\n",
       "      <th>sex</th>\n",
       "      <th>smoker</th>\n",
       "      <th>day</th>\n",
       "      <th>time</th>\n",
       "      <th>size</th>\n",
       "    </tr>\n",
       "  </thead>\n",
       "  <tbody>\n",
       "    <tr>\n",
       "      <th>0</th>\n",
       "      <td>16.99</td>\n",
       "      <td>1.01</td>\n",
       "      <td>Female</td>\n",
       "      <td>No</td>\n",
       "      <td>Sun</td>\n",
       "      <td>Dinner</td>\n",
       "      <td>2</td>\n",
       "    </tr>\n",
       "    <tr>\n",
       "      <th>1</th>\n",
       "      <td>10.34</td>\n",
       "      <td>1.66</td>\n",
       "      <td>Male</td>\n",
       "      <td>No</td>\n",
       "      <td>Sun</td>\n",
       "      <td>Dinner</td>\n",
       "      <td>3</td>\n",
       "    </tr>\n",
       "    <tr>\n",
       "      <th>2</th>\n",
       "      <td>21.01</td>\n",
       "      <td>3.50</td>\n",
       "      <td>Male</td>\n",
       "      <td>No</td>\n",
       "      <td>Sun</td>\n",
       "      <td>Dinner</td>\n",
       "      <td>3</td>\n",
       "    </tr>\n",
       "    <tr>\n",
       "      <th>3</th>\n",
       "      <td>23.68</td>\n",
       "      <td>3.31</td>\n",
       "      <td>Male</td>\n",
       "      <td>No</td>\n",
       "      <td>Sun</td>\n",
       "      <td>Dinner</td>\n",
       "      <td>2</td>\n",
       "    </tr>\n",
       "    <tr>\n",
       "      <th>4</th>\n",
       "      <td>24.59</td>\n",
       "      <td>3.61</td>\n",
       "      <td>Female</td>\n",
       "      <td>No</td>\n",
       "      <td>Sun</td>\n",
       "      <td>Dinner</td>\n",
       "      <td>4</td>\n",
       "    </tr>\n",
       "  </tbody>\n",
       "</table>\n",
       "</div>"
      ],
      "text/plain": [
       "   total_bill   tip     sex smoker  day    time  size\n",
       "0       16.99  1.01  Female     No  Sun  Dinner     2\n",
       "1       10.34  1.66    Male     No  Sun  Dinner     3\n",
       "2       21.01  3.50    Male     No  Sun  Dinner     3\n",
       "3       23.68  3.31    Male     No  Sun  Dinner     2\n",
       "4       24.59  3.61  Female     No  Sun  Dinner     4"
      ]
     },
     "execution_count": 9,
     "metadata": {},
     "output_type": "execute_result"
    }
   ],
   "source": [
    "tips.head()"
   ]
  },
  {
   "cell_type": "markdown",
   "id": "254dc39e",
   "metadata": {},
   "source": [
    "Per selezionare solo alcune colonne del dataset, possiamo utilizzare il metodo loc di Pandas. Ad esempio, per selezionare solo le colonne \"total_bill\" e \"tip\", possiamo utilizzare il seguente codice:"
   ]
  },
  {
   "cell_type": "code",
   "execution_count": 10,
   "id": "df6b7be9",
   "metadata": {},
   "outputs": [
    {
     "name": "stdout",
     "output_type": "stream",
     "text": [
      "   total_bill   tip\n",
      "0       16.99  1.01\n",
      "1       10.34  1.66\n",
      "2       21.01  3.50\n",
      "3       23.68  3.31\n",
      "4       24.59  3.61\n"
     ]
    }
   ],
   "source": [
    "selected_cols = tips.loc[:, ['total_bill', 'tip']]\n",
    "print(selected_cols.head())"
   ]
  },
  {
   "cell_type": "markdown",
   "id": "baac1e08",
   "metadata": {},
   "source": [
    "Per filtrare solo le righe del dataset che soddisfano determinati criteri, possiamo utilizzare il metodo loc di Pandas. Ad esempio, per filtrare solo le righe del dataset che corrispondono a pasti consumati di domenica, possiamo utilizzare il seguente codice:"
   ]
  },
  {
   "cell_type": "code",
   "execution_count": 12,
   "id": "c09b2275",
   "metadata": {},
   "outputs": [
    {
     "data": {
      "text/html": [
       "<div>\n",
       "<style scoped>\n",
       "    .dataframe tbody tr th:only-of-type {\n",
       "        vertical-align: middle;\n",
       "    }\n",
       "\n",
       "    .dataframe tbody tr th {\n",
       "        vertical-align: top;\n",
       "    }\n",
       "\n",
       "    .dataframe thead th {\n",
       "        text-align: right;\n",
       "    }\n",
       "</style>\n",
       "<table border=\"1\" class=\"dataframe\">\n",
       "  <thead>\n",
       "    <tr style=\"text-align: right;\">\n",
       "      <th></th>\n",
       "      <th>total_bill</th>\n",
       "      <th>tip</th>\n",
       "      <th>sex</th>\n",
       "      <th>smoker</th>\n",
       "      <th>day</th>\n",
       "      <th>time</th>\n",
       "      <th>size</th>\n",
       "    </tr>\n",
       "  </thead>\n",
       "  <tbody>\n",
       "    <tr>\n",
       "      <th>0</th>\n",
       "      <td>16.99</td>\n",
       "      <td>1.01</td>\n",
       "      <td>Female</td>\n",
       "      <td>No</td>\n",
       "      <td>Sun</td>\n",
       "      <td>Dinner</td>\n",
       "      <td>2</td>\n",
       "    </tr>\n",
       "    <tr>\n",
       "      <th>1</th>\n",
       "      <td>10.34</td>\n",
       "      <td>1.66</td>\n",
       "      <td>Male</td>\n",
       "      <td>No</td>\n",
       "      <td>Sun</td>\n",
       "      <td>Dinner</td>\n",
       "      <td>3</td>\n",
       "    </tr>\n",
       "    <tr>\n",
       "      <th>2</th>\n",
       "      <td>21.01</td>\n",
       "      <td>3.50</td>\n",
       "      <td>Male</td>\n",
       "      <td>No</td>\n",
       "      <td>Sun</td>\n",
       "      <td>Dinner</td>\n",
       "      <td>3</td>\n",
       "    </tr>\n",
       "    <tr>\n",
       "      <th>3</th>\n",
       "      <td>23.68</td>\n",
       "      <td>3.31</td>\n",
       "      <td>Male</td>\n",
       "      <td>No</td>\n",
       "      <td>Sun</td>\n",
       "      <td>Dinner</td>\n",
       "      <td>2</td>\n",
       "    </tr>\n",
       "    <tr>\n",
       "      <th>4</th>\n",
       "      <td>24.59</td>\n",
       "      <td>3.61</td>\n",
       "      <td>Female</td>\n",
       "      <td>No</td>\n",
       "      <td>Sun</td>\n",
       "      <td>Dinner</td>\n",
       "      <td>4</td>\n",
       "    </tr>\n",
       "  </tbody>\n",
       "</table>\n",
       "</div>"
      ],
      "text/plain": [
       "   total_bill   tip     sex smoker  day    time  size\n",
       "0       16.99  1.01  Female     No  Sun  Dinner     2\n",
       "1       10.34  1.66    Male     No  Sun  Dinner     3\n",
       "2       21.01  3.50    Male     No  Sun  Dinner     3\n",
       "3       23.68  3.31    Male     No  Sun  Dinner     2\n",
       "4       24.59  3.61  Female     No  Sun  Dinner     4"
      ]
     },
     "execution_count": 12,
     "metadata": {},
     "output_type": "execute_result"
    }
   ],
   "source": [
    "sunday_meals = tips.loc[tips['day'] == 'Sun']\n",
    "sunday_meals.head()"
   ]
  },
  {
   "cell_type": "markdown",
   "id": "657e887b",
   "metadata": {},
   "source": [
    "Invece, se vogliamo filtrare solo le righe del dataset che hanno un valore di mancia superiore a $5, possiamo utilizzare il seguente codice:"
   ]
  },
  {
   "cell_type": "markdown",
   "id": "b2b6f17d",
   "metadata": {},
   "source": [
    "- | -> operatore logico OR\n",
    "- & -> operatore logico AND"
   ]
  },
  {
   "cell_type": "code",
   "execution_count": 20,
   "id": "389e449b",
   "metadata": {},
   "outputs": [
    {
     "data": {
      "text/html": [
       "<div>\n",
       "<style scoped>\n",
       "    .dataframe tbody tr th:only-of-type {\n",
       "        vertical-align: middle;\n",
       "    }\n",
       "\n",
       "    .dataframe tbody tr th {\n",
       "        vertical-align: top;\n",
       "    }\n",
       "\n",
       "    .dataframe thead th {\n",
       "        text-align: right;\n",
       "    }\n",
       "</style>\n",
       "<table border=\"1\" class=\"dataframe\">\n",
       "  <thead>\n",
       "    <tr style=\"text-align: right;\">\n",
       "      <th></th>\n",
       "      <th>total_bill</th>\n",
       "      <th>tip</th>\n",
       "      <th>sex</th>\n",
       "      <th>smoker</th>\n",
       "      <th>day</th>\n",
       "      <th>time</th>\n",
       "      <th>size</th>\n",
       "    </tr>\n",
       "  </thead>\n",
       "  <tbody>\n",
       "    <tr>\n",
       "      <th>1</th>\n",
       "      <td>10.34</td>\n",
       "      <td>1.66</td>\n",
       "      <td>Male</td>\n",
       "      <td>No</td>\n",
       "      <td>Sun</td>\n",
       "      <td>Dinner</td>\n",
       "      <td>3</td>\n",
       "    </tr>\n",
       "    <tr>\n",
       "      <th>2</th>\n",
       "      <td>21.01</td>\n",
       "      <td>3.50</td>\n",
       "      <td>Male</td>\n",
       "      <td>No</td>\n",
       "      <td>Sun</td>\n",
       "      <td>Dinner</td>\n",
       "      <td>3</td>\n",
       "    </tr>\n",
       "    <tr>\n",
       "      <th>3</th>\n",
       "      <td>23.68</td>\n",
       "      <td>3.31</td>\n",
       "      <td>Male</td>\n",
       "      <td>No</td>\n",
       "      <td>Sun</td>\n",
       "      <td>Dinner</td>\n",
       "      <td>2</td>\n",
       "    </tr>\n",
       "    <tr>\n",
       "      <th>5</th>\n",
       "      <td>25.29</td>\n",
       "      <td>4.71</td>\n",
       "      <td>Male</td>\n",
       "      <td>No</td>\n",
       "      <td>Sun</td>\n",
       "      <td>Dinner</td>\n",
       "      <td>4</td>\n",
       "    </tr>\n",
       "    <tr>\n",
       "      <th>6</th>\n",
       "      <td>8.77</td>\n",
       "      <td>2.00</td>\n",
       "      <td>Male</td>\n",
       "      <td>No</td>\n",
       "      <td>Sun</td>\n",
       "      <td>Dinner</td>\n",
       "      <td>2</td>\n",
       "    </tr>\n",
       "  </tbody>\n",
       "</table>\n",
       "</div>"
      ],
      "text/plain": [
       "   total_bill   tip   sex smoker  day    time  size\n",
       "1       10.34  1.66  Male     No  Sun  Dinner     3\n",
       "2       21.01  3.50  Male     No  Sun  Dinner     3\n",
       "3       23.68  3.31  Male     No  Sun  Dinner     2\n",
       "5       25.29  4.71  Male     No  Sun  Dinner     4\n",
       "6        8.77  2.00  Male     No  Sun  Dinner     2"
      ]
     },
     "execution_count": 20,
     "metadata": {},
     "output_type": "execute_result"
    }
   ],
   "source": [
    "big_tips = tips.loc[(tips['tip'] > 5) | (tips['sex'] == 'Male')]\n",
    "big_tips.head()"
   ]
  },
  {
   "cell_type": "markdown",
   "id": "cec4e35e",
   "metadata": {},
   "source": [
    "Per selezionare solo alcune righe e colonne del dataset, possiamo utilizzare il metodo iloc di Pandas. Ad esempio, per selezionare le prime 5 righe e le prime 2 colonne del dataset,possiamo utilizzare il seguente codice:"
   ]
  },
  {
   "cell_type": "code",
   "execution_count": 40,
   "id": "274f4ed1",
   "metadata": {},
   "outputs": [
    {
     "ename": "TypeError",
     "evalue": "cannot do slice indexing on Index with these indexers [2] of type int",
     "output_type": "error",
     "traceback": [
      "\u001b[0;31m---------------------------------------------------------------------------\u001b[0m",
      "\u001b[0;31mTypeError\u001b[0m                                 Traceback (most recent call last)",
      "Cell \u001b[0;32mIn[40], line 1\u001b[0m\n\u001b[0;32m----> 1\u001b[0m subset \u001b[38;5;241m=\u001b[39m \u001b[43mtips\u001b[49m\u001b[38;5;241;43m.\u001b[39;49m\u001b[43mloc\u001b[49m\u001b[43m[\u001b[49m\u001b[43m:\u001b[49m\u001b[38;5;241;43m5\u001b[39;49m\u001b[43m,\u001b[49m\u001b[43m \u001b[49m\u001b[43m:\u001b[49m\u001b[38;5;241;43m2\u001b[39;49m\u001b[43m]\u001b[49m\n\u001b[1;32m      2\u001b[0m subset\n",
      "File \u001b[0;32m/Users/ecorvaabc/miniforge3/lib/python3.9/site-packages/pandas/core/indexing.py:961\u001b[0m, in \u001b[0;36m_LocationIndexer.__getitem__\u001b[0;34m(self, key)\u001b[0m\n\u001b[1;32m    959\u001b[0m     \u001b[38;5;28;01mif\u001b[39;00m \u001b[38;5;28mself\u001b[39m\u001b[38;5;241m.\u001b[39m_is_scalar_access(key):\n\u001b[1;32m    960\u001b[0m         \u001b[38;5;28;01mreturn\u001b[39;00m \u001b[38;5;28mself\u001b[39m\u001b[38;5;241m.\u001b[39mobj\u001b[38;5;241m.\u001b[39m_get_value(\u001b[38;5;241m*\u001b[39mkey, takeable\u001b[38;5;241m=\u001b[39m\u001b[38;5;28mself\u001b[39m\u001b[38;5;241m.\u001b[39m_takeable)\n\u001b[0;32m--> 961\u001b[0m     \u001b[38;5;28;01mreturn\u001b[39;00m \u001b[38;5;28;43mself\u001b[39;49m\u001b[38;5;241;43m.\u001b[39;49m\u001b[43m_getitem_tuple\u001b[49m\u001b[43m(\u001b[49m\u001b[43mkey\u001b[49m\u001b[43m)\u001b[49m\n\u001b[1;32m    962\u001b[0m \u001b[38;5;28;01melse\u001b[39;00m:\n\u001b[1;32m    963\u001b[0m     \u001b[38;5;66;03m# we by definition only have the 0th axis\u001b[39;00m\n\u001b[1;32m    964\u001b[0m     axis \u001b[38;5;241m=\u001b[39m \u001b[38;5;28mself\u001b[39m\u001b[38;5;241m.\u001b[39maxis \u001b[38;5;129;01mor\u001b[39;00m \u001b[38;5;241m0\u001b[39m\n",
      "File \u001b[0;32m/Users/ecorvaabc/miniforge3/lib/python3.9/site-packages/pandas/core/indexing.py:1149\u001b[0m, in \u001b[0;36m_LocIndexer._getitem_tuple\u001b[0;34m(self, tup)\u001b[0m\n\u001b[1;32m   1146\u001b[0m \u001b[38;5;28;01mif\u001b[39;00m \u001b[38;5;28mself\u001b[39m\u001b[38;5;241m.\u001b[39m_multi_take_opportunity(tup):\n\u001b[1;32m   1147\u001b[0m     \u001b[38;5;28;01mreturn\u001b[39;00m \u001b[38;5;28mself\u001b[39m\u001b[38;5;241m.\u001b[39m_multi_take(tup)\n\u001b[0;32m-> 1149\u001b[0m \u001b[38;5;28;01mreturn\u001b[39;00m \u001b[38;5;28;43mself\u001b[39;49m\u001b[38;5;241;43m.\u001b[39;49m\u001b[43m_getitem_tuple_same_dim\u001b[49m\u001b[43m(\u001b[49m\u001b[43mtup\u001b[49m\u001b[43m)\u001b[49m\n",
      "File \u001b[0;32m/Users/ecorvaabc/miniforge3/lib/python3.9/site-packages/pandas/core/indexing.py:827\u001b[0m, in \u001b[0;36m_LocationIndexer._getitem_tuple_same_dim\u001b[0;34m(self, tup)\u001b[0m\n\u001b[1;32m    824\u001b[0m \u001b[38;5;28;01mif\u001b[39;00m com\u001b[38;5;241m.\u001b[39mis_null_slice(key):\n\u001b[1;32m    825\u001b[0m     \u001b[38;5;28;01mcontinue\u001b[39;00m\n\u001b[0;32m--> 827\u001b[0m retval \u001b[38;5;241m=\u001b[39m \u001b[38;5;28;43mgetattr\u001b[39;49m\u001b[43m(\u001b[49m\u001b[43mretval\u001b[49m\u001b[43m,\u001b[49m\u001b[43m \u001b[49m\u001b[38;5;28;43mself\u001b[39;49m\u001b[38;5;241;43m.\u001b[39;49m\u001b[43mname\u001b[49m\u001b[43m)\u001b[49m\u001b[38;5;241;43m.\u001b[39;49m\u001b[43m_getitem_axis\u001b[49m\u001b[43m(\u001b[49m\u001b[43mkey\u001b[49m\u001b[43m,\u001b[49m\u001b[43m \u001b[49m\u001b[43maxis\u001b[49m\u001b[38;5;241;43m=\u001b[39;49m\u001b[43mi\u001b[49m\u001b[43m)\u001b[49m\n\u001b[1;32m    828\u001b[0m \u001b[38;5;66;03m# We should never have retval.ndim < self.ndim, as that should\u001b[39;00m\n\u001b[1;32m    829\u001b[0m \u001b[38;5;66;03m#  be handled by the _getitem_lowerdim call above.\u001b[39;00m\n\u001b[1;32m    830\u001b[0m \u001b[38;5;28;01massert\u001b[39;00m retval\u001b[38;5;241m.\u001b[39mndim \u001b[38;5;241m==\u001b[39m \u001b[38;5;28mself\u001b[39m\u001b[38;5;241m.\u001b[39mndim\n",
      "File \u001b[0;32m/Users/ecorvaabc/miniforge3/lib/python3.9/site-packages/pandas/core/indexing.py:1180\u001b[0m, in \u001b[0;36m_LocIndexer._getitem_axis\u001b[0;34m(self, key, axis)\u001b[0m\n\u001b[1;32m   1178\u001b[0m \u001b[38;5;28;01mif\u001b[39;00m \u001b[38;5;28misinstance\u001b[39m(key, \u001b[38;5;28mslice\u001b[39m):\n\u001b[1;32m   1179\u001b[0m     \u001b[38;5;28mself\u001b[39m\u001b[38;5;241m.\u001b[39m_validate_key(key, axis)\n\u001b[0;32m-> 1180\u001b[0m     \u001b[38;5;28;01mreturn\u001b[39;00m \u001b[38;5;28;43mself\u001b[39;49m\u001b[38;5;241;43m.\u001b[39;49m\u001b[43m_get_slice_axis\u001b[49m\u001b[43m(\u001b[49m\u001b[43mkey\u001b[49m\u001b[43m,\u001b[49m\u001b[43m \u001b[49m\u001b[43maxis\u001b[49m\u001b[38;5;241;43m=\u001b[39;49m\u001b[43maxis\u001b[49m\u001b[43m)\u001b[49m\n\u001b[1;32m   1181\u001b[0m \u001b[38;5;28;01melif\u001b[39;00m com\u001b[38;5;241m.\u001b[39mis_bool_indexer(key):\n\u001b[1;32m   1182\u001b[0m     \u001b[38;5;28;01mreturn\u001b[39;00m \u001b[38;5;28mself\u001b[39m\u001b[38;5;241m.\u001b[39m_getbool_axis(key, axis\u001b[38;5;241m=\u001b[39maxis)\n",
      "File \u001b[0;32m/Users/ecorvaabc/miniforge3/lib/python3.9/site-packages/pandas/core/indexing.py:1214\u001b[0m, in \u001b[0;36m_LocIndexer._get_slice_axis\u001b[0;34m(self, slice_obj, axis)\u001b[0m\n\u001b[1;32m   1211\u001b[0m     \u001b[38;5;28;01mreturn\u001b[39;00m obj\u001b[38;5;241m.\u001b[39mcopy(deep\u001b[38;5;241m=\u001b[39m\u001b[38;5;28;01mFalse\u001b[39;00m)\n\u001b[1;32m   1213\u001b[0m labels \u001b[38;5;241m=\u001b[39m obj\u001b[38;5;241m.\u001b[39m_get_axis(axis)\n\u001b[0;32m-> 1214\u001b[0m indexer \u001b[38;5;241m=\u001b[39m \u001b[43mlabels\u001b[49m\u001b[38;5;241;43m.\u001b[39;49m\u001b[43mslice_indexer\u001b[49m\u001b[43m(\u001b[49m\u001b[43mslice_obj\u001b[49m\u001b[38;5;241;43m.\u001b[39;49m\u001b[43mstart\u001b[49m\u001b[43m,\u001b[49m\u001b[43m \u001b[49m\u001b[43mslice_obj\u001b[49m\u001b[38;5;241;43m.\u001b[39;49m\u001b[43mstop\u001b[49m\u001b[43m,\u001b[49m\u001b[43m \u001b[49m\u001b[43mslice_obj\u001b[49m\u001b[38;5;241;43m.\u001b[39;49m\u001b[43mstep\u001b[49m\u001b[43m)\u001b[49m\n\u001b[1;32m   1216\u001b[0m \u001b[38;5;28;01mif\u001b[39;00m \u001b[38;5;28misinstance\u001b[39m(indexer, \u001b[38;5;28mslice\u001b[39m):\n\u001b[1;32m   1217\u001b[0m     \u001b[38;5;28;01mreturn\u001b[39;00m \u001b[38;5;28mself\u001b[39m\u001b[38;5;241m.\u001b[39mobj\u001b[38;5;241m.\u001b[39m_slice(indexer, axis\u001b[38;5;241m=\u001b[39maxis)\n",
      "File \u001b[0;32m/Users/ecorvaabc/miniforge3/lib/python3.9/site-packages/pandas/core/indexes/base.py:6274\u001b[0m, in \u001b[0;36mIndex.slice_indexer\u001b[0;34m(self, start, end, step, kind)\u001b[0m\n\u001b[1;32m   6231\u001b[0m \u001b[38;5;250m\u001b[39m\u001b[38;5;124;03m\"\"\"\u001b[39;00m\n\u001b[1;32m   6232\u001b[0m \u001b[38;5;124;03mCompute the slice indexer for input labels and step.\u001b[39;00m\n\u001b[1;32m   6233\u001b[0m \n\u001b[0;32m   (...)\u001b[0m\n\u001b[1;32m   6270\u001b[0m \u001b[38;5;124;03mslice(1, 3, None)\u001b[39;00m\n\u001b[1;32m   6271\u001b[0m \u001b[38;5;124;03m\"\"\"\u001b[39;00m\n\u001b[1;32m   6272\u001b[0m \u001b[38;5;28mself\u001b[39m\u001b[38;5;241m.\u001b[39m_deprecated_arg(kind, \u001b[38;5;124m\"\u001b[39m\u001b[38;5;124mkind\u001b[39m\u001b[38;5;124m\"\u001b[39m, \u001b[38;5;124m\"\u001b[39m\u001b[38;5;124mslice_indexer\u001b[39m\u001b[38;5;124m\"\u001b[39m)\n\u001b[0;32m-> 6274\u001b[0m start_slice, end_slice \u001b[38;5;241m=\u001b[39m \u001b[38;5;28;43mself\u001b[39;49m\u001b[38;5;241;43m.\u001b[39;49m\u001b[43mslice_locs\u001b[49m\u001b[43m(\u001b[49m\u001b[43mstart\u001b[49m\u001b[43m,\u001b[49m\u001b[43m \u001b[49m\u001b[43mend\u001b[49m\u001b[43m,\u001b[49m\u001b[43m \u001b[49m\u001b[43mstep\u001b[49m\u001b[38;5;241;43m=\u001b[39;49m\u001b[43mstep\u001b[49m\u001b[43m)\u001b[49m\n\u001b[1;32m   6276\u001b[0m \u001b[38;5;66;03m# return a slice\u001b[39;00m\n\u001b[1;32m   6277\u001b[0m \u001b[38;5;28;01mif\u001b[39;00m \u001b[38;5;129;01mnot\u001b[39;00m is_scalar(start_slice):\n",
      "File \u001b[0;32m/Users/ecorvaabc/miniforge3/lib/python3.9/site-packages/pandas/core/indexes/base.py:6490\u001b[0m, in \u001b[0;36mIndex.slice_locs\u001b[0;34m(self, start, end, step, kind)\u001b[0m\n\u001b[1;32m   6488\u001b[0m end_slice \u001b[38;5;241m=\u001b[39m \u001b[38;5;28;01mNone\u001b[39;00m\n\u001b[1;32m   6489\u001b[0m \u001b[38;5;28;01mif\u001b[39;00m end \u001b[38;5;129;01mis\u001b[39;00m \u001b[38;5;129;01mnot\u001b[39;00m \u001b[38;5;28;01mNone\u001b[39;00m:\n\u001b[0;32m-> 6490\u001b[0m     end_slice \u001b[38;5;241m=\u001b[39m \u001b[38;5;28;43mself\u001b[39;49m\u001b[38;5;241;43m.\u001b[39;49m\u001b[43mget_slice_bound\u001b[49m\u001b[43m(\u001b[49m\u001b[43mend\u001b[49m\u001b[43m,\u001b[49m\u001b[43m \u001b[49m\u001b[38;5;124;43m\"\u001b[39;49m\u001b[38;5;124;43mright\u001b[39;49m\u001b[38;5;124;43m\"\u001b[39;49m\u001b[43m)\u001b[49m\n\u001b[1;32m   6491\u001b[0m \u001b[38;5;28;01mif\u001b[39;00m end_slice \u001b[38;5;129;01mis\u001b[39;00m \u001b[38;5;28;01mNone\u001b[39;00m:\n\u001b[1;32m   6492\u001b[0m     end_slice \u001b[38;5;241m=\u001b[39m \u001b[38;5;28mlen\u001b[39m(\u001b[38;5;28mself\u001b[39m)\n",
      "File \u001b[0;32m/Users/ecorvaabc/miniforge3/lib/python3.9/site-packages/pandas/core/indexes/base.py:6393\u001b[0m, in \u001b[0;36mIndex.get_slice_bound\u001b[0;34m(self, label, side, kind)\u001b[0m\n\u001b[1;32m   6389\u001b[0m original_label \u001b[38;5;241m=\u001b[39m label\n\u001b[1;32m   6391\u001b[0m \u001b[38;5;66;03m# For datetime indices label may be a string that has to be converted\u001b[39;00m\n\u001b[1;32m   6392\u001b[0m \u001b[38;5;66;03m# to datetime boundary according to its resolution.\u001b[39;00m\n\u001b[0;32m-> 6393\u001b[0m label \u001b[38;5;241m=\u001b[39m \u001b[38;5;28;43mself\u001b[39;49m\u001b[38;5;241;43m.\u001b[39;49m\u001b[43m_maybe_cast_slice_bound\u001b[49m\u001b[43m(\u001b[49m\u001b[43mlabel\u001b[49m\u001b[43m,\u001b[49m\u001b[43m \u001b[49m\u001b[43mside\u001b[49m\u001b[43m)\u001b[49m\n\u001b[1;32m   6395\u001b[0m \u001b[38;5;66;03m# we need to look up the label\u001b[39;00m\n\u001b[1;32m   6396\u001b[0m \u001b[38;5;28;01mtry\u001b[39;00m:\n",
      "File \u001b[0;32m/Users/ecorvaabc/miniforge3/lib/python3.9/site-packages/pandas/core/indexes/base.py:6340\u001b[0m, in \u001b[0;36mIndex._maybe_cast_slice_bound\u001b[0;34m(self, label, side, kind)\u001b[0m\n\u001b[1;32m   6335\u001b[0m \u001b[38;5;66;03m# We are a plain index here (sub-class override this method if they\u001b[39;00m\n\u001b[1;32m   6336\u001b[0m \u001b[38;5;66;03m# wish to have special treatment for floats/ints, e.g. Float64Index and\u001b[39;00m\n\u001b[1;32m   6337\u001b[0m \u001b[38;5;66;03m# datetimelike Indexes\u001b[39;00m\n\u001b[1;32m   6338\u001b[0m \u001b[38;5;66;03m# reject them, if index does not contain label\u001b[39;00m\n\u001b[1;32m   6339\u001b[0m \u001b[38;5;28;01mif\u001b[39;00m (is_float(label) \u001b[38;5;129;01mor\u001b[39;00m is_integer(label)) \u001b[38;5;129;01mand\u001b[39;00m label \u001b[38;5;129;01mnot\u001b[39;00m \u001b[38;5;129;01min\u001b[39;00m \u001b[38;5;28mself\u001b[39m:\n\u001b[0;32m-> 6340\u001b[0m     \u001b[38;5;28;01mraise\u001b[39;00m \u001b[38;5;28mself\u001b[39m\u001b[38;5;241m.\u001b[39m_invalid_indexer(\u001b[38;5;124m\"\u001b[39m\u001b[38;5;124mslice\u001b[39m\u001b[38;5;124m\"\u001b[39m, label)\n\u001b[1;32m   6342\u001b[0m \u001b[38;5;28;01mreturn\u001b[39;00m label\n",
      "\u001b[0;31mTypeError\u001b[0m: cannot do slice indexing on Index with these indexers [2] of type int"
     ]
    }
   ],
   "source": [
    "subset = tips.iloc[:5, :2]\n",
    "subset"
   ]
  },
  {
   "cell_type": "markdown",
   "id": "ff859fbf",
   "metadata": {},
   "source": [
    "Per gestire i valori mancanti nel dataset, possiamo utilizzare il metodo dropna di Pandas per eliminare le righe o le colonne che contengono valori mancanti, oppure il metodo fillna per sostituire i valori mancanti con un valore specifico. Ad esempio, se volessimo eliminare le righe che contengono valori mancanti nel dataset, possiamo utilizzare il seguente codice:"
   ]
  },
  {
   "cell_type": "code",
   "execution_count": 24,
   "id": "307f3ce0",
   "metadata": {},
   "outputs": [],
   "source": [
    "tips.dropna(inplace = True)"
   ]
  },
  {
   "cell_type": "markdown",
   "id": "e5c883f3",
   "metadata": {},
   "source": [
    "Invece, se volessimo sostituire i valori mancanti con il valore medio della colonna corrispondente, possiamo utilizzare il seguente codice:"
   ]
  },
  {
   "cell_type": "markdown",
   "id": "aefd71c1",
   "metadata": {},
   "source": [
    "Infine, è possibile utilizzare le \"Series\" di Pandas, che sono oggetti simili a array unidimensionali, per manipolare e analizzare dati in modo efficiente. Ad esempio, per selezionare la colonna \"total_bill\" del dataset \"Tips\" come una serie, possiamo utilizzare il seguente codice:"
   ]
  },
  {
   "cell_type": "code",
   "execution_count": 25,
   "id": "74fa3855",
   "metadata": {},
   "outputs": [
    {
     "name": "stdout",
     "output_type": "stream",
     "text": [
      "0    16.99\n",
      "1    10.34\n",
      "2    21.01\n",
      "3    23.68\n",
      "4    24.59\n",
      "Name: total_bill, dtype: float64\n"
     ]
    }
   ],
   "source": [
    "total_bill_series = tips['total_bill']\n",
    "print(total_bill_series.head())\n"
   ]
  },
  {
   "cell_type": "markdown",
   "id": "cb0daf19",
   "metadata": {},
   "source": [
    "### Operazioni sulle colonne"
   ]
  },
  {
   "cell_type": "code",
   "execution_count": 26,
   "id": "3a9805d4",
   "metadata": {},
   "outputs": [
    {
     "data": {
      "text/html": [
       "<div>\n",
       "<style scoped>\n",
       "    .dataframe tbody tr th:only-of-type {\n",
       "        vertical-align: middle;\n",
       "    }\n",
       "\n",
       "    .dataframe tbody tr th {\n",
       "        vertical-align: top;\n",
       "    }\n",
       "\n",
       "    .dataframe thead th {\n",
       "        text-align: right;\n",
       "    }\n",
       "</style>\n",
       "<table border=\"1\" class=\"dataframe\">\n",
       "  <thead>\n",
       "    <tr style=\"text-align: right;\">\n",
       "      <th></th>\n",
       "      <th>total_bill</th>\n",
       "      <th>tip</th>\n",
       "      <th>sex</th>\n",
       "      <th>smoker</th>\n",
       "      <th>day</th>\n",
       "      <th>time</th>\n",
       "      <th>size</th>\n",
       "      <th>double_bill</th>\n",
       "    </tr>\n",
       "  </thead>\n",
       "  <tbody>\n",
       "    <tr>\n",
       "      <th>0</th>\n",
       "      <td>16.99</td>\n",
       "      <td>1.01</td>\n",
       "      <td>Female</td>\n",
       "      <td>No</td>\n",
       "      <td>Sun</td>\n",
       "      <td>Dinner</td>\n",
       "      <td>2</td>\n",
       "      <td>33.98</td>\n",
       "    </tr>\n",
       "    <tr>\n",
       "      <th>1</th>\n",
       "      <td>10.34</td>\n",
       "      <td>1.66</td>\n",
       "      <td>Male</td>\n",
       "      <td>No</td>\n",
       "      <td>Sun</td>\n",
       "      <td>Dinner</td>\n",
       "      <td>3</td>\n",
       "      <td>20.68</td>\n",
       "    </tr>\n",
       "    <tr>\n",
       "      <th>2</th>\n",
       "      <td>21.01</td>\n",
       "      <td>3.50</td>\n",
       "      <td>Male</td>\n",
       "      <td>No</td>\n",
       "      <td>Sun</td>\n",
       "      <td>Dinner</td>\n",
       "      <td>3</td>\n",
       "      <td>42.02</td>\n",
       "    </tr>\n",
       "    <tr>\n",
       "      <th>3</th>\n",
       "      <td>23.68</td>\n",
       "      <td>3.31</td>\n",
       "      <td>Male</td>\n",
       "      <td>No</td>\n",
       "      <td>Sun</td>\n",
       "      <td>Dinner</td>\n",
       "      <td>2</td>\n",
       "      <td>47.36</td>\n",
       "    </tr>\n",
       "    <tr>\n",
       "      <th>4</th>\n",
       "      <td>24.59</td>\n",
       "      <td>3.61</td>\n",
       "      <td>Female</td>\n",
       "      <td>No</td>\n",
       "      <td>Sun</td>\n",
       "      <td>Dinner</td>\n",
       "      <td>4</td>\n",
       "      <td>49.18</td>\n",
       "    </tr>\n",
       "    <tr>\n",
       "      <th>...</th>\n",
       "      <td>...</td>\n",
       "      <td>...</td>\n",
       "      <td>...</td>\n",
       "      <td>...</td>\n",
       "      <td>...</td>\n",
       "      <td>...</td>\n",
       "      <td>...</td>\n",
       "      <td>...</td>\n",
       "    </tr>\n",
       "    <tr>\n",
       "      <th>239</th>\n",
       "      <td>29.03</td>\n",
       "      <td>5.92</td>\n",
       "      <td>Male</td>\n",
       "      <td>No</td>\n",
       "      <td>Sat</td>\n",
       "      <td>Dinner</td>\n",
       "      <td>3</td>\n",
       "      <td>58.06</td>\n",
       "    </tr>\n",
       "    <tr>\n",
       "      <th>240</th>\n",
       "      <td>27.18</td>\n",
       "      <td>2.00</td>\n",
       "      <td>Female</td>\n",
       "      <td>Yes</td>\n",
       "      <td>Sat</td>\n",
       "      <td>Dinner</td>\n",
       "      <td>2</td>\n",
       "      <td>54.36</td>\n",
       "    </tr>\n",
       "    <tr>\n",
       "      <th>241</th>\n",
       "      <td>22.67</td>\n",
       "      <td>2.00</td>\n",
       "      <td>Male</td>\n",
       "      <td>Yes</td>\n",
       "      <td>Sat</td>\n",
       "      <td>Dinner</td>\n",
       "      <td>2</td>\n",
       "      <td>45.34</td>\n",
       "    </tr>\n",
       "    <tr>\n",
       "      <th>242</th>\n",
       "      <td>17.82</td>\n",
       "      <td>1.75</td>\n",
       "      <td>Male</td>\n",
       "      <td>No</td>\n",
       "      <td>Sat</td>\n",
       "      <td>Dinner</td>\n",
       "      <td>2</td>\n",
       "      <td>35.64</td>\n",
       "    </tr>\n",
       "    <tr>\n",
       "      <th>243</th>\n",
       "      <td>18.78</td>\n",
       "      <td>3.00</td>\n",
       "      <td>Female</td>\n",
       "      <td>No</td>\n",
       "      <td>Thur</td>\n",
       "      <td>Dinner</td>\n",
       "      <td>2</td>\n",
       "      <td>37.56</td>\n",
       "    </tr>\n",
       "  </tbody>\n",
       "</table>\n",
       "<p>244 rows × 8 columns</p>\n",
       "</div>"
      ],
      "text/plain": [
       "     total_bill   tip     sex smoker   day    time  size  double_bill\n",
       "0         16.99  1.01  Female     No   Sun  Dinner     2        33.98\n",
       "1         10.34  1.66    Male     No   Sun  Dinner     3        20.68\n",
       "2         21.01  3.50    Male     No   Sun  Dinner     3        42.02\n",
       "3         23.68  3.31    Male     No   Sun  Dinner     2        47.36\n",
       "4         24.59  3.61  Female     No   Sun  Dinner     4        49.18\n",
       "..          ...   ...     ...    ...   ...     ...   ...          ...\n",
       "239       29.03  5.92    Male     No   Sat  Dinner     3        58.06\n",
       "240       27.18  2.00  Female    Yes   Sat  Dinner     2        54.36\n",
       "241       22.67  2.00    Male    Yes   Sat  Dinner     2        45.34\n",
       "242       17.82  1.75    Male     No   Sat  Dinner     2        35.64\n",
       "243       18.78  3.00  Female     No  Thur  Dinner     2        37.56\n",
       "\n",
       "[244 rows x 8 columns]"
      ]
     },
     "execution_count": 26,
     "metadata": {},
     "output_type": "execute_result"
    }
   ],
   "source": [
    "# raddoppiamo la colonna total_bill\n",
    "tips['double_bill'] = tips['total_bill']*2\n",
    "tips"
   ]
  },
  {
   "cell_type": "markdown",
   "id": "2e2e3d71",
   "metadata": {},
   "source": [
    "### Esempio merge, concat\n",
    "\n",
    "Supponiamo di avere due DataFrame: uno chiamato df_kw che contiene le informazioni sui consumi di energia dei clienti, e un altro chiamato df_info che contiene le informazioni anagrafiche dei clienti. Possiamo eseguire un merge tra i due DataFrame utilizzando l'ID del cliente come chiave di unione per ottenere un DataFrame combinato che contiene sia le informazioni sui consumi che le informazioni anagrafiche dei clienti."
   ]
  },
  {
   "cell_type": "code",
   "execution_count": 27,
   "id": "197b389f",
   "metadata": {},
   "outputs": [
    {
     "name": "stdout",
     "output_type": "stream",
     "text": [
      "   CustomerID  KwUsed          Name     City  Age\n",
      "0           1    1200   Mario Rossi     Roma   35\n",
      "1           2     800  Luca Bianchi   Milano   28\n",
      "2           3    1500  Giulia Verdi  Firenze   42\n",
      "3           4     600  Roberto Neri  Bologna   39\n",
      "4           5    1000  Laura Gialli   Napoli   45\n"
     ]
    }
   ],
   "source": [
    "# DataFrame con i dati sui consumi energetici dei clienti (df_kw)\n",
    "df_kw = pd.DataFrame({\n",
    "    'CustomerID': [1, 2, 3, 4, 5],\n",
    "    'KwUsed': [1200, 800, 1500, 600, 1000]\n",
    "})\n",
    "\n",
    "# DataFrame con le informazioni anagrafiche dei clienti (df_info)\n",
    "df_info = pd.DataFrame({\n",
    "    'CustomerID': [1, 2, 3, 4, 5],\n",
    "    'Name': ['Mario Rossi', 'Luca Bianchi', 'Giulia Verdi', 'Roberto Neri', 'Laura Gialli'],\n",
    "    'City': ['Roma', 'Milano', 'Firenze', 'Bologna', 'Napoli'],\n",
    "    'Age': [35, 28, 42, 39, 45]\n",
    "})\n",
    "\n",
    "# Eseguire il merge tra i due DataFrame utilizzando l'ID del cliente come chiave di unione\n",
    "df_merged = pd.merge(df_kw, df_info, on='CustomerID')\n",
    "\n",
    "# Stampare il DataFrame combinato\n",
    "print(df_merged)"
   ]
  },
  {
   "cell_type": "code",
   "execution_count": 30,
   "id": "3c0953cd",
   "metadata": {},
   "outputs": [
    {
     "name": "stdout",
     "output_type": "stream",
     "text": [
      "   CustomerID  KwUsed               Name     City  Age\n",
      "0           1    1200        Mario Rossi     Roma   35\n",
      "1           2     800       Luca Bianchi   Milano   28\n",
      "2           3    1500       Giulia Verdi  Firenze   42\n",
      "3           4     600       Roberto Neri  Bologna   39\n",
      "4           5    1000       Laura Gialli   Napoli   45\n",
      "5           6    1100     Giovanni Rossi   Torino   32\n",
      "6           7     900  Francesca Bianchi  Venezia   27\n",
      "7           8    1300        Elisa Verdi   Genova   41\n",
      "8           9     700         Marco Neri  Palermo   37\n",
      "9          10    1200      Simona Gialli     Bari   43\n"
     ]
    }
   ],
   "source": [
    "#DataFrame già mergiato con clienti diversi\n",
    "df_merged_2 = pd.DataFrame({\n",
    "    'CustomerID': [6, 7, 8, 9, 10],\n",
    "    'KwUsed': [1100, 900, 1300, 700, 1200],\n",
    "    'Name': ['Giovanni Rossi', 'Francesca Bianchi', 'Elisa Verdi', 'Marco Neri', 'Simona Gialli'],\n",
    "    'City': ['Torino', 'Venezia', 'Genova', 'Palermo', 'Bari'],\n",
    "    'Age': [32, 27, 41, 37, 43]\n",
    "})\n",
    "\n",
    "# Eseguire il merge tra df_merged e df_merged_2\n",
    "df_merged_final = pd.concat([df_merged, df_merged_2])\n",
    "\n",
    "# Stampare il DataFrame risultante\n",
    "print(df_merged_final.reset_index(drop=True))"
   ]
  },
  {
   "cell_type": "markdown",
   "id": "ca50f5ed",
   "metadata": {},
   "source": [
    "### Altro"
   ]
  },
  {
   "cell_type": "markdown",
   "id": "f8b9b9f7",
   "metadata": {},
   "source": [
    "Ordinamento dei dati: Si può utilizzare il metodo sort_values() per ordinare il DataFrame in base a una o più colonne. Ad esempio, per ordinare il DataFrame in base alla colonna \"KwUsed\" in ordine decrescente:"
   ]
  },
  {
   "cell_type": "code",
   "execution_count": 32,
   "id": "aacc1627",
   "metadata": {},
   "outputs": [
    {
     "data": {
      "text/html": [
       "<div>\n",
       "<style scoped>\n",
       "    .dataframe tbody tr th:only-of-type {\n",
       "        vertical-align: middle;\n",
       "    }\n",
       "\n",
       "    .dataframe tbody tr th {\n",
       "        vertical-align: top;\n",
       "    }\n",
       "\n",
       "    .dataframe thead th {\n",
       "        text-align: right;\n",
       "    }\n",
       "</style>\n",
       "<table border=\"1\" class=\"dataframe\">\n",
       "  <thead>\n",
       "    <tr style=\"text-align: right;\">\n",
       "      <th></th>\n",
       "      <th>CustomerID</th>\n",
       "      <th>KwUsed</th>\n",
       "      <th>Name</th>\n",
       "      <th>City</th>\n",
       "      <th>Age</th>\n",
       "    </tr>\n",
       "  </thead>\n",
       "  <tbody>\n",
       "    <tr>\n",
       "      <th>2</th>\n",
       "      <td>3</td>\n",
       "      <td>1500</td>\n",
       "      <td>Giulia Verdi</td>\n",
       "      <td>Firenze</td>\n",
       "      <td>42</td>\n",
       "    </tr>\n",
       "    <tr>\n",
       "      <th>2</th>\n",
       "      <td>8</td>\n",
       "      <td>1300</td>\n",
       "      <td>Elisa Verdi</td>\n",
       "      <td>Genova</td>\n",
       "      <td>41</td>\n",
       "    </tr>\n",
       "    <tr>\n",
       "      <th>0</th>\n",
       "      <td>1</td>\n",
       "      <td>1200</td>\n",
       "      <td>Mario Rossi</td>\n",
       "      <td>Roma</td>\n",
       "      <td>35</td>\n",
       "    </tr>\n",
       "    <tr>\n",
       "      <th>4</th>\n",
       "      <td>10</td>\n",
       "      <td>1200</td>\n",
       "      <td>Simona Gialli</td>\n",
       "      <td>Bari</td>\n",
       "      <td>43</td>\n",
       "    </tr>\n",
       "    <tr>\n",
       "      <th>0</th>\n",
       "      <td>6</td>\n",
       "      <td>1100</td>\n",
       "      <td>Giovanni Rossi</td>\n",
       "      <td>Torino</td>\n",
       "      <td>32</td>\n",
       "    </tr>\n",
       "    <tr>\n",
       "      <th>4</th>\n",
       "      <td>5</td>\n",
       "      <td>1000</td>\n",
       "      <td>Laura Gialli</td>\n",
       "      <td>Napoli</td>\n",
       "      <td>45</td>\n",
       "    </tr>\n",
       "    <tr>\n",
       "      <th>1</th>\n",
       "      <td>7</td>\n",
       "      <td>900</td>\n",
       "      <td>Francesca Bianchi</td>\n",
       "      <td>Venezia</td>\n",
       "      <td>27</td>\n",
       "    </tr>\n",
       "    <tr>\n",
       "      <th>1</th>\n",
       "      <td>2</td>\n",
       "      <td>800</td>\n",
       "      <td>Luca Bianchi</td>\n",
       "      <td>Milano</td>\n",
       "      <td>28</td>\n",
       "    </tr>\n",
       "    <tr>\n",
       "      <th>3</th>\n",
       "      <td>9</td>\n",
       "      <td>700</td>\n",
       "      <td>Marco Neri</td>\n",
       "      <td>Palermo</td>\n",
       "      <td>37</td>\n",
       "    </tr>\n",
       "    <tr>\n",
       "      <th>3</th>\n",
       "      <td>4</td>\n",
       "      <td>600</td>\n",
       "      <td>Roberto Neri</td>\n",
       "      <td>Bologna</td>\n",
       "      <td>39</td>\n",
       "    </tr>\n",
       "  </tbody>\n",
       "</table>\n",
       "</div>"
      ],
      "text/plain": [
       "   CustomerID  KwUsed               Name     City  Age\n",
       "2           3    1500       Giulia Verdi  Firenze   42\n",
       "2           8    1300        Elisa Verdi   Genova   41\n",
       "0           1    1200        Mario Rossi     Roma   35\n",
       "4          10    1200      Simona Gialli     Bari   43\n",
       "0           6    1100     Giovanni Rossi   Torino   32\n",
       "4           5    1000       Laura Gialli   Napoli   45\n",
       "1           7     900  Francesca Bianchi  Venezia   27\n",
       "1           2     800       Luca Bianchi   Milano   28\n",
       "3           9     700         Marco Neri  Palermo   37\n",
       "3           4     600       Roberto Neri  Bologna   39"
      ]
     },
     "execution_count": 32,
     "metadata": {},
     "output_type": "execute_result"
    }
   ],
   "source": [
    "df_merged_final = df_merged_final.sort_values(by='KwUsed', ascending=False)\n",
    "df_merged_final"
   ]
  },
  {
   "cell_type": "markdown",
   "id": "45c9a206",
   "metadata": {},
   "source": [
    "Eliminazione di colonne: si può utilizzare il metodo drop() per eliminare una o più colonne dal DataFrame. Ad esempio, per eliminare la colonna \"Age\":"
   ]
  },
  {
   "cell_type": "code",
   "execution_count": 33,
   "id": "fcee2d4c",
   "metadata": {},
   "outputs": [],
   "source": [
    "df_modified = df_merged_final.drop('Age', axis=1)\n"
   ]
  },
  {
   "cell_type": "code",
   "execution_count": 35,
   "id": "8c3db17d",
   "metadata": {},
   "outputs": [
    {
     "data": {
      "text/html": [
       "<div>\n",
       "<style scoped>\n",
       "    .dataframe tbody tr th:only-of-type {\n",
       "        vertical-align: middle;\n",
       "    }\n",
       "\n",
       "    .dataframe tbody tr th {\n",
       "        vertical-align: top;\n",
       "    }\n",
       "\n",
       "    .dataframe thead th {\n",
       "        text-align: right;\n",
       "    }\n",
       "</style>\n",
       "<table border=\"1\" class=\"dataframe\">\n",
       "  <thead>\n",
       "    <tr style=\"text-align: right;\">\n",
       "      <th></th>\n",
       "      <th>CustomerID</th>\n",
       "      <th>KwUsed</th>\n",
       "      <th>Name</th>\n",
       "      <th>City</th>\n",
       "      <th>Age</th>\n",
       "    </tr>\n",
       "  </thead>\n",
       "  <tbody>\n",
       "    <tr>\n",
       "      <th>2</th>\n",
       "      <td>3</td>\n",
       "      <td>1500</td>\n",
       "      <td>Giulia Verdi</td>\n",
       "      <td>Firenze</td>\n",
       "      <td>42</td>\n",
       "    </tr>\n",
       "    <tr>\n",
       "      <th>2</th>\n",
       "      <td>8</td>\n",
       "      <td>1300</td>\n",
       "      <td>Elisa Verdi</td>\n",
       "      <td>Genova</td>\n",
       "      <td>41</td>\n",
       "    </tr>\n",
       "    <tr>\n",
       "      <th>0</th>\n",
       "      <td>1</td>\n",
       "      <td>1200</td>\n",
       "      <td>Mario Rossi</td>\n",
       "      <td>Roma</td>\n",
       "      <td>35</td>\n",
       "    </tr>\n",
       "    <tr>\n",
       "      <th>4</th>\n",
       "      <td>10</td>\n",
       "      <td>1200</td>\n",
       "      <td>Simona Gialli</td>\n",
       "      <td>Bari</td>\n",
       "      <td>43</td>\n",
       "    </tr>\n",
       "    <tr>\n",
       "      <th>0</th>\n",
       "      <td>6</td>\n",
       "      <td>1100</td>\n",
       "      <td>Giovanni Rossi</td>\n",
       "      <td>Torino</td>\n",
       "      <td>32</td>\n",
       "    </tr>\n",
       "    <tr>\n",
       "      <th>4</th>\n",
       "      <td>5</td>\n",
       "      <td>1000</td>\n",
       "      <td>Laura Gialli</td>\n",
       "      <td>Napoli</td>\n",
       "      <td>45</td>\n",
       "    </tr>\n",
       "    <tr>\n",
       "      <th>1</th>\n",
       "      <td>7</td>\n",
       "      <td>900</td>\n",
       "      <td>Francesca Bianchi</td>\n",
       "      <td>Venezia</td>\n",
       "      <td>27</td>\n",
       "    </tr>\n",
       "    <tr>\n",
       "      <th>1</th>\n",
       "      <td>2</td>\n",
       "      <td>800</td>\n",
       "      <td>Luca Bianchi</td>\n",
       "      <td>Milano</td>\n",
       "      <td>28</td>\n",
       "    </tr>\n",
       "    <tr>\n",
       "      <th>3</th>\n",
       "      <td>9</td>\n",
       "      <td>700</td>\n",
       "      <td>Marco Neri</td>\n",
       "      <td>Palermo</td>\n",
       "      <td>37</td>\n",
       "    </tr>\n",
       "    <tr>\n",
       "      <th>3</th>\n",
       "      <td>4</td>\n",
       "      <td>600</td>\n",
       "      <td>Roberto Neri</td>\n",
       "      <td>Bologna</td>\n",
       "      <td>39</td>\n",
       "    </tr>\n",
       "  </tbody>\n",
       "</table>\n",
       "</div>"
      ],
      "text/plain": [
       "   CustomerID  KwUsed               Name     City  Age\n",
       "2           3    1500       Giulia Verdi  Firenze   42\n",
       "2           8    1300        Elisa Verdi   Genova   41\n",
       "0           1    1200        Mario Rossi     Roma   35\n",
       "4          10    1200      Simona Gialli     Bari   43\n",
       "0           6    1100     Giovanni Rossi   Torino   32\n",
       "4           5    1000       Laura Gialli   Napoli   45\n",
       "1           7     900  Francesca Bianchi  Venezia   27\n",
       "1           2     800       Luca Bianchi   Milano   28\n",
       "3           9     700         Marco Neri  Palermo   37\n",
       "3           4     600       Roberto Neri  Bologna   39"
      ]
     },
     "execution_count": 35,
     "metadata": {},
     "output_type": "execute_result"
    }
   ],
   "source": [
    "df_merged_final"
   ]
  },
  {
   "cell_type": "markdown",
   "id": "5f661abd",
   "metadata": {},
   "source": [
    "Rinominazione delle colonne: si può utilizzare il metodo rename() per rinominare le colonne del DataFrame. Ad esempio, per rinominare la colonna \"Name\" in \"Full Name\":\n",
    "\n"
   ]
  },
  {
   "cell_type": "code",
   "execution_count": 37,
   "id": "798f6657",
   "metadata": {},
   "outputs": [
    {
     "data": {
      "text/html": [
       "<div>\n",
       "<style scoped>\n",
       "    .dataframe tbody tr th:only-of-type {\n",
       "        vertical-align: middle;\n",
       "    }\n",
       "\n",
       "    .dataframe tbody tr th {\n",
       "        vertical-align: top;\n",
       "    }\n",
       "\n",
       "    .dataframe thead th {\n",
       "        text-align: right;\n",
       "    }\n",
       "</style>\n",
       "<table border=\"1\" class=\"dataframe\">\n",
       "  <thead>\n",
       "    <tr style=\"text-align: right;\">\n",
       "      <th></th>\n",
       "      <th>CustomerID</th>\n",
       "      <th>KwUsed</th>\n",
       "      <th>Full Name</th>\n",
       "      <th>City</th>\n",
       "      <th>Age</th>\n",
       "    </tr>\n",
       "  </thead>\n",
       "  <tbody>\n",
       "    <tr>\n",
       "      <th>2</th>\n",
       "      <td>3</td>\n",
       "      <td>1500</td>\n",
       "      <td>Giulia Verdi</td>\n",
       "      <td>Firenze</td>\n",
       "      <td>42</td>\n",
       "    </tr>\n",
       "    <tr>\n",
       "      <th>2</th>\n",
       "      <td>8</td>\n",
       "      <td>1300</td>\n",
       "      <td>Elisa Verdi</td>\n",
       "      <td>Genova</td>\n",
       "      <td>41</td>\n",
       "    </tr>\n",
       "    <tr>\n",
       "      <th>0</th>\n",
       "      <td>1</td>\n",
       "      <td>1200</td>\n",
       "      <td>Mario Rossi</td>\n",
       "      <td>Roma</td>\n",
       "      <td>35</td>\n",
       "    </tr>\n",
       "    <tr>\n",
       "      <th>4</th>\n",
       "      <td>10</td>\n",
       "      <td>1200</td>\n",
       "      <td>Simona Gialli</td>\n",
       "      <td>Bari</td>\n",
       "      <td>43</td>\n",
       "    </tr>\n",
       "    <tr>\n",
       "      <th>0</th>\n",
       "      <td>6</td>\n",
       "      <td>1100</td>\n",
       "      <td>Giovanni Rossi</td>\n",
       "      <td>Torino</td>\n",
       "      <td>32</td>\n",
       "    </tr>\n",
       "    <tr>\n",
       "      <th>4</th>\n",
       "      <td>5</td>\n",
       "      <td>1000</td>\n",
       "      <td>Laura Gialli</td>\n",
       "      <td>Napoli</td>\n",
       "      <td>45</td>\n",
       "    </tr>\n",
       "    <tr>\n",
       "      <th>1</th>\n",
       "      <td>7</td>\n",
       "      <td>900</td>\n",
       "      <td>Francesca Bianchi</td>\n",
       "      <td>Venezia</td>\n",
       "      <td>27</td>\n",
       "    </tr>\n",
       "    <tr>\n",
       "      <th>1</th>\n",
       "      <td>2</td>\n",
       "      <td>800</td>\n",
       "      <td>Luca Bianchi</td>\n",
       "      <td>Milano</td>\n",
       "      <td>28</td>\n",
       "    </tr>\n",
       "    <tr>\n",
       "      <th>3</th>\n",
       "      <td>9</td>\n",
       "      <td>700</td>\n",
       "      <td>Marco Neri</td>\n",
       "      <td>Palermo</td>\n",
       "      <td>37</td>\n",
       "    </tr>\n",
       "    <tr>\n",
       "      <th>3</th>\n",
       "      <td>4</td>\n",
       "      <td>600</td>\n",
       "      <td>Roberto Neri</td>\n",
       "      <td>Bologna</td>\n",
       "      <td>39</td>\n",
       "    </tr>\n",
       "  </tbody>\n",
       "</table>\n",
       "</div>"
      ],
      "text/plain": [
       "   CustomerID  KwUsed          Full Name     City  Age\n",
       "2           3    1500       Giulia Verdi  Firenze   42\n",
       "2           8    1300        Elisa Verdi   Genova   41\n",
       "0           1    1200        Mario Rossi     Roma   35\n",
       "4          10    1200      Simona Gialli     Bari   43\n",
       "0           6    1100     Giovanni Rossi   Torino   32\n",
       "4           5    1000       Laura Gialli   Napoli   45\n",
       "1           7     900  Francesca Bianchi  Venezia   27\n",
       "1           2     800       Luca Bianchi   Milano   28\n",
       "3           9     700         Marco Neri  Palermo   37\n",
       "3           4     600       Roberto Neri  Bologna   39"
      ]
     },
     "execution_count": 37,
     "metadata": {},
     "output_type": "execute_result"
    }
   ],
   "source": [
    "df_modified = df_merged_final.rename(columns={'Name': 'Full Name'})\n",
    "df_modified"
   ]
  },
  {
   "cell_type": "markdown",
   "id": "039c5e4e",
   "metadata": {},
   "source": [
    "## Extra Parquet\n"
   ]
  },
  {
   "cell_type": "markdown",
   "id": "7b82f777",
   "metadata": {},
   "source": [
    "### Intro parquet e strumenti per leggere i file parquet\n",
    "\n",
    "Pyarrow è una libreria che supporta sia la lettura che la scrittura di file Parquet, un formato di archiviazione ottimizzato per l'elaborazione efficiente di grandi quantità di dati. Il formato Parquet utilizza una struttura di archiviazione colonnare, in cui i dati vengono organizzati in colonne invece che in righe, consentendo una compressione e un accesso più efficiente ai dati.\n",
    "\n",
    "La caratteristica principale del formato Parquet è la sua capacità di gestire dati strutturati e semi-strutturati in modo efficiente. Supporta la compressione dei dati a livello di colonna, riducendo così notevolmente le dimensioni dei file. Inoltre è progettato per essere compatibile con una vasta gamma di sistemi di elaborazione dei dati, tra cui Apache Spark, Apache Hive, Apache Impala e molti altri.\n",
    "\n",
    "L'integrazione di Pyarrow con Pandas è particolarmente utile quando si lavora con file Parquet. Consente di leggere e scrivere file Parquet utilizzando la potenza e la familiarità delle operazioni Pandas. Questo significa che è possibile utilizzare i metodi e le funzionalità di Pandas per manipolare i dati Parquet, semplificando notevolmente il processo di analisi e trasformazione dei dati."
   ]
  },
  {
   "cell_type": "code",
   "execution_count": 39,
   "id": "fb54c554",
   "metadata": {},
   "outputs": [
    {
     "name": "stdout",
     "output_type": "stream",
     "text": [
      "Requirement already satisfied: pyarrow in /Users/andrea.corvaglia/miniforge3/lib/python3.9/site-packages (12.0.0)\r\n",
      "Requirement already satisfied: numpy>=1.16.6 in /Users/andrea.corvaglia/miniforge3/lib/python3.9/site-packages (from pyarrow) (1.22.3)\r\n"
     ]
    }
   ],
   "source": [
    "# è necessario installare pyarrow (alternativamente a pyarrow si può usare fastparquet)\n",
    "# ! conda install -c conda-forge pyarrow\n",
    "# ! pip install pyarrow "
   ]
  },
  {
   "cell_type": "markdown",
   "id": "91f6c8d8",
   "metadata": {},
   "source": [
    "Iniziamo creando un file Parquet con alcuni dati di esempio:"
   ]
  },
  {
   "cell_type": "code",
   "execution_count": null,
   "id": "cb542a06",
   "metadata": {},
   "outputs": [],
   "source": [
    "import pandas as pd\n",
    "\n",
    "# Crea un DataFrame con dati di esempio\n",
    "data = {\n",
    "    'Nome': ['Giovanni', 'Giovanna', 'Michele', 'Sara'],\n",
    "    'Età': [25, 30, 65, 48],\n",
    "    'Città': ['New York', 'Londra', 'Parigi', 'Tokyo']\n",
    "}\n",
    "df = pd.DataFrame(data)\n",
    "\n",
    "# Salva il DataFrame in un file Parquet\n",
    "df.to_parquet('dati_di_esempio.parquet')\n"
   ]
  },
  {
   "cell_type": "markdown",
   "id": "2dab570c",
   "metadata": {},
   "source": [
    "Successivamente, leggiamo il file Parquet utilizzando pandas:"
   ]
  },
  {
   "cell_type": "code",
   "execution_count": null,
   "id": "7065816f",
   "metadata": {},
   "outputs": [],
   "source": [
    "# Leggi il file Parquet in un DataFrame\n",
    "df_letto = pd.read_parquet('dati_di_esempio.parquet')\n",
    "\n",
    "# Mostra il DataFrame\n",
    "print(df_letto)\n"
   ]
  }
 ],
 "metadata": {
  "kernelspec": {
   "display_name": "Python 3 (ipykernel)",
   "language": "python",
   "name": "python3"
  },
  "language_info": {
   "codemirror_mode": {
    "name": "ipython",
    "version": 3
   },
   "file_extension": ".py",
   "mimetype": "text/x-python",
   "name": "python",
   "nbconvert_exporter": "python",
   "pygments_lexer": "ipython3",
   "version": "3.9.15"
  }
 },
 "nbformat": 4,
 "nbformat_minor": 5
}

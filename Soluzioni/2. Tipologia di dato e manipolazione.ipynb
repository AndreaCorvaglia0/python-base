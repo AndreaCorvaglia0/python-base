{
 "cells": [
  {
   "cell_type": "markdown",
   "id": "6df0aaa7",
   "metadata": {},
   "source": [
    "### Esercizio 1:\n",
    "\n",
    "Inverti una lista di numeri."
   ]
  },
  {
   "cell_type": "code",
   "execution_count": 1,
   "id": "b6cf6134",
   "metadata": {},
   "outputs": [],
   "source": [
    "lista = [1,2,3,4,5]\n",
    "\n",
    "lista_invertita = lista[::-1]"
   ]
  },
  {
   "cell_type": "markdown",
   "id": "1e76c38f",
   "metadata": {},
   "source": [
    "### Esercizio 2:\n",
    "\n",
    "selziona solo gli elementi della lista in posizione pari, escludi la posizione 0 (tutte le donne tranne Elena)"
   ]
  },
  {
   "cell_type": "code",
   "execution_count": 2,
   "id": "f6a1fb19",
   "metadata": {},
   "outputs": [
    {
     "data": {
      "text/plain": [
       "['Martina', 'Giulia', 'Francesca', 'Sara']"
      ]
     },
     "execution_count": 2,
     "metadata": {},
     "output_type": "execute_result"
    }
   ],
   "source": [
    "lista = [\"Elena\", \"Luigi\", \"Martina\", \"Marco\", \"Giulia\", \"Simone\", \"Francesca\", \"Alessandro\", \"Sara\", \"Lorenzo\"]\n",
    "\n",
    "lista[2::2]"
   ]
  },
  {
   "cell_type": "markdown",
   "id": "9eb7b66a",
   "metadata": {},
   "source": [
    "### Esercizio 3"
   ]
  },
  {
   "cell_type": "code",
   "execution_count": 3,
   "id": "755d497e",
   "metadata": {},
   "outputs": [],
   "source": [
    "g8 = {\n",
    "    'Canada': 'Ottawa',\n",
    "    'Francia': 'Parigi',\n",
    "    'Germania': 'Berlino',\n",
    "    'Italia': 'Roma',\n",
    "    'Giappone': 'Tokyo',\n",
    "    'Russia': 'Mosca',\n",
    "    'Regno Unito': 'Londra',\n",
    "    'Stati Uniti': 'Washington, D.C.'\n",
    "}"
   ]
  },
  {
   "cell_type": "code",
   "execution_count": 4,
   "id": "941784e6",
   "metadata": {},
   "outputs": [
    {
     "data": {
      "text/plain": [
       "{'Canada': 'Ottawa',\n",
       " 'Francia': 'Parigi',\n",
       " 'Germania': 'Berlino',\n",
       " 'Italia': 'Roma',\n",
       " 'Giappone': 'Tokyo',\n",
       " 'Regno Unito': 'Londra',\n",
       " 'Stati Uniti': 'Washington, D.C.'}"
      ]
     },
     "execution_count": 4,
     "metadata": {},
     "output_type": "execute_result"
    }
   ],
   "source": [
    "g7 = g8.copy() # usiamo copy per non eliminare il valore anche da g8\n",
    "paese_rimosso = g7.pop('Russia')\n",
    "g7"
   ]
  },
  {
   "cell_type": "code",
   "execution_count": 5,
   "id": "64063d37",
   "metadata": {},
   "outputs": [
    {
     "data": {
      "text/plain": [
       "{'Canada': 'Ottawa',\n",
       " 'Francia': 'Parigi',\n",
       " 'Germania': 'Berlino',\n",
       " 'Italia': 'Roma',\n",
       " 'Giappone': 'Tokyo',\n",
       " 'Regno Unito': 'Londra',\n",
       " 'Stati Uniti': 'Washington, D.C.'}"
      ]
     },
     "execution_count": 5,
     "metadata": {},
     "output_type": "execute_result"
    }
   ],
   "source": [
    "g7 = g8.copy() # usiamo copy per non eliminare il valore anche da g8\n",
    "paese_rimosso = g7.pop('Russia')\n",
    "g7"
   ]
  },
  {
   "cell_type": "code",
   "execution_count": 6,
   "id": "3591dc52",
   "metadata": {},
   "outputs": [],
   "source": [
    "g10 = g7.copy()\n",
    "g10['Spagna'] = 'Madrid'\n",
    "g10['Paesi Bassi'] = 'Amsterdam'\n",
    "g10['Corea del Sud'] = 'Seoul'"
   ]
  },
  {
   "cell_type": "code",
   "execution_count": null,
   "id": "02981a0b",
   "metadata": {},
   "outputs": [],
   "source": [
    "g10[\"Italia\"] = \"Bobbio\"\n",
    "g10"
   ]
  },
  {
   "cell_type": "code",
   "execution_count": null,
   "id": "fd975cc2",
   "metadata": {},
   "outputs": [],
   "source": [
    "list(g10.keys())"
   ]
  }
 ],
 "metadata": {
  "kernelspec": {
   "display_name": "Python 3 (ipykernel)",
   "language": "python",
   "name": "python3"
  },
  "language_info": {
   "codemirror_mode": {
    "name": "ipython",
    "version": 3
   },
   "file_extension": ".py",
   "mimetype": "text/x-python",
   "name": "python",
   "nbconvert_exporter": "python",
   "pygments_lexer": "ipython3",
   "version": "3.9.15"
  }
 },
 "nbformat": 4,
 "nbformat_minor": 5
}

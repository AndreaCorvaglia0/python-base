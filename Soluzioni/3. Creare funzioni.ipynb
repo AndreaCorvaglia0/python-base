{
 "cells": [
  {
   "cell_type": "markdown",
   "id": "843766f8",
   "metadata": {},
   "source": [
    "## Esercizio 1\n",
    "Scrivi una funzione che prenda in input una stringa e restituisca la stringa con le lettere in ordine inverso."
   ]
  },
  {
   "cell_type": "code",
   "execution_count": 1,
   "id": "5165f547",
   "metadata": {},
   "outputs": [
    {
     "name": "stdout",
     "output_type": "stream",
     "text": [
      "!dlrow ,olleH\n"
     ]
    }
   ],
   "source": [
    "def reverse_string(string):\n",
    "    return string[::-1]\n",
    "\n",
    "# Esempio\n",
    "s = \"Hello, world!\"\n",
    "print(reverse_string(s))  # Output: !dlrow ,olleH"
   ]
  },
  {
   "cell_type": "markdown",
   "id": "27d7da2a",
   "metadata": {},
   "source": [
    "## Esercizio 2\n",
    "Scivi una funzione che prenda in input un dizionario con paesi e capitali, come definito nel notebook numero 2 e che restituisca la lista dei paesi la cui capitale ha un numero pari di lettere."
   ]
  },
  {
   "cell_type": "code",
   "execution_count": 3,
   "id": "c69f27ab",
   "metadata": {},
   "outputs": [],
   "source": [
    "g10= {'Canada': 'Ottawa',\n",
    " 'Francia': 'Parigi',\n",
    " 'Germania': 'Berlino',\n",
    " 'Italia': 'Bobbio',\n",
    " 'Giappone': 'Tokyo',\n",
    " 'Regno Unito': 'Londra',\n",
    " 'Stati Uniti': 'Washington, D.C.',\n",
    " 'Spagna': 'Madrid',\n",
    " 'Paesi Bassi': 'Amsterdam',\n",
    " 'Corea del Sud': 'Seoul'}"
   ]
  },
  {
   "cell_type": "code",
   "execution_count": 2,
   "id": "54e58df3",
   "metadata": {},
   "outputs": [],
   "source": [
    "def paesi_capitale_pari(dizionario):\n",
    "    result = []\n",
    "    for country, capital in dizionario.items():\n",
    "        if len(capital) % 2 == 0:\n",
    "            result.append(country)\n",
    "    return result"
   ]
  },
  {
   "cell_type": "code",
   "execution_count": 4,
   "id": "b162984e",
   "metadata": {},
   "outputs": [
    {
     "data": {
      "text/plain": [
       "['Canada', 'Francia', 'Italia', 'Regno Unito', 'Stati Uniti', 'Spagna']"
      ]
     },
     "execution_count": 4,
     "metadata": {},
     "output_type": "execute_result"
    }
   ],
   "source": [
    "paesi_capitale_pari(g10)"
   ]
  },
  {
   "cell_type": "markdown",
   "id": "6c069fea",
   "metadata": {},
   "source": [
    "## Esercizio 3 \n",
    "\n",
    "Scrivere una funzione che prenda in input una lista di parole e restituisca una nuova lista contenente solo le parole palindrome.\n",
    "\n"
   ]
  },
  {
   "cell_type": "code",
   "execution_count": null,
   "id": "03f95158",
   "metadata": {},
   "outputs": [],
   "source": [
    "def trova_palindrome(lista_parole):\n",
    "    palindrome = []\n",
    "    for parola in lista_parole:\n",
    "        if parola == parola[::-1]:\n",
    "            palindrome.append(parola)\n",
    "    return palindrome\n",
    "\n",
    "lista_parole = ['ciao', 'anna', 'radar', 'gatto', 'osso', 'madam']\n",
    "palindrome = trova_palindrome(lista_parole)\n",
    "print(palindrome)"
   ]
  }
 ],
 "metadata": {
  "kernelspec": {
   "display_name": "Python 3 (ipykernel)",
   "language": "python",
   "name": "python3"
  },
  "language_info": {
   "codemirror_mode": {
    "name": "ipython",
    "version": 3
   },
   "file_extension": ".py",
   "mimetype": "text/x-python",
   "name": "python",
   "nbconvert_exporter": "python",
   "pygments_lexer": "ipython3",
   "version": "3.9.15"
  }
 },
 "nbformat": 4,
 "nbformat_minor": 5
}

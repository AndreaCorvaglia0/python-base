{
 "cells": [
  {
   "cell_type": "markdown",
   "id": "96964c8f",
   "metadata": {},
   "source": [
    "## Esercizio 1\n",
    "\n",
    "crea un file di testo chiamato 'dati.txt' e scrivi al suo interno il tuo nome e la tua età. Poi leggi il contenuto del file e stampalo a video."
   ]
  },
  {
   "cell_type": "code",
   "execution_count": null,
   "id": "27b4ab3c",
   "metadata": {},
   "outputs": [],
   "source": [
    "# Scrittura dei dati nel file\n",
    "file = open('dati.txt', 'w')\n",
    "file.write('Nome: Mario Rossi\\n')\n",
    "file.write('Età: 30\\n')\n",
    "file.close()\n",
    "\n",
    "# Lettura del contenuto del file e stampa a video\n",
    "file = open('dati.txt', 'r')\n",
    "print(file.read())\n",
    "file.close()"
   ]
  }
 ],
 "metadata": {
  "kernelspec": {
   "display_name": "Python 3 (ipykernel)",
   "language": "python",
   "name": "python3"
  },
  "language_info": {
   "codemirror_mode": {
    "name": "ipython",
    "version": 3
   },
   "file_extension": ".py",
   "mimetype": "text/x-python",
   "name": "python",
   "nbconvert_exporter": "python",
   "pygments_lexer": "ipython3",
   "version": "3.9.15"
  }
 },
 "nbformat": 4,
 "nbformat_minor": 5
}

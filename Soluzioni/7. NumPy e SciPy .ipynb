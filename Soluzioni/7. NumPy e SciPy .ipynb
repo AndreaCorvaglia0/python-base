{
 "cells": [
  {
   "cell_type": "markdown",
   "id": "219eddf3",
   "metadata": {},
   "source": [
    "## Esercizio 1\n",
    "\n",
    "Crea un array NumPy bidimensionale di dimensione 3x3 con valori casuali compresi tra 0 e 1. Successivamente, ridimensiona l'array in un array unidimensionale e infine calcola il coseno di ciascun valore moltiplicato per pi greco. Stampa i risultati a schermo."
   ]
  },
  {
   "cell_type": "code",
   "execution_count": 14,
   "id": "c59098f7",
   "metadata": {},
   "outputs": [
    {
     "name": "stdout",
     "output_type": "stream",
     "text": [
      "Array originale:\n",
      "[[0.512521   0.78362221 0.02167894]\n",
      " [0.41429376 0.10157596 0.41407508]\n",
      " [0.77673098 0.06329905 0.18487647]]\n",
      "\n",
      "Array ridimensionato:\n",
      "[0.512521   0.78362221 0.02167894 0.41429376 0.10157596 0.41407508\n",
      " 0.77673098 0.06329905 0.18487647]\n",
      "\n",
      "Array coseno:\n",
      "[-0.03932574 -0.77771678  0.99768165  0.26601248  0.94951491  0.26667466\n",
      " -0.76392643  0.98029246  0.83602037]\n"
     ]
    }
   ],
   "source": [
    "import numpy as np\n",
    "\n",
    "# Crea un array bidimensionale 3x3 con valori casuali\n",
    "arr = np.random.rand(3, 3) \n",
    "\n",
    "# Ridimensiona l'array in unidimensionale\n",
    "arr_reshaped = arr.reshape(9)\n",
    "\n",
    "# Calcola il coseno del prodotto tra i valori dell'array e pi greco (usa np.pi e np.cos)\n",
    "arr_cos = np.cos(arr_reshaped*np.pi)\n",
    "\n",
    "# Stampa l'array originale e l'array ridimensionato\n",
    "print(\"Array originale:\")\n",
    "print(arr)\n",
    "print(\"\\nArray ridimensionato:\")\n",
    "print(arr_reshaped)\n",
    "print(\"\\nArray coseno:\")\n",
    "print(arr_cos)"
   ]
  },
  {
   "cell_type": "markdown",
   "id": "969137bb",
   "metadata": {},
   "source": [
    "## Esercizio 2\n",
    "\n",
    "Dato un'array NumPy unidimensionale di numeri casuali compresi tra 0 e 9, filtra i valori maggiori di 5 e seleziona solo gli elementi che si trovano nelle posizioni dispari dell'array."
   ]
  },
  {
   "cell_type": "code",
   "execution_count": null,
   "id": "df9fa6a5",
   "metadata": {},
   "outputs": [],
   "source": [
    "import numpy as np\n",
    "\n",
    "# Crea un array unidimensionale di numeri casuali tra 0 e 9\n",
    "arr = np.random.randint(10, size=20)\n",
    "\n",
    "# Filtra i valori maggiori di 5\n",
    "mask = arr > 5\n",
    "filtered_arr = arr[mask]\n",
    "\n",
    "# Seleziona gli elementi nelle posizioni dispari\n",
    "selected_arr = filtered_arr[1::2]\n",
    "\n",
    "# Stampa il risultato\n",
    "print(selected_arr)"
   ]
  }
 ],
 "metadata": {
  "kernelspec": {
   "display_name": "Python 3 (ipykernel)",
   "language": "python",
   "name": "python3"
  },
  "language_info": {
   "codemirror_mode": {
    "name": "ipython",
    "version": 3
   },
   "file_extension": ".py",
   "mimetype": "text/x-python",
   "name": "python",
   "nbconvert_exporter": "python",
   "pygments_lexer": "ipython3",
   "version": "3.9.15"
  }
 },
 "nbformat": 4,
 "nbformat_minor": 5
}

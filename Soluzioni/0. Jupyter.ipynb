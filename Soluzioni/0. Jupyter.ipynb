{
 "cells": [
  {
   "cell_type": "markdown",
   "id": "f64f1986",
   "metadata": {},
   "source": [
    "# Soluzione \n",
    "\n",
    "Questa è la soluzione del primo esercizio."
   ]
  },
  {
   "cell_type": "code",
   "execution_count": 1,
   "id": "dbd320c9",
   "metadata": {},
   "outputs": [
    {
     "name": "stdout",
     "output_type": "stream",
     "text": [
      "Primo comando python del corso!\n"
     ]
    }
   ],
   "source": [
    "print(\"Primo comando python del corso!\")"
   ]
  }
 ],
 "metadata": {
  "kernelspec": {
   "display_name": "Python 3 (ipykernel)",
   "language": "python",
   "name": "python3"
  },
  "language_info": {
   "codemirror_mode": {
    "name": "ipython",
    "version": 3
   },
   "file_extension": ".py",
   "mimetype": "text/x-python",
   "name": "python",
   "nbconvert_exporter": "python",
   "pygments_lexer": "ipython3",
   "version": "3.9.15"
  }
 },
 "nbformat": 4,
 "nbformat_minor": 5
}

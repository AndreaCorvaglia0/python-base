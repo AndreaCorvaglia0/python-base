{
 "cells": [
  {
   "cell_type": "markdown",
   "id": "b2b3a08e",
   "metadata": {},
   "source": [
    "## Esercizio 1"
   ]
  },
  {
   "cell_type": "code",
   "execution_count": 1,
   "id": "7670c70d",
   "metadata": {},
   "outputs": [
    {
     "name": "stdout",
     "output_type": "stream",
     "text": [
      "Mi chiamo Mario, ho 35 anni e vivo a Roma\n"
     ]
    }
   ],
   "source": [
    "class Person:\n",
    "    def __init__(self, nome, eta, citta):\n",
    "        self.nome = nome\n",
    "        self.eta = eta\n",
    "        self.citta = citta\n",
    "    \n",
    "    def presentazione(self):\n",
    "        return \"Mi chiamo \" + self.nome + \", ho \" + str(self.eta) + \" anni e vivo a \" + self.citta\n",
    "\n",
    "persona = Person(\"Mario\", 35, \"Roma\")\n",
    "print(persona.presentazione()) # Output: \"Mi chiamo Mario, ho 35 anni e vivo a Roma\"\n"
   ]
  },
  {
   "cell_type": "markdown",
   "id": "25b766d3",
   "metadata": {},
   "source": [
    "## Esercizio 2"
   ]
  },
  {
   "cell_type": "code",
   "execution_count": 2,
   "id": "bdf8684d",
   "metadata": {},
   "outputs": [
    {
     "name": "stdout",
     "output_type": "stream",
     "text": [
      "20\n"
     ]
    }
   ],
   "source": [
    "class Rettangolo:\n",
    "    def __init__(self, larghezza, altezza):\n",
    "        self.larghezza = larghezza\n",
    "        self.altezza = altezza\n",
    "    \n",
    "    def area(self):\n",
    "        return self.larghezza * self.altezza\n",
    "\n",
    "rettangolo = Rettangolo(4, 5)\n",
    "print(rettangolo.area()) # Output: 20"
   ]
  },
  {
   "cell_type": "markdown",
   "id": "76524d5f",
   "metadata": {},
   "source": [
    "## Esercizio 3 (Avanzato)"
   ]
  },
  {
   "cell_type": "code",
   "execution_count": 3,
   "id": "97cae124",
   "metadata": {},
   "outputs": [
    {
     "name": "stdout",
     "output_type": "stream",
     "text": [
      "1254\n"
     ]
    }
   ],
   "source": [
    "class Canzone:\n",
    "    def __init__(self, titolo, artista, durata):\n",
    "        self.titolo = titolo\n",
    "        self.artista = artista\n",
    "        self.durata = durata\n",
    "    \n",
    "class Playlist:\n",
    "    def __init__(self):\n",
    "        self.canzoni = []\n",
    "    \n",
    "    def aggiungi_canzone(self, canzone):\n",
    "        self.canzoni.append(canzone)\n",
    "    \n",
    "    def durata_totale(self):\n",
    "        durata = 0\n",
    "        for canzone in self.canzoni:\n",
    "            durata += canzone.durata\n",
    "        return durata\n",
    "\n",
    "playlist = Playlist()\n",
    "\n",
    "canzone1 = Canzone(\"Bohemian Rhapsody\", \"Queen\", 354)\n",
    "canzone2 = Canzone(\"Stairway to Heaven\", \"Led Zeppelin\", 480)\n",
    "canzone3 = Canzone(\"Hey Jude\", \"The Beatles\", 420)\n",
    "\n",
    "playlist.aggiungi_canzone(canzone1)\n",
    "playlist.aggiungi_canzone(canzone2)\n",
    "playlist.aggiungi_canzone(canzone3)\n",
    "\n",
    "print(playlist.durata_totale()) # Output: 1254\n"
   ]
  },
  {
   "cell_type": "code",
   "execution_count": null,
   "id": "3dd1e112",
   "metadata": {},
   "outputs": [],
   "source": []
  }
 ],
 "metadata": {
  "kernelspec": {
   "display_name": "Python 3 (ipykernel)",
   "language": "python",
   "name": "python3"
  },
  "language_info": {
   "codemirror_mode": {
    "name": "ipython",
    "version": 3
   },
   "file_extension": ".py",
   "mimetype": "text/x-python",
   "name": "python",
   "nbconvert_exporter": "python",
   "pygments_lexer": "ipython3",
   "version": "3.9.15"
  }
 },
 "nbformat": 4,
 "nbformat_minor": 5
}

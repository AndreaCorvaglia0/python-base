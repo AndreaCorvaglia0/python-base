{
 "cells": [
  {
   "cell_type": "markdown",
   "id": "b2d55ca5",
   "metadata": {},
   "source": [
    "## Esercizio 1:\n",
    "Definire tre variabili numeriche, trovare il valore massimo, il valore minimo e la differenza tra di essi (tra massimo e minimo). Fare un print per ognuno dei risultati.\n",
    "\n"
   ]
  },
  {
   "cell_type": "code",
   "execution_count": null,
   "id": "eb17984a",
   "metadata": {},
   "outputs": [],
   "source": [
    "a = 10\n",
    "b = 15\n",
    "c = 20\n",
    "\n",
    "max_value = max(a, b, c)\n",
    "min_value = min(a, b, c)\n",
    "diff = max_value - min_value\n",
    "\n",
    "print(\"Il valore massimo è:\", max_value)\n",
    "print(\"Il valore minimo è:\", min_value)\n",
    "print(\"La differenza tra il valore massimo e il valore minimo è:\", diff)\n"
   ]
  },
  {
   "cell_type": "markdown",
   "id": "77a80385",
   "metadata": {},
   "source": [
    "### Esercizio 2:\n",
    "\n",
    "calcolare l'area di un cerchio di raggio 5 e stampare il risultato usando le f string.\n",
    "\n",
    "hint: La formula per calcolare l'area di un cerchio è:\n",
    "\n",
    "area = π * raggio^2\n",
    "\n",
    "Dove π (pi greco) è un valore approssimativamente pari a 3.14 (si può usare math.pi), mentre il raggio del cerchio è la distanza dal centro del cerchio fino alla sua circonferenza."
   ]
  },
  {
   "cell_type": "code",
   "execution_count": 2,
   "id": "80402a90",
   "metadata": {},
   "outputs": [
    {
     "name": "stdout",
     "output_type": "stream",
     "text": [
      "L'area del cerchio di raggio 5 è 78.54\n"
     ]
    }
   ],
   "source": [
    "import math\n",
    "\n",
    "raggio = 5\n",
    "area = math.pi * raggio ** 2\n",
    "\n",
    "print(f\"L'area del cerchio di raggio {raggio} è {area:.2f}\")"
   ]
  }
 ],
 "metadata": {
  "kernelspec": {
   "display_name": "Python 3 (ipykernel)",
   "language": "python",
   "name": "python3"
  },
  "language_info": {
   "codemirror_mode": {
    "name": "ipython",
    "version": 3
   },
   "file_extension": ".py",
   "mimetype": "text/x-python",
   "name": "python",
   "nbconvert_exporter": "python",
   "pygments_lexer": "ipython3",
   "version": "3.9.15"
  }
 },
 "nbformat": 4,
 "nbformat_minor": 5
}

{
 "cells": [
  {
   "cell_type": "markdown",
   "id": "7c0b403f",
   "metadata": {},
   "source": [
    "# NumPy e SciPy\n"
   ]
  },
  {
   "cell_type": "markdown",
   "id": "769d13c7",
   "metadata": {},
   "source": [
    "In questo notebook parleremo due librerie fondamentali per il calcolo scientifico: NumPy e SciPy. Queste librerie sono ideali per lavorare con **dati numerici** e sono utilizzate da scienziati, ingegneri e ricercatori di tutto il mondo per analizzare e manipolare dati in modo efficiente"
   ]
  },
  {
   "cell_type": "markdown",
   "id": "83db9aa0",
   "metadata": {},
   "source": [
    "# NumPy"
   ]
  },
  {
   "cell_type": "markdown",
   "id": "4a214e94",
   "metadata": {},
   "source": [
    "NumPy è il pacchetto fondamentale per il calcolo scientifico in Python. È una libreria Python che fornisce un oggetto array multidimensionale, vari oggetti derivati (come array mascherati e matrici) e un assortimento di routine per operazioni veloci sugli array, tra cui operazioni matematiche, logiche, manipolazione della forma, ordinamento, selezione, I/O, trasformate di Fourier discrete, algebra lineare di base, operazioni statistiche di base, simulazioni randomiche e molto altro.\n",
    "\n",
    "Alla base del pacchetto NumPy c'è l'oggetto ndarray. Questo oggetto racchiude array n-dimensionali di tipi di dati omogenei, e molte operazioni vengono eseguite tramite codice compilato per garantire le prestazioni. A differenza delle sequenze Python standard, NumPy fornisce array di dimensione fissa e tutti gli elementi devono essere dello stesso tipo di dati. NumPy semplifica le operazioni matematiche e scientifiche su grandi quantità di dati e rende il codice più efficiente rispetto alle sequenze standard di Python. Molte librerie scientifiche e matematiche basate su Python utilizzano array NumPy, quindi imparare NumPy diventa fondamentale per utilizzare tali librerie in modo efficiente. NumPy sfrutta la vectorization e il broadcasting per eseguire operazioni element-wise in modo efficiente, mantenendo la semplicità di codice di Python.\n"
   ]
  },
  {
   "cell_type": "markdown",
   "id": "4be4a3e8",
   "metadata": {},
   "source": [
    "## ndarray"
   ]
  },
  {
   "cell_type": "markdown",
   "id": "efe437e1",
   "metadata": {},
   "source": [
    "L'oggetto principale in NumPy è l'ndarray (array multidimensionale), che rappresenta un array di elementi tutti dello stesso tipo, indicizzabili con un numero intero non negativo e dimensione fissa. L'ndarray è estremamente versatile e permette di effettuare operazioni aritmetiche su interi array e operazioni tra array e scalari.\n",
    "\n",
    "### Creazione dell'ndarray\n",
    "Per creare un ndarray è possibile utilizzare la funzione numpy.array(), passandogli una lista o una sequenza di elementi come argomento:\n"
   ]
  },
  {
   "cell_type": "code",
   "execution_count": 2,
   "id": "062b6970",
   "metadata": {},
   "outputs": [],
   "source": [
    "import numpy as np\n",
    "\n",
    "# Creazione di un ndarray unidimensionale\n",
    "a = np.array([1, 2, 3, 4, 5])\n",
    "\n",
    "# Creazione di un ndarray bidimensionale\n",
    "b = np.array([[1, 2, 3], [4, 5, 6], [7, 8, 9]])\n"
   ]
  },
  {
   "cell_type": "markdown",
   "id": "d71e3438",
   "metadata": {},
   "source": [
    "L'oggetto ndarray è simile alle liste in Python, ma tutte le operazioni su un ndarray sono effettuate in modo vettoriale, il che lo rende molto più veloce e più efficiente in termini di memoria.\n",
    "\n",
    "Reshape dell'ndarray\n",
    "\n",
    "Per modificare la forma dell'ndarray, è possibile utilizzare la funzione reshape():"
   ]
  },
  {
   "cell_type": "code",
   "execution_count": 3,
   "id": "abb6b13b",
   "metadata": {},
   "outputs": [
    {
     "name": "stdout",
     "output_type": "stream",
     "text": [
      "[[1 2 3]\n",
      " [4 5 6]]\n"
     ]
    }
   ],
   "source": [
    "c = np.array([1, 2, 3, 4, 5, 6])\n",
    "c_reshaped = c.reshape(2, 3)\n",
    "print(c_reshaped)\n"
   ]
  },
  {
   "cell_type": "markdown",
   "id": "c02fe6c4",
   "metadata": {},
   "source": [
    "### Creazione di ndarray con valori predefiniti\n",
    "\n",
    "Per creare un ndarray con tutti i suoi valori impostati a 0 o 1, è possibile utilizzare rispettivamente le funzioni zeros() e ones():"
   ]
  },
  {
   "cell_type": "code",
   "execution_count": 4,
   "id": "30d6c442",
   "metadata": {},
   "outputs": [
    {
     "name": "stdout",
     "output_type": "stream",
     "text": [
      "[[0. 0. 0. 0.]\n",
      " [0. 0. 0. 0.]\n",
      " [0. 0. 0. 0.]]\n",
      "[[1. 1.]\n",
      " [1. 1.]]\n"
     ]
    }
   ],
   "source": [
    "# Creazione di un ndarray con tutti i valori impostati a 0\n",
    "d = np.zeros((3, 4))\n",
    "print(d)\n",
    "\n",
    "# Creazione di un ndarray con tutti i valori impostati a 1\n",
    "e = np.ones((2, 2))\n",
    "print(e)\n"
   ]
  },
  {
   "cell_type": "markdown",
   "id": "ba947c70",
   "metadata": {},
   "source": [
    "### Creazione di ndarray con valori casuali\n",
    "Per creare un ndarray con valori casuali, è possibile utilizzare la funzione random.rand(). La funzione rand() restituisce un numero casuale compreso tra 0 e 1, mentre randn() restituisce un numero casuale distribuito secondo una Gaussiana standard.\n",
    "\n"
   ]
  },
  {
   "cell_type": "code",
   "execution_count": 5,
   "id": "14dca088",
   "metadata": {},
   "outputs": [
    {
     "name": "stdout",
     "output_type": "stream",
     "text": [
      "[[0.11685497 0.56725209 0.56685268 0.2946225 ]\n",
      " [0.2512837  0.89381486 0.06758916 0.193664  ]\n",
      " [0.9586231  0.40292846 0.45509365 0.44265986]]\n"
     ]
    }
   ],
   "source": [
    "# Creazione di un ndarray con valori casuali\n",
    "f = np.random.rand(3, 4)\n",
    "print(f)\n"
   ]
  },
  {
   "cell_type": "markdown",
   "id": "d5774354",
   "metadata": {},
   "source": [
    "\"Fast and versatile, the NumPy vectorization, indexing, and broadcasting concepts are the de-facto standards of array computing today.\""
   ]
  },
  {
   "cell_type": "markdown",
   "id": "838d9b0e",
   "metadata": {},
   "source": [
    "### Vectorization"
   ]
  },
  {
   "cell_type": "markdown",
   "id": "eee46613",
   "metadata": {},
   "source": [
    "In NumPy, la \"vectorization\" si riferisce alla capacità di eseguire operazioni su intere matrici o array senza dover iterare gli elementi singolarmente. Questo è possibile grazie all'implementazione efficiente di operazioni matematiche su array e alla possibilità di utilizzare funzioni universali (ufunc) come ad esempio la somma o la moltiplicazione, su matrici e array, senza dover scrivere codice iterativo. La vectorization è un concetto fondamentale in NumPy in quanto permette di scrivere codice più semplice e più veloce."
   ]
  },
  {
   "cell_type": "code",
   "execution_count": 8,
   "id": "d2d1f64e",
   "metadata": {},
   "outputs": [
    {
     "name": "stdout",
     "output_type": "stream",
     "text": [
      "[5 7 9]\n",
      "[ 4 10 18]\n"
     ]
    }
   ],
   "source": [
    "a = np.array([1, 2, 3])\n",
    "b = np.array([4, 5, 6])\n",
    "c = a + b # somma senza ciclare\n",
    "d = a * b # prodotto senza ciclare\n",
    "print(c)\n",
    "print(d)"
   ]
  },
  {
   "cell_type": "code",
   "execution_count": 9,
   "id": "6520b9c2",
   "metadata": {},
   "outputs": [
    {
     "name": "stdout",
     "output_type": "stream",
     "text": [
      "[0.0000000e+00 1.0000000e+00 1.2246468e-16]\n"
     ]
    }
   ],
   "source": [
    "a = np.array([0, np.pi/2, np.pi])\n",
    "sin_a = np.sin(a) # applicazione della funzione seno a tutto l'array\n",
    "print(sin_a)\n"
   ]
  },
  {
   "cell_type": "code",
   "execution_count": 17,
   "id": "8e095ed2",
   "metadata": {},
   "outputs": [
    {
     "data": {
      "text/plain": [
       "array([5.60308414, 4.80688287, 5.13865082, 3.24723127, 2.78443026,\n",
       "       5.10166647, 4.61998395, 7.3836382 , 3.26588216, 3.2342753 ])"
      ]
     },
     "execution_count": 17,
     "metadata": {},
     "output_type": "execute_result"
    }
   ],
   "source": [
    "a = 1 + np.random.rand(10) ** 2\n",
    "b = np.exp(a)\n",
    "b"
   ]
  },
  {
   "cell_type": "code",
   "execution_count": 10,
   "id": "f3df7383",
   "metadata": {},
   "outputs": [
    {
     "name": "stdout",
     "output_type": "stream",
     "text": [
      "[ 1  4  9 16 25]\n"
     ]
    }
   ],
   "source": [
    "a = np.array([1, 2, 3, 4, 5])\n",
    "squared_a = a**2\n",
    "print(squared_a)"
   ]
  },
  {
   "cell_type": "markdown",
   "id": "be3d0fea",
   "metadata": {},
   "source": [
    "### Indexing e masking"
   ]
  },
  {
   "cell_type": "markdown",
   "id": "ac29c218",
   "metadata": {},
   "source": [
    "L' \"indexing\" in NumPy si riferisce alla possibilità di accedere ai singoli elementi di un array attraverso l'utilizzo di indici. Questi indici possono essere interi, slice o booleani e sono molto utili quando si vuole selezionare o manipolare porzioni specifiche di un array. La sintassi dell'indexing in NumPy è molto flessibile e permette di selezionare rapidamente i dati che si desidera manipolare.\n",
    "\n",
    "\n",
    "Il masking è un concetto fondamentale in NumPy e si riferisce alla tecnica di selezionare specifici elementi di un array che soddisfano determinate condizioni booleane. In pratica, si crea una maschera booleana utilizzando una condizione booleana (per esempio, array > 0 per selezionare tutti gli elementi maggiori di zero) e si applica la maschera al nostro array originale, selezionando solo gli elementi che soddisfano la condizione. In questo modo, è possibile selezionare solo le parti dell'array che ci interessano."
   ]
  },
  {
   "cell_type": "code",
   "execution_count": 12,
   "id": "5852807f",
   "metadata": {},
   "outputs": [
    {
     "name": "stdout",
     "output_type": "stream",
     "text": [
      "[[0.79893516 0.78096926 0.96852214 0.93468498 0.88217486]\n",
      " [0.23444389 0.08843059 0.93338568 0.67899542 0.07433304]\n",
      " [0.07609907 0.95724025 0.74325506 0.42071534 0.6558304 ]\n",
      " [0.23244752 0.55844375 0.81655887 0.83846379 0.79413748]\n",
      " [0.07722914 0.4496457  0.19992405 0.09971775 0.20731917]]\n",
      "0.4207153376109548\n",
      "[0.78096926 0.08843059 0.95724025 0.55844375 0.4496457 ]\n",
      "[0.07609907 0.95724025 0.74325506 0.42071534 0.6558304 ]\n",
      "[[0.79893516 0.78096926 0.96852214]\n",
      " [0.23444389 0.08843059 0.93338568]\n",
      " [0.07609907 0.95724025 0.74325506]]\n"
     ]
    }
   ],
   "source": [
    "# Creare un array con valori casuali\n",
    "arr = np.random.rand(5, 5)\n",
    "print(arr)\n",
    "\n",
    "# Accedere all'elemento in posizione (2, 3)\n",
    "print(arr[2, 3])\n",
    "\n",
    "# Accedere alla seconda colonna\n",
    "print(arr[:, 1])\n",
    "\n",
    "# Accedere alla terza riga\n",
    "print(arr[2, :])\n",
    "\n",
    "# Accedere alla sottomatrice in alto a sinistra 3x3\n",
    "print(arr[:3, :3])"
   ]
  },
  {
   "cell_type": "code",
   "execution_count": 13,
   "id": "8c2c3100",
   "metadata": {},
   "outputs": [
    {
     "name": "stdout",
     "output_type": "stream",
     "text": [
      "[0.79893516 0.78096926 0.96852214 0.93468498 0.88217486 0.93338568\n",
      " 0.67899542 0.95724025 0.74325506 0.6558304  0.55844375 0.81655887\n",
      " 0.83846379 0.79413748]\n"
     ]
    }
   ],
   "source": [
    "# Accedere agli elementi maggiori di 0.5\n",
    "print(arr[arr > 0.5])"
   ]
  },
  {
   "cell_type": "markdown",
   "id": "08271fc3",
   "metadata": {},
   "source": [
    "### Broadcasting\n",
    "\n",
    "Infine, il \"broadcasting\" in NumPy si riferisce alla capacità di eseguire operazioni tra array di diverse forme e dimensioni senza dover esplicitamente espandere le dimensioni degli array. Questo consente di scrivere codice più compatto ed elegante, in quanto non è necessario aggiungere codice per effettuare la \"ridimensione\" degli array. Inoltre, il broadcasting consente di eseguire operazioni su array con diverse dimensioni, semplificando il codice e migliorando l'efficienza computazionale."
   ]
  },
  {
   "cell_type": "code",
   "execution_count": 19,
   "id": "d10c6628",
   "metadata": {},
   "outputs": [
    {
     "data": {
      "text/plain": [
       "array([[ 4,  5,  6],\n",
       "       [ 8, 10, 12],\n",
       "       [12, 15, 18]])"
      ]
     },
     "execution_count": 19,
     "metadata": {},
     "output_type": "execute_result"
    }
   ],
   "source": [
    "a = np.array([[1], \n",
    "              [2], \n",
    "              [3]])\n",
    "\n",
    "b = np.array([4, 5, 6])\n",
    "\n",
    "c = a * b\n",
    "c"
   ]
  },
  {
   "cell_type": "markdown",
   "id": "8969f43e",
   "metadata": {},
   "source": [
    "In questo caso, NumPy effettua automaticamente l'operazione di broadcasting \"trasmettendo\" il primo array (a) alle dimensioni del secondo array (b) e quindi esegue il prodotto."
   ]
  },
  {
   "cell_type": "markdown",
   "id": "eba03ab7",
   "metadata": {},
   "source": [
    "\n",
    "\n",
    "In sintesi, la vectorization, l'indexing e il broadcasting sono concetti fondamentali di NumPy che permettono di scrivere codice efficiente, compatto ed elegante per il calcolo scientifico."
   ]
  },
  {
   "cell_type": "markdown",
   "id": "7b15ab88",
   "metadata": {},
   "source": [
    "## SciPy"
   ]
  },
  {
   "cell_type": "markdown",
   "id": "94eedc0d",
   "metadata": {},
   "source": [
    "SciPy è una raccolta di algoritmi matematici e di funzioni costruite sull'estensione NumPy di Python."
   ]
  },
  {
   "cell_type": "markdown",
   "id": "b7d2f518",
   "metadata": {},
   "source": [
    "Statistiche: Scipy include una vasta gamma di distribuzioni di probabilità, funzioni di densità di probabilità, funzioni di distribuzione cumulativa e statistiche descrittive."
   ]
  },
  {
   "cell_type": "code",
   "execution_count": 20,
   "id": "b63709c6",
   "metadata": {},
   "outputs": [
    {
     "name": "stdout",
     "output_type": "stream",
     "text": [
      "0.3520653267642995\n",
      "[-7.43426712e-01  1.08013069e+00 -3.50961908e+00 -5.18118215e-01\n",
      "  2.01568813e-01  8.48412626e-02 -1.46043465e-01 -1.65214560e+00\n",
      " -1.49260373e+00  1.30925210e-04 -8.69271035e-01 -1.36743080e+00\n",
      " -1.03624648e+00 -3.30248301e-01 -1.74669634e+00 -7.04236690e-01\n",
      " -7.53071740e-01  1.60408886e-01 -1.15860688e-02 -1.17925750e+00\n",
      "  1.00298266e+00 -3.65802309e-01  1.55747228e+00 -7.58725559e-02\n",
      "  2.35761481e+00 -8.93799384e-01 -1.16299039e+00  1.85538056e+00\n",
      "  3.57524347e-04  8.01170688e-01  1.73807062e+00  7.15659544e-01\n",
      " -8.36860613e-01  5.20085833e-02  1.76697802e+00  1.20643846e+00\n",
      "  2.14864601e+00 -1.96305183e+00  1.21577720e+00  4.71219393e-01\n",
      "  1.01760890e+00  2.19162006e+00  8.74432484e-01  1.53326199e+00\n",
      "  5.31219182e-01  8.00419147e-01  1.48056422e-01  3.68255028e-01\n",
      " -1.73696061e-01 -7.74956562e-01  9.60347346e-01 -5.47533887e-01\n",
      " -8.86504804e-01 -8.44985710e-01 -4.84858385e-01 -7.35158683e-01\n",
      "  1.02515061e+00  1.09445672e+00 -1.96152244e-01 -1.11679097e+00\n",
      " -1.52602026e+00  2.01029428e+00  1.44174463e+00  1.50945208e+00\n",
      "  6.56460871e-01 -8.18165689e-01 -5.52671381e-01  3.60717518e-01\n",
      " -1.69358805e+00 -7.34523658e-01 -1.53138785e-01 -6.36715312e-01\n",
      " -1.51423404e+00  8.06986739e-01 -2.42848508e+00  2.25112135e-01\n",
      "  1.33304503e-01  6.52724549e-01  7.40724778e-01 -4.79117147e-01\n",
      " -4.91586938e-01  3.61694320e-01  5.07239312e-01 -5.86758160e-02\n",
      "  1.97256450e+00 -1.81403748e+00 -5.16789314e-01  2.24650594e-01\n",
      "  9.79291107e-01  1.97380489e-01 -1.20839569e+00  1.63278450e-01\n",
      "  1.25545133e+00 -2.03774138e-01 -6.98637983e-01 -7.06769291e-01\n",
      "  2.28398731e+00 -4.18626020e-01 -5.15660397e-01 -9.86308720e-01]\n",
      "0.0016980699116988785 1.1259865540893088\n"
     ]
    }
   ],
   "source": [
    "from scipy.stats import norm\n",
    "import numpy as np\n",
    "\n",
    "# Calcola la densità di probabilità di una normale standard in un punto specifico\n",
    "x = 0.5\n",
    "mu = 0\n",
    "sigma = 1\n",
    "pdf = norm.pdf(x, mu, sigma)\n",
    "print(pdf)\n",
    "\n",
    "# Genera 100 campioni da una distribuzione normale\n",
    "samples = norm.rvs(mu, sigma, size=100)\n",
    "print(samples)\n",
    "\n",
    "# Calcola la media e la deviazione standard campionarie\n",
    "mean = np.mean(samples)\n",
    "std = np.std(samples)\n",
    "print(mean, std)\n"
   ]
  },
  {
   "cell_type": "markdown",
   "id": "c70a5daa",
   "metadata": {},
   "source": [
    "Ottimizzazione: Scipy offre un'ampia gamma di algoritmi di ottimizzazione, tra cui minimizzazione di funzioni, ottimizzazione vincolata e programmazione lineare."
   ]
  },
  {
   "cell_type": "code",
   "execution_count": 31,
   "id": "032e98c0",
   "metadata": {},
   "outputs": [
    {
     "name": "stdout",
     "output_type": "stream",
     "text": [
      " message: \n",
      "          Optimization terminated successfully;\n",
      "          The returned value satisfies the termination criteria\n",
      "          (using xtol = 1.48e-08 )\n",
      " success: True\n",
      "     fun: 1.0\n",
      "       x: -1.0\n",
      "     nit: 4\n",
      "    nfev: 8\n"
     ]
    }
   ],
   "source": [
    "from scipy.optimize import minimize_scalar\n",
    "import numpy as np\n",
    "\n",
    "# Definisci una funzione di cui trovare il minimo\n",
    "def f(x):\n",
    "    return (x+1)**2 + 1 \n",
    "\n",
    "# Trova il minimo\n",
    "res = minimize_scalar(f)\n",
    "print(res)\n"
   ]
  },
  {
   "cell_type": "code",
   "execution_count": null,
   "id": "b50e013c",
   "metadata": {},
   "outputs": [],
   "source": []
  }
 ],
 "metadata": {
  "kernelspec": {
   "display_name": "Python 3 (ipykernel)",
   "language": "python",
   "name": "python3"
  },
  "language_info": {
   "codemirror_mode": {
    "name": "ipython",
    "version": 3
   },
   "file_extension": ".py",
   "mimetype": "text/x-python",
   "name": "python",
   "nbconvert_exporter": "python",
   "pygments_lexer": "ipython3",
   "version": "3.9.15"
  }
 },
 "nbformat": 4,
 "nbformat_minor": 5
}

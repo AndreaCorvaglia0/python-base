{
 "cells": [
  {
   "cell_type": "markdown",
   "id": "7c0b403f",
   "metadata": {},
   "source": [
    "# NumPy e SciPy\n"
   ]
  },
  {
   "cell_type": "markdown",
   "id": "769d13c7",
   "metadata": {},
   "source": [
    "In questo notebook parleremo due librerie fondamentali per il calcolo scientifico: NumPy e SciPy. Queste librerie sono ideali per lavorare con **dati numerici** e sono utilizzate da scienziati, ingegneri e ricercatori di tutto il mondo per analizzare e manipolare dati in modo efficiente"
   ]
  },
  {
   "cell_type": "markdown",
   "id": "83db9aa0",
   "metadata": {},
   "source": [
    "# NumPy"
   ]
  },
  {
   "cell_type": "markdown",
   "id": "4a214e94",
   "metadata": {},
   "source": [
    "NumPy è il pacchetto fondamentale per il calcolo scientifico in Python. È una libreria Python che fornisce un oggetto array multidimensionale, vari oggetti derivati (come array mascherati e matrici) e un assortimento di routine per operazioni veloci sugli array, tra cui operazioni matematiche, logiche, manipolazione della forma, ordinamento, selezione, I/O, trasformate di Fourier discrete, algebra lineare di base, operazioni statistiche di base, simulazioni randomiche e molto altro.\n",
    "\n",
    "Alla base del pacchetto NumPy c'è l'oggetto ndarray. Questo oggetto racchiude array n-dimensionali di tipi di dati omogenei, e molte operazioni vengono eseguite tramite codice compilato per garantire le prestazioni. A differenza delle sequenze Python standard, NumPy fornisce array di dimensione fissa e tutti gli elementi devono essere dello stesso tipo di dati. NumPy semplifica le operazioni matematiche e scientifiche su grandi quantità di dati e rende il codice più efficiente rispetto alle sequenze standard di Python. Molte librerie scientifiche e matematiche basate su Python utilizzano array NumPy, quindi imparare NumPy diventa fondamentale per utilizzare tali librerie in modo efficiente. NumPy sfrutta la vectorization e il broadcasting per eseguire operazioni element-wise in modo efficiente, mantenendo la semplicità di codice di Python.\n"
   ]
  },
  {
   "cell_type": "markdown",
   "id": "4be4a3e8",
   "metadata": {},
   "source": [
    "## ndarray"
   ]
  },
  {
   "cell_type": "markdown",
   "id": "efe437e1",
   "metadata": {},
   "source": [
    "L'oggetto principale in NumPy è l'ndarray (array multidimensionale), che rappresenta un array di elementi tutti dello stesso tipo, indicizzabili con un numero intero non negativo e dimensione fissa. L'ndarray è estremamente versatile e permette di effettuare operazioni aritmetiche su interi array e operazioni tra array e scalari.\n",
    "\n",
    "### Creazione dell'ndarray\n",
    "Per creare un ndarray è possibile utilizzare la funzione numpy.array(), passandogli una lista o una sequenza di elementi come argomento:\n"
   ]
  },
  {
   "cell_type": "code",
   "execution_count": 3,
   "id": "062b6970",
   "metadata": {},
   "outputs": [],
   "source": [
    "import numpy as np\n",
    "\n",
    "# Creazione di un ndarray unidimensionale\n",
    "a = np.array([1, 2, 3, 4, 5])\n",
    "\n",
    "# Creazione di un ndarray bidimensionale\n",
    "b = np.array([[1, 2, 3], [4, 5, 6], [7, 8, 9]])\n"
   ]
  },
  {
   "cell_type": "code",
   "execution_count": 4,
   "id": "acee6334",
   "metadata": {},
   "outputs": [
    {
     "data": {
      "text/plain": [
       "array([[1, 2, 3],\n",
       "       [4, 5, 6],\n",
       "       [7, 8, 9]])"
      ]
     },
     "execution_count": 4,
     "metadata": {},
     "output_type": "execute_result"
    }
   ],
   "source": [
    "b"
   ]
  },
  {
   "cell_type": "markdown",
   "id": "d71e3438",
   "metadata": {},
   "source": [
    "L'oggetto ndarray è simile alle liste in Python, ma tutte le operazioni su un ndarray sono effettuate in modo vettoriale, il che lo rende molto più veloce e più efficiente in termini di memoria.\n",
    "\n",
    "Reshape dell'ndarray\n",
    "\n",
    "Per modificare la forma dell'ndarray, è possibile utilizzare la funzione reshape():"
   ]
  },
  {
   "cell_type": "code",
   "execution_count": 3,
   "id": "abb6b13b",
   "metadata": {},
   "outputs": [
    {
     "name": "stdout",
     "output_type": "stream",
     "text": [
      "[[1 2 3]\n",
      " [4 5 6]]\n"
     ]
    }
   ],
   "source": [
    "c = np.array([1, 2, 3, 4, 5, 6])\n",
    "c_reshaped = c.reshape(2, 3)\n",
    "print(c_reshaped)\n"
   ]
  },
  {
   "cell_type": "markdown",
   "id": "c02fe6c4",
   "metadata": {},
   "source": [
    "### Creazione di ndarray con valori predefiniti\n",
    "\n",
    "Per creare un ndarray con tutti i suoi valori impostati a 0 o 1, è possibile utilizzare rispettivamente le funzioni zeros() e ones():"
   ]
  },
  {
   "cell_type": "code",
   "execution_count": 5,
   "id": "30d6c442",
   "metadata": {},
   "outputs": [
    {
     "name": "stdout",
     "output_type": "stream",
     "text": [
      "[[0. 0. 0. 0.]\n",
      " [0. 0. 0. 0.]\n",
      " [0. 0. 0. 0.]]\n",
      "[[1. 1.]\n",
      " [1. 1.]]\n"
     ]
    }
   ],
   "source": [
    "# Creazione di un ndarray con tutti i valori impostati a 0\n",
    "d = np.zeros((3, 4))\n",
    "print(d)\n",
    "\n",
    "# Creazione di un ndarray con tutti i valori impostati a 1\n",
    "e = np.ones((2, 2))\n",
    "print(e)\n"
   ]
  },
  {
   "cell_type": "code",
   "execution_count": 8,
   "id": "386ed7e8",
   "metadata": {},
   "outputs": [
    {
     "data": {
      "text/plain": [
       "array([[0., 0., 0.],\n",
       "       [0., 0., 0.],\n",
       "       [0., 0., 0.]])"
      ]
     },
     "execution_count": 8,
     "metadata": {},
     "output_type": "execute_result"
    }
   ],
   "source": [
    "# matrice di zeri, 3x3\n",
    "np.zeros((3,3))"
   ]
  },
  {
   "cell_type": "markdown",
   "id": "ba947c70",
   "metadata": {},
   "source": [
    "### Creazione di ndarray con valori casuali\n",
    "Per creare un ndarray con valori casuali, è possibile utilizzare la funzione random.rand(). La funzione rand() restituisce un numero casuale compreso tra 0 e 1, mentre randn() restituisce un numero casuale distribuito secondo una Gaussiana standard.\n",
    "\n",
    "**NB**: per avere valori interi usare np.random.randint(). \n",
    "\n"
   ]
  },
  {
   "cell_type": "code",
   "execution_count": 11,
   "id": "14dca088",
   "metadata": {},
   "outputs": [
    {
     "name": "stdout",
     "output_type": "stream",
     "text": [
      "[[11.16660792 19.36844052 15.38318409 16.15642354]\n",
      " [10.22275954 14.2533101  17.80065381 11.27301889]\n",
      " [19.57565858 10.16815584 14.59840686 10.34452352]]\n"
     ]
    }
   ],
   "source": [
    "# Creazione di un ndarray con valori casuali\n",
    "f = np.random.rand(3, 4)*10 + 10\n",
    "print(f)\n"
   ]
  },
  {
   "cell_type": "markdown",
   "id": "d5774354",
   "metadata": {},
   "source": [
    "\"Fast and versatile, the NumPy vectorization, indexing, and broadcasting concepts are the de-facto standards of array computing today.\""
   ]
  },
  {
   "cell_type": "markdown",
   "id": "838d9b0e",
   "metadata": {},
   "source": [
    "### Vectorization"
   ]
  },
  {
   "cell_type": "markdown",
   "id": "eee46613",
   "metadata": {},
   "source": [
    "In NumPy, la \"vectorization\" si riferisce alla capacità di eseguire operazioni su intere matrici o array senza dover iterare gli elementi singolarmente. Questo è possibile grazie all'implementazione efficiente di operazioni matematiche su array e alla possibilità di utilizzare funzioni universali (ufunc) come ad esempio la somma o la moltiplicazione, su matrici e array, senza dover scrivere codice iterativo. La vectorization è un concetto fondamentale in NumPy in quanto permette di scrivere codice più semplice e più veloce."
   ]
  },
  {
   "cell_type": "code",
   "execution_count": 12,
   "id": "d2d1f64e",
   "metadata": {},
   "outputs": [
    {
     "name": "stdout",
     "output_type": "stream",
     "text": [
      "[5 7 9]\n",
      "[ 4 10 18]\n"
     ]
    }
   ],
   "source": [
    "a = np.array([1, 2, 3])\n",
    "b = np.array([4, 5, 6])\n",
    "c = a + b # somma senza ciclare\n",
    "d = a * b # prodotto senza ciclare\n",
    "print(c)\n",
    "print(d)"
   ]
  },
  {
   "cell_type": "code",
   "execution_count": 13,
   "id": "6520b9c2",
   "metadata": {},
   "outputs": [
    {
     "name": "stdout",
     "output_type": "stream",
     "text": [
      "[0.0000000e+00 1.0000000e+00 1.2246468e-16]\n"
     ]
    }
   ],
   "source": [
    "a = np.array([0, np.pi/2, np.pi])\n",
    "sin_a = np.sin(a) # applicazione della funzione seno a tutto l'array\n",
    "print(sin_a)\n"
   ]
  },
  {
   "cell_type": "code",
   "execution_count": 16,
   "id": "8e095ed2",
   "metadata": {},
   "outputs": [
    {
     "data": {
      "text/plain": [
       "array([4.31266782, 2.89905911, 2.95904208, 6.68077986, 2.98157679,\n",
       "       3.38039949, 4.30604091, 3.01069225, 2.99254137, 5.37575088])"
      ]
     },
     "execution_count": 16,
     "metadata": {},
     "output_type": "execute_result"
    }
   ],
   "source": [
    "a = 1 + np.random.rand(10) ** 2\n",
    "b = np.exp(a)\n",
    "b"
   ]
  },
  {
   "cell_type": "code",
   "execution_count": 17,
   "id": "f3df7383",
   "metadata": {},
   "outputs": [
    {
     "name": "stdout",
     "output_type": "stream",
     "text": [
      "[ 1  4  9 16 25]\n"
     ]
    }
   ],
   "source": [
    "a = np.array([1, 2, 3, 4, 5])\n",
    "squared_a = a**2\n",
    "print(squared_a)"
   ]
  },
  {
   "cell_type": "markdown",
   "id": "be3d0fea",
   "metadata": {},
   "source": [
    "### Indexing e masking"
   ]
  },
  {
   "cell_type": "markdown",
   "id": "ac29c218",
   "metadata": {},
   "source": [
    "L' \"indexing\" in NumPy si riferisce alla possibilità di accedere ai singoli elementi di un array attraverso l'utilizzo di indici. Questi indici possono essere interi, slice o booleani e sono molto utili quando si vuole selezionare o manipolare porzioni specifiche di un array. La sintassi dell'indexing in NumPy è molto flessibile e permette di selezionare rapidamente i dati che si desidera manipolare.\n",
    "\n",
    "\n",
    "Il masking è un concetto fondamentale in NumPy e si riferisce alla tecnica di selezionare specifici elementi di un array che soddisfano determinate condizioni booleane. In pratica, si crea una maschera booleana utilizzando una condizione booleana (per esempio, array > 0 per selezionare tutti gli elementi maggiori di zero) e si applica la maschera al nostro array originale, selezionando solo gli elementi che soddisfano la condizione. In questo modo, è possibile selezionare solo le parti dell'array che ci interessano."
   ]
  },
  {
   "cell_type": "code",
   "execution_count": 18,
   "id": "5852807f",
   "metadata": {},
   "outputs": [
    {
     "name": "stdout",
     "output_type": "stream",
     "text": [
      "[[0.57909902 0.44876632 0.94512827 0.05978164 0.41977314]\n",
      " [0.33397321 0.42256299 0.05804245 0.719357   0.99837052]\n",
      " [0.61483385 0.78173936 0.85202844 0.40222177 0.09253714]\n",
      " [0.61825178 0.03724562 0.20400177 0.25694622 0.32817538]\n",
      " [0.57669273 0.39273552 0.04453157 0.32476219 0.46746329]]\n",
      "0.4022217694504072\n",
      "[0.44876632 0.42256299 0.78173936 0.03724562 0.39273552]\n",
      "[0.61483385 0.78173936 0.85202844 0.40222177 0.09253714]\n",
      "[[0.57909902 0.44876632 0.94512827]\n",
      " [0.33397321 0.42256299 0.05804245]\n",
      " [0.61483385 0.78173936 0.85202844]]\n"
     ]
    }
   ],
   "source": [
    "# Creare un array con valori casuali\n",
    "arr = np.random.rand(5, 5)\n",
    "print(arr)\n",
    "\n",
    "# Accedere all'elemento in posizione (2, 3)\n",
    "print(arr[2, 3])\n",
    "\n",
    "# Accedere alla seconda colonna\n",
    "print(arr[:, 1])\n",
    "\n",
    "# Accedere alla terza riga\n",
    "print(arr[2, :])\n",
    "\n",
    "# Accedere alla sottomatrice in alto a sinistra 3x3\n",
    "print(arr[:3, :3])"
   ]
  },
  {
   "cell_type": "code",
   "execution_count": 25,
   "id": "8c2c3100",
   "metadata": {},
   "outputs": [
    {
     "name": "stdout",
     "output_type": "stream",
     "text": [
      "[0.57909902 0.44876632 0.94512827 0.05978164 0.41977314 0.33397321\n",
      " 0.42256299 0.05804245 0.719357   0.99837052 0.61483385 0.78173936\n",
      " 0.85202844 0.40222177 0.09253714 0.61825178 0.03724562 0.20400177\n",
      " 0.25694622 0.32817538 0.57669273 0.39273552 0.04453157 0.32476219\n",
      " 0.46746329]\n"
     ]
    }
   ],
   "source": [
    "# Accedere agli elementi minori di 0.4\n",
    "mask = arr < 0.4\n",
    "print(arr[arr > 0])"
   ]
  },
  {
   "cell_type": "markdown",
   "id": "08271fc3",
   "metadata": {},
   "source": [
    "### Broadcasting\n",
    "\n",
    "Infine, il \"broadcasting\" in NumPy si riferisce alla capacità di eseguire operazioni tra array di diverse forme e dimensioni senza dover esplicitamente espandere le dimensioni degli array. Questo consente di scrivere codice più compatto ed elegante, in quanto non è necessario aggiungere codice per effettuare la \"ridimensione\" degli array. Inoltre, il broadcasting consente di eseguire operazioni su array con diverse dimensioni, semplificando il codice e migliorando l'efficienza computazionale."
   ]
  },
  {
   "cell_type": "code",
   "execution_count": 19,
   "id": "d10c6628",
   "metadata": {},
   "outputs": [
    {
     "data": {
      "text/plain": [
       "array([[ 4,  5,  6],\n",
       "       [ 8, 10, 12],\n",
       "       [12, 15, 18]])"
      ]
     },
     "execution_count": 19,
     "metadata": {},
     "output_type": "execute_result"
    }
   ],
   "source": [
    "a = np.array([[1], \n",
    "              [2], \n",
    "              [3]])\n",
    "\n",
    "b = np.array([4, 5, 6])\n",
    "\n",
    "c = a * b\n",
    "c"
   ]
  },
  {
   "cell_type": "markdown",
   "id": "8969f43e",
   "metadata": {},
   "source": [
    "In questo caso, NumPy effettua automaticamente l'operazione di broadcasting \"trasmettendo\" il primo array (a) alle dimensioni del secondo array (b) e quindi esegue il prodotto."
   ]
  },
  {
   "cell_type": "markdown",
   "id": "eba03ab7",
   "metadata": {},
   "source": [
    "\n",
    "\n",
    "In sintesi, la vectorization, l'indexing e il broadcasting sono concetti fondamentali di NumPy che permettono di scrivere codice efficiente, compatto ed elegante per il calcolo scientifico."
   ]
  },
  {
   "cell_type": "markdown",
   "id": "7b15ab88",
   "metadata": {},
   "source": [
    "## SciPy"
   ]
  },
  {
   "cell_type": "markdown",
   "id": "94eedc0d",
   "metadata": {},
   "source": [
    "SciPy è una raccolta di algoritmi matematici e di funzioni costruite sull'estensione NumPy di Python."
   ]
  },
  {
   "cell_type": "markdown",
   "id": "b7d2f518",
   "metadata": {},
   "source": [
    "Statistiche: Scipy include una vasta gamma di distribuzioni di probabilità, funzioni di densità di probabilità, funzioni di distribuzione cumulativa e statistiche descrittive."
   ]
  },
  {
   "cell_type": "code",
   "execution_count": 9,
   "id": "b63709c6",
   "metadata": {},
   "outputs": [
    {
     "name": "stdout",
     "output_type": "stream",
     "text": [
      "0.3520653267642995\n",
      "[-0.06926707  0.62985899  1.1235666  -0.44872382 -0.45656358  0.68385765\n",
      "  0.2978262   0.74732675 -0.35312544 -1.39535896  0.75087576 -1.11367474\n",
      "  0.16775437 -1.09697986 -0.87042274 -1.28775481 -0.7686418  -0.40151287\n",
      " -0.48298027  1.30347325  0.43115784 -0.07560954 -1.64509154  0.21043568\n",
      "  1.20812364 -0.76776638  0.23349923  0.18195441 -0.62695129 -1.06434794\n",
      "  0.07700799  0.21658369 -1.8739728  -1.08136448 -1.89419149 -1.23843175\n",
      " -1.49133739  0.1442651  -0.94997742 -1.82442986  1.00498342  0.47225176\n",
      "  0.6286588  -1.3722459  -1.15211852 -1.58628469  0.62331831 -1.52700984\n",
      " -1.42245492  0.511825    0.95255737  0.97552784 -1.16621947  0.47468253\n",
      "  0.2858826  -1.49158622 -0.07009239  0.07082319  0.05192197 -0.29388475\n",
      " -0.48578111 -0.5945902  -0.80759331  0.66854724 -0.10375544 -1.32936222\n",
      "  0.36358171 -1.57466137  1.25214597 -1.1945802  -1.36436072 -2.27606452\n",
      "  0.15518954 -0.59013055  0.93063531 -0.19659878 -0.06910346 -1.10854443\n",
      "  0.01999091 -0.19371771  0.50167734 -0.16238503 -0.48840436 -0.27462602\n",
      "  0.53742893  0.4565054   0.66793237 -0.1593894  -1.25781579 -0.93039482\n",
      "  0.55021508 -0.42535568 -0.02801479  0.00925315  0.22746108  0.5360847\n",
      "  0.23257034 -0.72486221  0.11991309 -0.41523566]\n",
      "-0.2842657022739937 0.8409799487364875\n"
     ]
    }
   ],
   "source": [
    "from scipy.stats import norm\n",
    "import numpy as np\n",
    "\n",
    "# Calcola la densità di probabilità di una normale standard in un punto specifico\n",
    "x = 0.5\n",
    "mu = 0\n",
    "sigma = 1\n",
    "pdf = norm.pdf(x, mu, sigma)\n",
    "print(pdf)\n",
    "\n",
    "# Genera 100 campioni da una distribuzione normale\n",
    "samples = norm.rvs(mu, sigma, size=100)\n",
    "print(samples)\n",
    "\n",
    "# Calcola la media e la deviazione standard campionarie\n",
    "mean = np.mean(samples)\n",
    "std = np.std(samples)\n",
    "print(mean, std)\n"
   ]
  },
  {
   "cell_type": "markdown",
   "id": "c70a5daa",
   "metadata": {},
   "source": [
    "Ottimizzazione: Scipy offre un'ampia gamma di algoritmi di ottimizzazione, tra cui minimizzazione di funzioni, ottimizzazione vincolata e programmazione lineare."
   ]
  },
  {
   "cell_type": "code",
   "execution_count": 11,
   "id": "032e98c0",
   "metadata": {},
   "outputs": [
    {
     "name": "stdout",
     "output_type": "stream",
     "text": [
      " message: \n",
      "          Optimization terminated successfully;\n",
      "          The returned value satisfies the termination criteria\n",
      "          (using xtol = 1.48e-08 )\n",
      " success: True\n",
      "     fun: 1.0\n",
      "       x: -1.0\n",
      "     nit: 4\n",
      "    nfev: 8\n"
     ]
    }
   ],
   "source": [
    "from scipy.optimize import minimize_scalar\n",
    "import numpy as np\n",
    "\n",
    "# Definisci una funzione di cui trovare il minimo\n",
    "def f(x):\n",
    "    return (x+1)**2 + 1 \n",
    "\n",
    "# Trova il minimo\n",
    "res = minimize_scalar(f)\n",
    "print(res)\n"
   ]
  },
  {
   "cell_type": "markdown",
   "id": "c7708d45",
   "metadata": {},
   "source": [
    "## Esercizio 1\n",
    "Crea un array NumPy bidimensionale di dimensione 3x3 con valori casuali compresi tra 0 e 1. Successivamente, ridimensiona l'array in un array unidimensionale e infine calcola il coseno di ciascun valore moltiplicato per pi greco. Stampa i risultati a schermo.\n",
    "\n",
    "**Indizio**: Utilizza la funzione np.random.rand per generare i valori casuali. Per il reshape, utilizza il metodo reshape per modificare la forma dell'array."
   ]
  },
  {
   "cell_type": "code",
   "execution_count": 1,
   "id": "1534ea98",
   "metadata": {},
   "outputs": [
    {
     "name": "stdout",
     "output_type": "stream",
     "text": [
      "Array originale:\n",
      "[[0.86234538 0.66024752 0.16121505]\n",
      " [0.02882587 0.26720156 0.20432426]\n",
      " [0.12617618 0.76940992 0.59886666]]\n",
      "Array unidim:\n",
      "[[0.86234538]\n",
      " [0.66024752]\n",
      " [0.16121505]\n",
      " [0.02882587]\n",
      " [0.26720156]\n",
      " [0.20432426]\n",
      " [0.12617618]\n",
      " [0.76940992]\n",
      " [0.59886666]]\n",
      "Array coseno:\n",
      "[[-0.90793971]\n",
      " [-0.48243496]\n",
      " [ 0.87446136]\n",
      " [ 0.99590232]\n",
      " [ 0.66788086]\n",
      " [ 0.80095749]\n",
      " [ 0.92245918]\n",
      " [-0.74888384]\n",
      " [-0.3056288 ]]\n"
     ]
    }
   ],
   "source": [
    "# import della libreria\n",
    "import numpy as np\n",
    "# Crea un array bidimensionale 3x3 con valori casuali\n",
    "arr = np.random.rand(3, 3)\n",
    "\n",
    "# Ridimensiona l'array in unidimensionale\n",
    "arr_reshaped = arr.reshape(-1,1)\n",
    "\n",
    "# Calcola il coseno del prodotto tra i valori dell'array e pi greco (usa np.pi e np.cos)\n",
    "arr_cos = np.cos(arr_reshaped*np.pi)\n",
    "\n",
    "\n",
    "# Stampa l'array originale, l'array ridimensionato e l'array coseno\n",
    "print(\"Array originale:\")\n",
    "print(arr)\n",
    "print(\"Array unidim:\")\n",
    "print(arr_reshaped)\n",
    "print(\"Array coseno:\")\n",
    "print(arr_cos)\n"
   ]
  },
  {
   "cell_type": "markdown",
   "id": "1a8e32fd",
   "metadata": {},
   "source": [
    "## Esercizio 2\n",
    "\n",
    "Dato un'array NumPy unidimensionale di 20 numeri casuali compresi tra 0 e 9, filtra i valori maggiori di 5 e seleziona solo gli elementi che si trovano nelle posizioni dispari dell'array.\n",
    "\n",
    "**Indizio**: Utilizza il concetto di masking per filtrare i dati e l'indexing/slicing per selezionare gli elementi nelle posizioni dispari."
   ]
  },
  {
   "cell_type": "code",
   "execution_count": 2,
   "id": "335949e8",
   "metadata": {},
   "outputs": [
    {
     "data": {
      "text/plain": [
       "array([3, 8, 8, 4, 1, 3, 7, 4, 0, 6, 7, 5, 5, 4, 3, 0, 5, 3, 0, 0])"
      ]
     },
     "execution_count": 2,
     "metadata": {},
     "output_type": "execute_result"
    }
   ],
   "source": [
    "np.random.randint(0,9,20)"
   ]
  },
  {
   "cell_type": "code",
   "execution_count": 4,
   "id": "a0596342",
   "metadata": {},
   "outputs": [
    {
     "data": {
      "text/plain": [
       "array([False, False, False,  True,  True,  True, False,  True, False,\n",
       "       False, False, False, False, False, False,  True, False,  True,\n",
       "        True,  True])"
      ]
     },
     "execution_count": 4,
     "metadata": {},
     "output_type": "execute_result"
    }
   ],
   "source": [
    "arr = np.random.randint(0,9,20)\n",
    "arr > 5"
   ]
  },
  {
   "cell_type": "code",
   "execution_count": 5,
   "id": "a56d8249",
   "metadata": {},
   "outputs": [
    {
     "name": "stdout",
     "output_type": "stream",
     "text": [
      "[6 8]\n"
     ]
    }
   ],
   "source": [
    "import numpy as np\n",
    "\n",
    "# Crea un array unidimensionale di 20 numeri casuali tra 0 e 9\n",
    "arr = np.random.randint(0,9,20)\n",
    "\n",
    "# Filtra i valori maggiori di 5\n",
    "mask = arr > 5\n",
    "filtered_arr = arr[mask]\n",
    "\n",
    "# Seleziona gli elementi nelle posizioni dispari\n",
    "selected_arr = filtered_arr[1::2]\n",
    "\n",
    "# Stampa il risultato\n",
    "print(selected_arr)"
   ]
  },
  {
   "cell_type": "code",
   "execution_count": 6,
   "id": "f61c53df",
   "metadata": {},
   "outputs": [
    {
     "data": {
      "text/plain": [
       "array([6, 6, 8, 8, 8])"
      ]
     },
     "execution_count": 6,
     "metadata": {},
     "output_type": "execute_result"
    }
   ],
   "source": [
    "filtered_arr"
   ]
  }
 ],
 "metadata": {
  "kernelspec": {
   "display_name": "Python 3 (ipykernel)",
   "language": "python",
   "name": "python3"
  },
  "language_info": {
   "codemirror_mode": {
    "name": "ipython",
    "version": 3
   },
   "file_extension": ".py",
   "mimetype": "text/x-python",
   "name": "python",
   "nbconvert_exporter": "python",
   "pygments_lexer": "ipython3",
   "version": "3.9.15"
  }
 },
 "nbformat": 4,
 "nbformat_minor": 5
}

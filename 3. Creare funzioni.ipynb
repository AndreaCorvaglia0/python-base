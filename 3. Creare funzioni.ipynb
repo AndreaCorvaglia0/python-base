{
 "cells": [
  {
   "cell_type": "markdown",
   "id": "8111c651",
   "metadata": {},
   "source": [
    "# Creare funzioni"
   ]
  },
  {
   "cell_type": "markdown",
   "id": "5043187e",
   "metadata": {},
   "source": [
    "## Clausola IF "
   ]
  },
  {
   "cell_type": "markdown",
   "id": "8f8e0fe1",
   "metadata": {},
   "source": [
    "La clausola if è uno degli strumenti fondamentali della programmazione in Python, poiché permette di condizionare l'esecuzione di un blocco di codice a una determinata condizione. In Python, la clausola if ha la seguente sintassi generale:\n",
    "\n",
    "```\n",
    "if condizione:\n",
    "    blocco di codice da eseguire se la condizione è vera\n",
    "```\n",
    "\n",
    "Il blocco di codice all'interno dell'if deve essere indentato, cioè spostato verso destra rispetto al livello di indentazione del codice circostante. Se la condizione è vera, il blocco di codice viene eseguito, altrimenti viene saltato.\n",
    "\n",
    "### Else\n",
    "\n",
    "È possibile anche specificare cosa succede se la condizione specificata dall'if non è rispettata, tramite l'uso della consizione alternativa else\n",
    "\n",
    "```\n",
    "if condizione1:\n",
    "    blocco di codice da eseguire se la condizione1 è vera\n",
    "else:\n",
    "    blocco di codice da eseguire se la condizione1 è falsa\n",
    "```\n",
    "\n",
    "In questo caso, se la condizione1 è vera, viene eseguito il primo blocco di codice, altrimenti viene eseguito il blocco di codice dopo l'else.\n"
   ]
  },
  {
   "cell_type": "markdown",
   "id": "20b50848",
   "metadata": {},
   "source": [
    "### Annidamento\n",
    "\n",
    "Possiamo anche annidare più clausole if all'interno di altre clausole if, ad esempio:\n",
    "\n",
    "```\n",
    "if condizione1:\n",
    "    blocco di codice da eseguire se la condizione1 è vera\n",
    "    if condizione2:\n",
    "        blocco di codice da eseguire se la condizione2 è vera\n",
    "    else:\n",
    "        blocco di codice da eseguire se la condizione2 è falsa\n",
    "else:\n",
    "    blocco di codice da eseguire se la condizione1 è falsa\n",
    "```\n",
    "\n",
    "In questo caso, se la condizione1 è vera, viene eseguito il primo blocco di codice, altrimenti viene eseguito il blocco di codice dopo l'else. Se la condizione2 è vera, viene eseguito il secondo blocco di codice, altrimenti viene eseguito il blocco di codice dopo l'else.\n",
    "\n",
    "L'annidamento delle clausole if può essere molto utile per creare condizioni più complesse e gestire situazioni più specifiche. Tuttavia, è importante tenere presente che l'uso eccessivo di clausole if annidate può rendere il codice molto complesso e difficile da leggere e mantenere, quindi è sempre meglio cercare di mantenere il codice il più semplice e chiaro possibile."
   ]
  },
  {
   "cell_type": "code",
   "execution_count": 7,
   "id": "2255618c",
   "metadata": {},
   "outputs": [
    {
     "name": "stdout",
     "output_type": "stream",
     "text": [
      "x è maggiore di 5\n"
     ]
    }
   ],
   "source": [
    "# Esempio 1: clausola if semplice\n",
    "x = 10\n",
    "if x > 5:\n",
    "    print(\"x è maggiore di 5\")\n",
    "else:\n",
    "    print(\"x è minore o uguale a 5\")"
   ]
  },
  {
   "cell_type": "code",
   "execution_count": 8,
   "id": "9b131399",
   "metadata": {},
   "outputs": [
    {
     "name": "stdout",
     "output_type": "stream",
     "text": [
      "x è maggiore di 5\n",
      "x è anche maggiore di 8\n"
     ]
    }
   ],
   "source": [
    "# Esempio 2: clausola if annidata\n",
    "x = 10\n",
    "if x > 5:\n",
    "    print(\"x è maggiore di 5\")\n",
    "    if x > 8:\n",
    "        print(\"x è anche maggiore di 8\")\n",
    "else:\n",
    "    print(\"x è minore o uguale a 5\")"
   ]
  },
  {
   "cell_type": "code",
   "execution_count": 9,
   "id": "01e29de0",
   "metadata": {},
   "outputs": [
    {
     "name": "stdout",
     "output_type": "stream",
     "text": [
      "x è maggiore di 5 e y è maggiore di 10\n"
     ]
    }
   ],
   "source": [
    "# Esempio 3: clausola if con più condizioni\n",
    "x = 10\n",
    "y = 12\n",
    "if x > 5 and y > 10:\n",
    "    print(\"x è maggiore di 5 e y è maggiore di 10\")\n",
    "else:\n",
    "    print(\"almeno una delle due condizioni non è soddisfatta\")"
   ]
  },
  {
   "cell_type": "markdown",
   "id": "f62ab104",
   "metadata": {},
   "source": [
    "##  Ciclare il dato eseguendo comandi ripetuti su singoli elementi di una serie "
   ]
  },
  {
   "cell_type": "markdown",
   "id": "7adf6aaa",
   "metadata": {},
   "source": [
    "il ciclo è una delle strutture di controllo fondamentali in Python (e in molti altri linguaggi di programmazione). Consente di eseguire una serie di istruzioni ripetutamente su ogni elemento di una serie di dati, come una lista o una tupla.\n",
    "\n",
    "Il ciclo più comune in Python è il ciclo for, che si usa per iterare su tutti gli elementi di una sequenza. Ad esempio, se vogliamo stampare tutti gli elementi di una lista, possiamo utilizzare il ciclo for in questo modo:"
   ]
  },
  {
   "cell_type": "code",
   "execution_count": 10,
   "id": "1f3bfe42",
   "metadata": {},
   "outputs": [
    {
     "name": "stdout",
     "output_type": "stream",
     "text": [
      "1\n",
      "2\n",
      "3\n",
      "4\n",
      "5\n"
     ]
    }
   ],
   "source": [
    "lista = [1, 2, 3, 4, 5]\n",
    "for elemento in lista:\n",
    "    print(elemento)"
   ]
  },
  {
   "cell_type": "markdown",
   "id": "64786740",
   "metadata": {},
   "source": [
    "In questo caso, la variabile **_elemento_** assume il valore di ogni elemento della lista man mano che il ciclo itera attraverso di essa. La funzione **_print()_** viene eseguita una volta per ogni elemento della lista.\n",
    "\n",
    "Inoltre, il ciclo for può essere usato con altre funzioni e istruzioni all'interno del corpo del ciclo, come mostrato in questo esempio:"
   ]
  },
  {
   "cell_type": "code",
   "execution_count": 11,
   "id": "7fe1d21d",
   "metadata": {},
   "outputs": [
    {
     "name": "stdout",
     "output_type": "stream",
     "text": [
      "Il numero 1 è dispari.\n",
      "Il numero 2 è pari.\n",
      "Il numero 3 è dispari.\n",
      "Il numero 4 è pari.\n",
      "Il numero 5 è dispari.\n"
     ]
    }
   ],
   "source": [
    "lista = [1, 2, 3, 4, 5]\n",
    "for elemento in lista:\n",
    "    if elemento % 2 == 0:\n",
    "        print(\"Il numero\", elemento, \"è pari.\")\n",
    "    else:\n",
    "        print(\"Il numero\", elemento, \"è dispari.\")\n"
   ]
  },
  {
   "cell_type": "markdown",
   "id": "c0d84b44",
   "metadata": {},
   "source": [
    "In questo caso, il corpo del ciclo for contiene un'istruzione if-else, che viene utilizzata per verificare se ogni numero nella lista è pari o dispari. La funzione **_print()_** viene utilizzata per stampare un messaggio diverso per ogni numero.\n",
    "\n",
    "Oltre al ciclo for, esiste anche il ciclo while, che viene utilizzato quando non si conosce a priori il numero di iterazioni necessarie per completare un'operazione. Il ciclo while continua a eseguire il blocco di codice finché la condizione specificata è vera. Ad esempio:"
   ]
  },
  {
   "cell_type": "code",
   "execution_count": 12,
   "id": "66644a54",
   "metadata": {},
   "outputs": [
    {
     "name": "stdout",
     "output_type": "stream",
     "text": [
      "0\n",
      "1\n",
      "2\n",
      "3\n",
      "4\n"
     ]
    }
   ],
   "source": [
    "x = 0\n",
    "while x < 5:\n",
    "    print(x)\n",
    "    x += 1"
   ]
  },
  {
   "cell_type": "markdown",
   "id": "0aea38fd",
   "metadata": {},
   "source": [
    "In questo caso, il ciclo while viene utilizzato per stampare i numeri da 0 a 4. La variabile x viene incrementata di 1 ad ogni iterazione del ciclo while finché non raggiunge il valore 5.\n",
    "\n",
    "Il ciclo for e il ciclo while sono fondamentali per iterare su sequenze di dati, eseguire operazioni ripetitive e risolvere molti problemi di programmazione."
   ]
  },
  {
   "cell_type": "markdown",
   "id": "532ec127",
   "metadata": {},
   "source": [
    "## Creare funzioni personalizzate per eseguire comandi specifici"
   ]
  },
  {
   "cell_type": "markdown",
   "id": "81f483fc",
   "metadata": {},
   "source": [
    "Le funzioni sono una parte fondamentale del codice, poiché consentono di eseguire un blocco di codice specifico su richiesta. Ciò consente di scrivere codice più leggibile, modulare e facile da riutilizzare.\n",
    "\n",
    "In questo capitolo, impareremo come creare funzioni personalizzate che permettono al computer di eseguire un determinato comando.\n",
    "\n",
    "### Definizione di funzione\n",
    "Una funzione in Python viene definita utilizzando la parola chiave \"def\". L'esempio seguente illustra la sintassi di base per definire una funzione:\n",
    "\n",
    "```\n",
    "def nome_funzione(parametro1, parametro2):\n",
    "    # Corpo della funzione\n",
    "    return risultato\n",
    "```\n",
    "\n",
    "Il nome della funzione può essere scelto arbitrariamente, ma è buona norma scegliere un nome che descriva il suo scopo. I parametri sono gli input della funzione e possono essere opzionali o obbligatori. Il corpo della funzione contiene il codice che verrà eseguito ogni volta che la funzione viene chiamata. Infine, la funzione restituisce un risultato utilizzando la parola chiave \"return\".\n",
    "\n",
    "I parametri sono opzionali e possono essere passati alla funzione quando viene chiamata. I parametri possono essere di due tipi: **posizionali** o **keyword**.\n",
    "\n",
    "I parametri posizionali sono quelli che vengono passati in base alla posizione nella chiamata della funzione. Ad esempio, se si definisce una funzione con due parametri, parametro1 e parametro2, il primo parametro passato alla funzione sarà assegnato al parametro1 e il secondo al parametro2."
   ]
  },
  {
   "cell_type": "code",
   "execution_count": 13,
   "id": "15b74d3a",
   "metadata": {},
   "outputs": [
    {
     "name": "stdout",
     "output_type": "stream",
     "text": [
      "5\n"
     ]
    }
   ],
   "source": [
    "def somma(a, b):\n",
    "    return a + b\n",
    "\n",
    "risultato = somma(2, 3)\n",
    "print(risultato) # Output: 5\n"
   ]
  },
  {
   "cell_type": "markdown",
   "id": "e88b6fec",
   "metadata": {},
   "source": [
    "In questo esempio, la funzione \"somma\" accetta due parametri, \"a\" e \"b\", e restituisce la loro somma. Quando la funzione viene chiamata con i valori 2 e 3, i valori vengono assegnati rispettivamente a \"a\" e \"b\" e viene restituito il risultato 5."
   ]
  },
  {
   "cell_type": "markdown",
   "id": "cf11c2e6",
   "metadata": {},
   "source": [
    "Inoltre, Python supporta anche l'utilizzo di argomenti keyword, che permettono di specificare il valore di un parametro in base al suo nome, anziché in base alla sua posizione nella lista dei parametri. Ad esempio:"
   ]
  },
  {
   "cell_type": "code",
   "execution_count": 16,
   "id": "3061166f",
   "metadata": {},
   "outputs": [
    {
     "name": "stdout",
     "output_type": "stream",
     "text": [
      "Ciao Paolo, come stai?\n"
     ]
    }
   ],
   "source": [
    "def messaggio(nome, messaggio):\n",
    "    print(f\"Ciao {nome}, {messaggio}\")\n",
    "    \n",
    "messaggio(messaggio=\"come stai?\", nome=\"Paolo\")\n",
    "# Output: Ciao Paolo, come stai?\n"
   ]
  },
  {
   "cell_type": "markdown",
   "id": "e05b365e",
   "metadata": {},
   "source": [
    "In questo esempio, la funzione \"messaggio\" accetta due parametri, \"nome\" e \"messaggio\". Quando viene chiamata, vengono specificati i valori dei parametri usando il loro nome, anziché la posizione nella lista dei parametri.\n",
    "\n",
    "Infine, le funzioni possono restituire un valore utilizzando la parola chiave \"return\". Il valore restituito può essere di qualsiasi tipo, ad esempio un numero, una stringa, una lista, un dizionario, una tupla, un oggetto, ecc."
   ]
  },
  {
   "cell_type": "code",
   "execution_count": 2,
   "id": "13a26738",
   "metadata": {},
   "outputs": [],
   "source": [
    "def quadrato(x):\n",
    "    return x ** 2\n",
    "\n",
    "risultato = quadrato(5)\n",
    "print(risultato) # Output: 25"
   ]
  },
  {
   "cell_type": "markdown",
   "id": "50a26526",
   "metadata": {},
   "source": [
    "In questo esempio, la funzione \"quadrato\" accetta un parametro \"x\" e restituisce il suo quadrato. Quando viene chiamata con il valore 5, viene restituito il valore 25."
   ]
  },
  {
   "cell_type": "markdown",
   "id": "2de83652",
   "metadata": {},
   "source": [
    "## Funzioni con argomenti predefiniti\n",
    "\n",
    "È possibile specificare un valore predefinito per un argomento in modo che, se l'argomento non viene specificato quando la funzione viene chiamata, il valore predefinito viene utilizzato automaticamente. Ad esempio:"
   ]
  },
  {
   "cell_type": "code",
   "execution_count": 17,
   "id": "db517647",
   "metadata": {},
   "outputs": [
    {
     "name": "stdout",
     "output_type": "stream",
     "text": [
      "Ciao Marco\n",
      "Ciao Paolo\n"
     ]
    }
   ],
   "source": [
    "def saluta(nome=\"Marco\"):\n",
    "    print(\"Ciao\", nome)\n",
    "\n",
    "saluta() # Stampa \"Ciao Marco\"\n",
    "saluta(\"Paolo\") # Stampa \"Ciao Paolo\""
   ]
  },
  {
   "cell_type": "markdown",
   "id": "d11bc661",
   "metadata": {},
   "source": [
    "## Funzioni con numero variabile di argomenti (operatori * e **)\n",
    "\n",
    "L'operatore * e l'operatore ** sono utilizzati nelle funzioni per gestire gli argomenti di lunghezza variabile.\n",
    "\n",
    "L'operatore * viene utilizzato per passare una sequenza di argomenti di lunghezza variabile alla funzione. Quando viene utilizzato all'interno della definizione di una funzione, *args permette di passare un numero variabile di argomenti posizionali. Ad esempio, nella definizione della funzione seguente, *args indica che la funzione accetta un numero variabile di argomenti posizionali."
   ]
  },
  {
   "cell_type": "code",
   "execution_count": 18,
   "id": "d838bf35",
   "metadata": {},
   "outputs": [],
   "source": [
    "def funzione(*args):\n",
    "    for arg in args:\n",
    "        print(arg)"
   ]
  },
  {
   "cell_type": "markdown",
   "id": "e4ac1d8d",
   "metadata": {},
   "source": [
    "In questo modo, è possibile passare qualsiasi numero di argomenti posizionali alla funzione, ad esempio:"
   ]
  },
  {
   "cell_type": "code",
   "execution_count": 19,
   "id": "e6fa53f2",
   "metadata": {},
   "outputs": [
    {
     "name": "stdout",
     "output_type": "stream",
     "text": [
      "1\n",
      "2\n",
      "3\n"
     ]
    }
   ],
   "source": [
    "funzione(1, 2, 3)\n",
    "# Output: 1\n",
    "#         2\n",
    "#         3"
   ]
  },
  {
   "cell_type": "markdown",
   "id": "c1b7dd69",
   "metadata": {},
   "source": [
    "L'operatore \\**, invece, viene utilizzato per passare un numero variabile di argomenti di parola chiave alla funzione. Quando viene utilizzato all'interno della definizione di una funzione, **kwargs permette di passare un numero variabile di argomenti di parola chiave. Ad esempio, nella definizione della funzione seguente, **kwargs indica che la funzione accetta un numero variabile di argomenti di parola chiave."
   ]
  },
  {
   "cell_type": "code",
   "execution_count": 20,
   "id": "c81c90b7",
   "metadata": {},
   "outputs": [],
   "source": [
    "def funzione(**kwargs):\n",
    "    for key, value in kwargs.items():\n",
    "        print(key, value)"
   ]
  },
  {
   "cell_type": "markdown",
   "id": "b9b409ce",
   "metadata": {},
   "source": [
    "In questo modo, è possibile passare qualsiasi numero di argomenti di parola chiave alla funzione, ad esempio:\n"
   ]
  },
  {
   "cell_type": "code",
   "execution_count": null,
   "id": "46736801",
   "metadata": {},
   "outputs": [],
   "source": [
    "funzione(nome='Mario', cognome='Rossi', età=30)\n",
    "# Output: nome Mario\n",
    "#         cognome Rossi\n",
    "#         età 30\n"
   ]
  },
  {
   "cell_type": "markdown",
   "id": "a93b1271",
   "metadata": {},
   "source": [
    "Per riassumere, l'operatore * permette di passare un numero variabile di argomenti posizionali, mentre l'operatore ** permette di passare un numero variabile di argomenti keyword. L'utilizzo di queste funzionalità è molto diffuso nelle librerie principali di Python, quindi è importante conoscerle e saperle utilizzare."
   ]
  },
  {
   "cell_type": "markdown",
   "id": "1c90701f",
   "metadata": {},
   "source": [
    "## Sviluppare funzioni personalizzate con una sintassi rapida che permette una riduzione del tempo di sviluppo"
   ]
  },
  {
   "cell_type": "markdown",
   "id": "60da68db",
   "metadata": {},
   "source": [
    "Python offre molte funzionalità per lo sviluppo di funzioni personalizzate che possono ridurre notevolmente il tempo di sviluppo del codice. Di seguito sono riportati alcuni esempi di come utilizzare queste funzionalità per creare funzioni personalizzate in modo rapido e semplice."
   ]
  },
  {
   "cell_type": "markdown",
   "id": "7b914019",
   "metadata": {},
   "source": [
    "### Lambda Function\n",
    "\n",
    "La funzione lambda è un modo rapido per creare funzioni anonime. Invece di definire una funzione completa utilizzando la parola chiave \"def\", è possibile utilizzare la sintassi lambda per creare una funzione in una sola riga. Ad esempio, la seguente funzione lambda calcola il quadrato di un numero:"
   ]
  },
  {
   "cell_type": "code",
   "execution_count": 21,
   "id": "3c444bb1",
   "metadata": {},
   "outputs": [
    {
     "data": {
      "text/plain": [
       "16"
      ]
     },
     "execution_count": 21,
     "metadata": {},
     "output_type": "execute_result"
    }
   ],
   "source": [
    "square = lambda x: x**2\n",
    "\n",
    "square(4)"
   ]
  },
  {
   "cell_type": "markdown",
   "id": "f131cec5",
   "metadata": {},
   "source": [
    "### List Comprehension\n",
    "\n",
    "Le list comprehension sono un modo rapido per creare liste in Python. Sono spesso utilizzate per creare liste basate su altre liste o su sequenze di numeri. Ad esempio, la seguente list comprehension crea una lista di quadrati dei numeri da 1 a 10:"
   ]
  },
  {
   "cell_type": "code",
   "execution_count": 22,
   "id": "9a486ac1",
   "metadata": {},
   "outputs": [
    {
     "data": {
      "text/plain": [
       "[1, 4, 9, 16, 25, 36, 49, 64, 81, 100]"
      ]
     },
     "execution_count": 22,
     "metadata": {},
     "output_type": "execute_result"
    }
   ],
   "source": [
    "squares = [x**2 for x in range(1, 11)]\n",
    "squares"
   ]
  },
  {
   "cell_type": "markdown",
   "id": "8fdd77cb",
   "metadata": {},
   "source": [
    "### Map Function\n",
    "\n",
    "La funzione map è un modo rapido per applicare una funzione ad ogni elemento di una sequenza (lista, tupla, ecc.) e restituire una nuova sequenza con i risultati. La sintassi di base della funzione map è la seguente:"
   ]
  },
  {
   "cell_type": "code",
   "execution_count": 23,
   "id": "4ee240f2",
   "metadata": {},
   "outputs": [
    {
     "data": {
      "text/plain": [
       "<map at 0x2f2041dc280>"
      ]
     },
     "execution_count": 23,
     "metadata": {},
     "output_type": "execute_result"
    }
   ],
   "source": [
    "map(funzione, lista)"
   ]
  },
  {
   "cell_type": "markdown",
   "id": "74bae38a",
   "metadata": {},
   "source": [
    "Ad esempio, la seguente funzione map applica la funzione lambda \"square\" a ogni elemento della lista \"numbers\":"
   ]
  },
  {
   "cell_type": "code",
   "execution_count": 24,
   "id": "ef23b383",
   "metadata": {},
   "outputs": [],
   "source": [
    "numbers = [1, 2, 3, 4, 5]\n",
    "squared_numbers = map(lambda x: x**2, numbers)"
   ]
  },
  {
   "cell_type": "markdown",
   "id": "ff1be3c1",
   "metadata": {},
   "source": [
    "Il risultato sarà un oggetto map che contiene i quadrati dei numeri nella lista \"numbers\". Per convertire l'oggetto map in una lista, è possibile utilizzare la funzione list() sull'oggetto stesso."
   ]
  },
  {
   "cell_type": "code",
   "execution_count": 25,
   "id": "391bf2b4",
   "metadata": {},
   "outputs": [
    {
     "data": {
      "text/plain": [
       "[1, 4, 9, 16, 25]"
      ]
     },
     "execution_count": 25,
     "metadata": {},
     "output_type": "execute_result"
    }
   ],
   "source": [
    "list(squared_numbers)"
   ]
  },
  {
   "cell_type": "markdown",
   "id": "3727c9a3",
   "metadata": {},
   "source": [
    "### Filter Function\n",
    "\n",
    "La funzione filter è un modo rapido per filtrare gli elementi di una lista in base a una determinata condizione. La sintassi di base della funzione filter è la seguente:\n",
    "\n",
    "```\n",
    "filter(condizione, lista)\n",
    "```\n",
    "\n",
    "Ad esempio, la seguente funzione filter filtra i numeri pari dalla lista \"numbers\":"
   ]
  },
  {
   "cell_type": "code",
   "execution_count": 26,
   "id": "58d69214",
   "metadata": {},
   "outputs": [],
   "source": [
    "numbers = [1, 2, 3, 4, 5]\n",
    "even_numbers = filter(lambda x: x % 2 == 0, numbers)"
   ]
  },
  {
   "cell_type": "markdown",
   "id": "f4e391e5",
   "metadata": {},
   "source": [
    "Il risultato sarà un oggetto filter che contiene solo i numeri pari nella lista \"numbers\". Per convertire l'oggetto filter in una lista, è possibile utilizzare la funzione list()."
   ]
  },
  {
   "cell_type": "code",
   "execution_count": 27,
   "id": "24f0f564",
   "metadata": {},
   "outputs": [
    {
     "data": {
      "text/plain": [
       "[2, 4]"
      ]
     },
     "execution_count": 27,
     "metadata": {},
     "output_type": "execute_result"
    }
   ],
   "source": [
    "list(even_numbers)"
   ]
  },
  {
   "cell_type": "markdown",
   "id": "17d24805",
   "metadata": {},
   "source": [
    "In generale, le funzioni lambda, le list comprehension e le funzioni map e filter sono strumenti potenti per lo sviluppo rapido di funzioni personalizzate in Python. Sono particolarmente utili quando si lavora con grandi quantità di dati o quando si deve scrivere codice efficiente e conciso."
   ]
  },
  {
   "cell_type": "markdown",
   "id": "5c88b30c",
   "metadata": {},
   "source": [
    "## Esercizi"
   ]
  },
  {
   "cell_type": "markdown",
   "id": "b2ca4fed",
   "metadata": {},
   "source": [
    "## Esercizio 1\n",
    "\n",
    "Scrivi una funzione che prenda in input una stringa e restituisca la stringa con le lettere in ordine inverso."
   ]
  },
  {
   "cell_type": "code",
   "execution_count": null,
   "id": "7ca91a78",
   "metadata": {},
   "outputs": [],
   "source": [
    "def reverse_string(string):\n",
    "    ..."
   ]
  },
  {
   "cell_type": "markdown",
   "id": "3219c6f9",
   "metadata": {},
   "source": [
    "## Esercizio 2\n",
    "Scivi una funzione che prenda in input un dizionario con paesi e capitali, come definito nel notebook numero 2 e che restituisca la lista dei paesi la cui capitale ha un numero pari di lettere."
   ]
  },
  {
   "cell_type": "code",
   "execution_count": 32,
   "id": "ec084cab",
   "metadata": {},
   "outputs": [],
   "source": [
    "g10= {'Canada': 'Ottawa',\n",
    " 'Francia': 'Parigi',\n",
    " 'Germania': 'Berlino',\n",
    " 'Italia': 'Bobbio',\n",
    " 'Giappone': 'Tokyo',\n",
    " 'Regno Unito': 'Londra',\n",
    " 'Stati Uniti': 'Washington, D.C.',\n",
    " 'Spagna': 'Madrid',\n",
    " 'Paesi Bassi': 'Amsterdam',\n",
    " 'Corea del Sud': 'Seoul'}"
   ]
  },
  {
   "cell_type": "code",
   "execution_count": null,
   "id": "2f83ccb8",
   "metadata": {},
   "outputs": [],
   "source": [
    "def paesi_capitale_pari(dizionario):\n",
    "    result = []\n",
    "    for country, capital in dizionario.items():\n",
    "        if #condizione sulle lettere... :\n",
    "#            aggiungi country a result\n",
    "    return result"
   ]
  },
  {
   "cell_type": "code",
   "execution_count": 38,
   "id": "b18b0d6c",
   "metadata": {},
   "outputs": [
    {
     "data": {
      "text/plain": [
       "['Canada', 'Francia', 'Italia', 'Regno Unito', 'Stati Uniti', 'Spagna']"
      ]
     },
     "execution_count": 38,
     "metadata": {},
     "output_type": "execute_result"
    }
   ],
   "source": [
    "paesi_capitale_pari(g10)"
   ]
  },
  {
   "cell_type": "markdown",
   "id": "ed8f4096",
   "metadata": {},
   "source": [
    "## Esercizio 3 \n",
    "\n",
    "Scrivere una funzione che prenda in input una lista di parole e restituisca una nuova lista contenente solo le parole palindrome.\n",
    "\n"
   ]
  },
  {
   "cell_type": "code",
   "execution_count": 5,
   "id": "a555b713",
   "metadata": {},
   "outputs": [
    {
     "name": "stdout",
     "output_type": "stream",
     "text": [
      "['anna', 'radar', 'osso', 'madam']\n"
     ]
    }
   ],
   "source": [
    "def trova_palindrome(lista_parole):\n",
    "    palindrome = []\n",
    "#    ... ciclo su lista_parole e se la parola è uguale a se stessa invertita append in palindrome\n",
    "    return palindrome\n",
    "\n",
    "lista_parole = ['ciao', 'anna', 'radar', 'gatto', 'osso', 'madam']\n",
    "palindrome = trova_palindrome(lista_parole)\n",
    "print(palindrome)"
   ]
  }
 ],
 "metadata": {
  "kernelspec": {
   "display_name": "Python 3 (ipykernel)",
   "language": "python",
   "name": "python3"
  },
  "language_info": {
   "codemirror_mode": {
    "name": "ipython",
    "version": 3
   },
   "file_extension": ".py",
   "mimetype": "text/x-python",
   "name": "python",
   "nbconvert_exporter": "python",
   "pygments_lexer": "ipython3",
   "version": "3.11.7"
  }
 },
 "nbformat": 4,
 "nbformat_minor": 5
}

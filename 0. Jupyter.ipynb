{
 "cells": [
  {
   "cell_type": "markdown",
   "id": "fa28fc98",
   "metadata": {},
   "source": [
    "# Introduzione a Jupyter Notebook\n"
   ]
  },
  {
   "cell_type": "markdown",
   "id": "c59caaaa",
   "metadata": {},
   "source": [
    "## TODO: aggiungi come usare comandi con !"
   ]
  },
  {
   "cell_type": "markdown",
   "id": "97b2b96e",
   "metadata": {},
   "source": [
    "## Che cos'è Jupyter Notebook?"
   ]
  },
  {
   "cell_type": "markdown",
   "id": "a63bc978",
   "metadata": {},
   "source": [
    "\n",
    "Jupyter Notebook è un ambiente di sviluppo integrato (IDE) che permette di creare e condividere documenti che contengono codice, testo, immagini, grafici e altro ancora. È utilizzato principalmente per l'analisi dati, il machine learning, la ricerca scientifica e l'educazione.\n",
    "\n",
    "Il nome \"Jupyter\" è l'acronimo di tre dei principali linguaggi di programmazione supportati: Julia, Python e R."
   ]
  },
  {
   "cell_type": "markdown",
   "id": "1cc3fe97",
   "metadata": {},
   "source": [
    "## Come funziona Jupyter Notebook?\n"
   ]
  },
  {
   "cell_type": "markdown",
   "id": "a324fb59",
   "metadata": {},
   "source": [
    "Jupyter Notebook si basa sulla creazione di documenti chiamati \"notebook\", che possono essere eseguiti in un server locale o su un server remoto. Un notebook è composto da una serie di celle, che possono contenere codice, testo formattato con la sintassi Markdown, immagini e altro ancora.\n",
    "\n",
    "Le celle di codice possono essere eseguite interattivamente, permettendo di vedere immediatamente i risultati delle operazioni effettuate. Inoltre, i risultati possono essere visualizzati all'interno del notebook, sotto forma di grafici, tabelle e altro ancora."
   ]
  },
  {
   "cell_type": "markdown",
   "id": "2f7dee6f",
   "metadata": {},
   "source": [
    "## Come utilizzare Jupyter Notebook?\n"
   ]
  },
  {
   "cell_type": "markdown",
   "id": "b97c476f",
   "metadata": {},
   "source": [
    "Per creare un nuovo notebook, cliccare sul pulsante \"New\" in alto a destra della finestra e selezionare il tipo di notebook desiderato (Python 3, R, Julia, ecc.).\n",
    "\n",
    "Una volta creato il notebook, è possibile scrivere codice all'interno delle celle di codice. Per eseguire una cella di codice, cliccare sulla cella e premere il pulsante \"Run\" in alto a sinistra o premere Shift+Invio sulla tastiera.\n",
    "\n",
    "Per aggiungere testo formattato con la sintassi Markdown, selezionare una cella di testo e premere il pulsante \"Markdown\" in alto a sinistra. È possibile utilizzare diversi comandi Markdown per creare titoli, elenchi, link, immagini e altro ancora.\n",
    "\n",
    "Per salvare il notebook, premere il pulsante \"Save\" in alto a destra o utilizzare la combinazione di tasti Ctrl+S sulla tastiera."
   ]
  },
  {
   "cell_type": "markdown",
   "id": "90f62513",
   "metadata": {},
   "source": [
    "## Altre info utili"
   ]
  },
  {
   "cell_type": "markdown",
   "id": "169285ec",
   "metadata": {},
   "source": [
    "Il kernel è il processo che esegue il codice Python all'interno del notebook. Se il kernel sembra essere bloccato o non risponde, è possibile riavviarlo selezionando \"Kernel\" dalla barra dei menu e scegliendo \"Restart Kernel\". In alternativa, è possibile utilizzare la scorciatoia \"0, 0\" (ossia premere due volte il tasto \"0\" mentre si tiene premuto il tasto \"J\" in modalità di comando).\n",
    "\n",
    "Inoltre, è possibile aprire un terminale all'interno di Jupyter Notebook cliccando su \"New\" e selezionando \"Terminal\". Questo aprirà un terminale all'interno del browser nella directory corrente del notebook. Ciò può essere utile per eseguire comandi come la clonazione di un repository Git o l'installazione di pacchetti Python.\n",
    "\n",
    "Infine, ci sono alcune estensioni di Jupyter Notebook che possono rendere l'esperienza di utilizzo ancora più comoda ed efficiente. Ad esempio, l'estensione \"Table of Contents\" aggiunge una sezione di riferimento rapido all'inizio del notebook, mentre l'estensione \"Collapsible Headings\" consente di nascondere e mostrare rapidamente le sezioni del notebook. Per installare un'estensione, è possibile utilizzare il comando \"jupyter nbextension install --user <extension_name>\" e quindi abilitare l'estensione con \"jupyter nbextension enable <extension_name>\"."
   ]
  },
  {
   "cell_type": "markdown",
   "id": "77b0d503",
   "metadata": {},
   "source": [
    "## Esempio cella di codice"
   ]
  },
  {
   "cell_type": "code",
   "execution_count": 1,
   "id": "c5839aed",
   "metadata": {},
   "outputs": [
    {
     "name": "stdout",
     "output_type": "stream",
     "text": [
      "30\n"
     ]
    }
   ],
   "source": [
    "# Esempio di codice Python che calcola la somma di due numeri\n",
    "a = 10\n",
    "b = 20\n",
    "c = a + b\n",
    "print(c)"
   ]
  },
  {
   "cell_type": "markdown",
   "id": "d743ebef",
   "metadata": {},
   "source": [
    "## Esempio cella markdown"
   ]
  },
  {
   "cell_type": "markdown",
   "id": "342f42cf",
   "metadata": {},
   "source": [
    "# Titolo di primo livello\n",
    "\n",
    "## Titolo di secondo livello\n",
    "\n",
    "### Titolo di terzo livello\n",
    "\n",
    "Questo è un testo in **grassetto** e questo è un testo in *corsivo*.\n",
    "\n",
    "Ecco una lista non ordinata:\n",
    "- Elemento 1\n",
    "- Elemento 2\n",
    "- Elemento 3\n",
    "\n",
    "Ecco una lista ordinata:\n",
    "1. Primo elemento\n",
    "2. Secondo elemento\n",
    "3. Terzo elemento\n",
    "\n",
    "Ecco un blocco di codice:\n",
    "```python\n",
    "a = 10\n",
    "b = 20\n",
    "c = a + b\n",
    "print(c)\n"
   ]
  },
  {
   "cell_type": "markdown",
   "id": "966de2e3",
   "metadata": {},
   "source": [
    "Per quanto riguarda le opzioni di formattazione del testo in Markdown, ecco alcune delle più comuni:\n",
    "\n",
    "- `#` per i titoli di primo livello, `##` per i titoli di secondo livello, ecc.\n",
    "- `**testo**` per il testo in grassetto, `*testo*` per il testo in corsivo\n",
    "- `-` per creare una lista non ordinata, `1.` per creare una lista ordinata\n",
    "- ````` per creare un blocco di codice, inserendo il linguaggio di programmazione subito dopo per avere la colorazione sintattica corretta"
   ]
  },
  {
   "cell_type": "markdown",
   "id": "55b26485",
   "metadata": {},
   "source": [
    "## Shortcut utili"
   ]
  },
  {
   "cell_type": "markdown",
   "id": "c9684eca",
   "metadata": {},
   "source": [
    "Inoltre, ci sono anche alcuni shortcut utili che possono rendere più veloce l'utilizzo di Jupyter Notebook:\n",
    "\n",
    "- `Esc` per entrare in modalità comandi, `Enter` per entrare in modalità edit\n",
    "- `B` per inserire una nuova cella sotto la cella selezionata, `A` per inserire una nuova cella sopra la cella selezionata\n",
    "- `M` per cambiare il tipo di cella in Markdown, `Y` per cambiare il tipo di cella in codice Python\n",
    "- `Shift + Enter` per eseguire la cella selezionata\n",
    "- `Ctrl + S` per salvare il notebook"
   ]
  }
 ],
 "metadata": {
  "kernelspec": {
   "display_name": "Python 3 (ipykernel)",
   "language": "python",
   "name": "python3"
  },
  "language_info": {
   "codemirror_mode": {
    "name": "ipython",
    "version": 3
   },
   "file_extension": ".py",
   "mimetype": "text/x-python",
   "name": "python",
   "nbconvert_exporter": "python",
   "pygments_lexer": "ipython3",
   "version": "3.9.15"
  }
 },
 "nbformat": 4,
 "nbformat_minor": 5
}

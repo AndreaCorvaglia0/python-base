{
 "cells": [
  {
   "cell_type": "markdown",
   "id": "fa28fc98",
   "metadata": {},
   "source": [
    "# Introduzione a Jupyter Notebook\n"
   ]
  },
  {
   "cell_type": "markdown",
   "id": "21d22e93",
   "metadata": {},
   "source": [
    "ref : https://jupyter-notebook.readthedocs.io/en/latest/notebook.html"
   ]
  },
  {
   "cell_type": "markdown",
   "id": "97b2b96e",
   "metadata": {},
   "source": [
    "## Che cos'è Jupyter Notebook?"
   ]
  },
  {
   "cell_type": "markdown",
   "id": "a63bc978",
   "metadata": {},
   "source": [
    "\n",
    "Jupyter Notebook è un ambiente di sviluppo integrato (IDE) che permette di creare e condividere documenti che contengono codice, testo, immagini, grafici e altro ancora. È utilizzato principalmente per l'analisi dati, il machine learning, la ricerca scientifica e l'educazione.\n",
    "\n",
    "Il nome \"Jupyter\" è l'acronimo di tre dei principali linguaggi di programmazione supportati: Julia, Python e R."
   ]
  },
  {
   "cell_type": "markdown",
   "id": "1cc3fe97",
   "metadata": {},
   "source": [
    "## Come funziona Jupyter Notebook?\n"
   ]
  },
  {
   "cell_type": "markdown",
   "id": "a324fb59",
   "metadata": {},
   "source": [
    "Jupyter Notebook si basa sulla creazione di documenti chiamati \"notebook\", che possono essere eseguiti in un server locale o su un server remoto. Un notebook è composto da una serie di celle, che possono contenere codice, testo formattato con la sintassi Markdown, immagini e altro ancora.\n",
    "\n",
    "info markdown : https://jupyter-notebook.readthedocs.io/en/latest/examples/Notebook/Working%20With%20Markdown%20Cells.html#Markdown-Cells\n",
    "\n",
    "Le celle di codice possono essere eseguite interattivamente, permettendo di vedere immediatamente i risultati delle operazioni effettuate. Inoltre, i risultati possono essere visualizzati all'interno del notebook, sotto forma di grafici, tabelle e altro ancora."
   ]
  },
  {
   "cell_type": "markdown",
   "id": "2f7dee6f",
   "metadata": {},
   "source": [
    "## Come utilizzare Jupyter Notebook?\n"
   ]
  },
  {
   "cell_type": "markdown",
   "id": "b97c476f",
   "metadata": {},
   "source": [
    "Per creare un nuovo notebook, partendo dalla schermata iniziale che mostra il filesystem, cliccare sul pulsante \"New\" in alto a destra della finestra e selezionare notebook: Python 3 (ipykernel).\n",
    "\n",
    "Una volta creato il notebook, è possibile scrivere codice all'interno delle celle di codice. Per eseguire una cella di codice, cliccare sulla cella e premere il pulsante \"Run\" in alto a sinistra o premere Shift+Invio sulla tastiera.\n",
    "\n",
    "Per aggiungere testo formattato con la sintassi Markdown, selezionare una cella di testo e selezionare \"Markdown\" nel menu a tendina in alto a sinistra. È possibile utilizzare diversi comandi Markdown per creare titoli, elenchi, link, immagini e altro ancora.\n",
    "\n",
    "Per salvare il notebook utilizzare la combinazione di tasti Ctrl+S sulla tastiera."
   ]
  },
  {
   "cell_type": "markdown",
   "id": "90f62513",
   "metadata": {},
   "source": [
    "## Altre info utili"
   ]
  },
  {
   "cell_type": "markdown",
   "id": "169285ec",
   "metadata": {},
   "source": [
    "Il kernel è il processo che esegue il codice Python all'interno del notebook. Se il kernel sembra essere bloccato o non risponde, è possibile riavviarlo selezionando \"Kernel\" dalla barra dei menu e scegliendo \"Restart Kernel\".\n",
    "\n",
    "Inoltre, è possibile aprire un terminale all'interno di Jupyter Notebook cliccando su \"New\" e selezionando \"Terminal\". Questo aprirà un terminale all'interno del browser nella directory corrente del notebook. Ciò può essere utile per eseguire comandi come la clonazione di un repository Git o l'installazione di pacchetti Python."
   ]
  },
  {
   "cell_type": "markdown",
   "id": "77b0d503",
   "metadata": {},
   "source": [
    "## Esempio cella di codice"
   ]
  },
  {
   "cell_type": "code",
   "execution_count": 4,
   "id": "c5839aed",
   "metadata": {},
   "outputs": [
    {
     "name": "stdout",
     "output_type": "stream",
     "text": [
      "30\n"
     ]
    }
   ],
   "source": [
    "# Esempio di codice Python che calcola la somma di due numeri\n",
    "a = 10\n",
    "b = 20\n",
    "c = a + b\n",
    "print(c)"
   ]
  },
  {
   "cell_type": "markdown",
   "id": "d743ebef",
   "metadata": {},
   "source": [
    "## Esempio cella markdown"
   ]
  },
  {
   "cell_type": "markdown",
   "id": "342f42cf",
   "metadata": {},
   "source": [
    "# Titolo di primo livello\n",
    "\n",
    "## Titolo di secondo livello\n",
    "\n",
    "### Titolo di terzo livello\n",
    "\n",
    "Questo è un testo in **grassetto** e questo è un testo in *corsivo*.\n",
    "\n",
    "Ecco una lista non ordinata:\n",
    "- Elemento 1\n",
    "- Elemento 2\n",
    "- Elemento 3\n",
    "\n",
    "Ecco una lista ordinata:\n",
    "1. Primo elemento\n",
    "2. Secondo elemento\n",
    "3. Terzo elemento\n",
    "\n",
    "Ecco un blocco di codice:\n",
    "```python\n",
    "a = 10\n",
    "b = 20\n",
    "c = a + b\n",
    "print(c)\n"
   ]
  },
  {
   "cell_type": "markdown",
   "id": "966de2e3",
   "metadata": {},
   "source": [
    "Per quanto riguarda le opzioni di formattazione del testo in Markdown, ecco alcune delle più comuni:\n",
    "\n",
    "- `#` per i titoli di primo livello, `##` per i titoli di secondo livello, ecc.\n",
    "- `**testo**` per il testo in grassetto, `*testo*` per il testo in corsivo\n",
    "- `-` per creare una lista non ordinata, `1.` per creare una lista ordinata\n",
    "- ````` per creare un blocco di codice, inserendo il linguaggio di programmazione subito dopo per avere la colorazione sintattica corretta"
   ]
  },
  {
   "cell_type": "markdown",
   "id": "55b26485",
   "metadata": {},
   "source": [
    "## Shortcut utili"
   ]
  },
  {
   "cell_type": "markdown",
   "id": "c9684eca",
   "metadata": {},
   "source": [
    "Inoltre, ci sono anche alcuni shortcut utili che possono rendere più veloce l'utilizzo di Jupyter Notebook:\n",
    "\n",
    "- `Esc` per entrare in modalità comandi, `Enter` per entrare in modalità edit\n",
    "- `B` per inserire una nuova cella sotto la cella selezionata, `A` per inserire una nuova cella sopra la cella selezionata\n",
    "- `M` per cambiare il tipo di cella in Markdown, `Y` per cambiare il tipo di cella in codice Python\n",
    "- `Shift + Enter` per eseguire la cella selezionata\n",
    "- `Ctrl + S` per salvare il notebook"
   ]
  },
  {
   "cell_type": "markdown",
   "id": "9f1f9d92",
   "metadata": {},
   "source": [
    "##  Esercizio \n",
    "\n",
    "Creare 2 celle :\n",
    "\n",
    "1. markdown in cui c'è un titolo \"Soluzione\" e del testo sotto con scritto \"Questa è la soluzione del primo esercizio.\" \n",
    "\n",
    "2. cella di codice in cui inserire il sequente codice : \n",
    "\n",
    "```python\n",
    "\n",
    "print(\"Primo comando python del corso!\")\n",
    "\n",
    "```\n",
    "\n",
    "ed eseguirle entrambe"
   ]
  }
 ],
 "metadata": {
  "kernelspec": {
   "display_name": "Python 3 (ipykernel)",
   "language": "python",
   "name": "python3"
  },
  "language_info": {
   "codemirror_mode": {
    "name": "ipython",
    "version": 3
   },
   "file_extension": ".py",
   "mimetype": "text/x-python",
   "name": "python",
   "nbconvert_exporter": "python",
   "pygments_lexer": "ipython3",
   "version": "3.11.7"
  }
 },
 "nbformat": 4,
 "nbformat_minor": 5
}

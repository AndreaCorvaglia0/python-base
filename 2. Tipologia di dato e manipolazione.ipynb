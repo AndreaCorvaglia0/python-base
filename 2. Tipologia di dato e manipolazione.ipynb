{
 "cells": [
  {
   "cell_type": "markdown",
   "id": "179aa961",
   "metadata": {},
   "source": [
    "# Tipologia di dato e manipolazione\n",
    "In questo notebook vedremo le principali strutture dati di Python e come manipolarle.\n",
    "\n",
    "# Liste\n",
    "Le liste sono sequenze ordinate di elementi, dove ogni elemento è identificato da un indice. In Python, le liste sono indicizzate da 0. Possiamo accedere a un singolo elemento della lista utilizzando l'operatore di indexing [].\n",
    "\n",
    "Ad esempio, consideriamo la lista seguente:"
   ]
  },
  {
   "cell_type": "code",
   "execution_count": 13,
   "id": "fb634056",
   "metadata": {},
   "outputs": [],
   "source": [
    "lista_numeri = [0, 1, 2, 3, 4, 5, 6, 7, 8, 9]"
   ]
  },
  {
   "cell_type": "markdown",
   "id": "e0b7940e",
   "metadata": {},
   "source": [
    "### Indexing\n",
    "Possiamo accedere all'elemento in posizione i della lista utilizzando l'operatore di indexing:"
   ]
  },
  {
   "cell_type": "code",
   "execution_count": 14,
   "id": "1cc94f3f",
   "metadata": {},
   "outputs": [],
   "source": [
    "elemento = lista_numeri[2]"
   ]
  },
  {
   "cell_type": "markdown",
   "id": "5099691e",
   "metadata": {},
   "source": [
    "Inoltre, è possibile utilizzare gli indici negativi per accedere agli elementi dalla fine della lista:"
   ]
  },
  {
   "cell_type": "code",
   "execution_count": 15,
   "id": "3bb2e740",
   "metadata": {},
   "outputs": [],
   "source": [
    "elemento = lista_numeri[-2]"
   ]
  },
  {
   "cell_type": "markdown",
   "id": "c86abb2d",
   "metadata": {},
   "source": [
    "### Slicing\n",
    "\n",
    "Possiamo anche utilizzare l'operatore di slicing per selezionare una porzione della lista. L'operatore di slicing utilizza la sintassi **[start:end:step]**.\n",
    "\n",
    "\n",
    "Ad esempio, per selezionare gli elementi dalla lista dall'inizio fino ad un certo punto, possiamo omettere l'inizio dell'operatore di slicing. Allo stesso modo, per selezionare gli elementi dalla lista dalla fine fino ad un certo punto, possiamo omettere la fine dell'operatore di slicing. Ad esempio:"
   ]
  },
  {
   "cell_type": "code",
   "execution_count": 16,
   "id": "bd9fe431",
   "metadata": {},
   "outputs": [],
   "source": [
    "# seleziona i primi 5 elementi della lista\n",
    "primi_cinque = lista_numeri[:5]\n",
    "\n",
    "# seleziona gli elementi dalla posizione 3 alla posizione 7\n",
    "selezione = lista_numeri[3:8]\n",
    "\n",
    "# seleziona gli ultimi 3 elementi della lista\n",
    "ultimi_tre = lista_numeri[-3:]"
   ]
  },
  {
   "cell_type": "markdown",
   "id": "d4c42949",
   "metadata": {},
   "source": [
    "Possiamo anche utilizzare un valore di passo negativo per selezionare gli elementi in ordine inverso:"
   ]
  },
  {
   "cell_type": "code",
   "execution_count": 17,
   "id": "f2bd9134",
   "metadata": {},
   "outputs": [],
   "source": [
    "# seleziona gli elementi in ordine inverso\n",
    "inversi = lista_numeri[::-1]"
   ]
  },
  {
   "cell_type": "markdown",
   "id": "47b83bbc",
   "metadata": {},
   "source": [
    "Inoltre, possiamo modificare gli elementi di una lista selezionando una porzione della lista e assegnando un nuovo valore ad essa:"
   ]
  },
  {
   "cell_type": "code",
   "execution_count": 18,
   "id": "4a464fa5",
   "metadata": {},
   "outputs": [],
   "source": [
    "# modifica i primi 3 elementi della lista\n",
    "lista_numeri[:3] = [10, 11, 12]"
   ]
  },
  {
   "cell_type": "markdown",
   "id": "ebf2cbd5",
   "metadata": {},
   "source": [
    "Aggiunta e rimozione di elementi\n",
    "Per aggiungere un elemento alla fine della lista, si può utilizzare il metodo **append**:"
   ]
  },
  {
   "cell_type": "code",
   "execution_count": 19,
   "id": "c5bccb5c",
   "metadata": {},
   "outputs": [],
   "source": [
    "lista_numeri.append(6)"
   ]
  },
  {
   "cell_type": "markdown",
   "id": "90b17ea6",
   "metadata": {},
   "source": [
    "Per rimuovere un elemento dalla lista, si può utilizzare il metodo **remove** specificando l'elemento da rimuovere:"
   ]
  },
  {
   "cell_type": "code",
   "execution_count": 21,
   "id": "daef4910",
   "metadata": {},
   "outputs": [],
   "source": [
    "lista_numeri.remove(10)"
   ]
  },
  {
   "cell_type": "markdown",
   "id": "d71ef009",
   "metadata": {},
   "source": [
    "### Lunghezza della lista\n",
    "Per ottenere la lunghezza di una lista, si può utilizzare la funzione len:"
   ]
  },
  {
   "cell_type": "code",
   "execution_count": 22,
   "id": "06753f73",
   "metadata": {},
   "outputs": [
    {
     "data": {
      "text/plain": [
       "10"
      ]
     },
     "execution_count": 22,
     "metadata": {},
     "output_type": "execute_result"
    }
   ],
   "source": [
    "len(lista_numeri)"
   ]
  },
  {
   "cell_type": "markdown",
   "id": "c3571a53",
   "metadata": {},
   "source": [
    "### Liste di Liste"
   ]
  },
  {
   "cell_type": "markdown",
   "id": "ecead683",
   "metadata": {},
   "source": [
    "Le liste di liste sono una forma comune di dati complessi in Python e possono essere utilizzate per rappresentare matrici, tabelle o qualsiasi altro tipo di dati strutturati. Ogni elemento nella lista esterna è una lista separata, il che significa che possiamo accedere agli elementi di queste liste interne utilizzando l'operatore di indice.\n",
    "\n",
    "Ad esempio, possiamo creare una lista di liste per rappresentare una matrice 3x3:"
   ]
  },
  {
   "cell_type": "code",
   "execution_count": 23,
   "id": "955ec319",
   "metadata": {},
   "outputs": [],
   "source": [
    "matrix = [[1, 2, 3],\n",
    "          [4, 5, 6], \n",
    "          [7, 8, 9]]"
   ]
  },
  {
   "cell_type": "markdown",
   "id": "fac344fe",
   "metadata": {},
   "source": [
    "Possiamo accedere all'elemento in posizione [i][j] utilizzando l'operatore di indice:\n"
   ]
  },
  {
   "cell_type": "code",
   "execution_count": 26,
   "id": "3654a1b3",
   "metadata": {},
   "outputs": [],
   "source": [
    "i=1\n",
    "j=2\n",
    "element = matrix[i][j]"
   ]
  },
  {
   "cell_type": "markdown",
   "id": "6bef63a6",
   "metadata": {},
   "source": [
    "Inoltre, le liste di liste possono essere utilizzate per rappresentare tensori, che sono strutture multidimensionali di dati numerici. In Python, i tensori possono essere rappresentati come liste di liste di liste, dove ogni lista interna rappresenta una dimensione del tensore.\n",
    "\n",
    "Perché è importante conoscere i tensori in Python? I tensori sono alla base del deep learning, una tecnica di machine learning che permette di apprendere rappresentazioni sempre più complesse dei dati. Ad esempio, le immagini possono essere rappresentate come tensori tridimensionali, dove le prime due dimensioni rappresentano le coordinate spaziali dell'immagine e la terza dimensione rappresenta i canali di colore (rosso, verde, blu). Utilizzando i tensori, possiamo addestrare reti neurali profonde per riconoscere oggetti nelle immagini, tradurre il linguaggio naturale, generare testo e molto altro ancora."
   ]
  },
  {
   "cell_type": "markdown",
   "id": "ed4ea857",
   "metadata": {},
   "source": [
    "# Tuple\n",
    "\n",
    "Le tuple sono sequenze di oggetti immutabili, rappresentate da parentesi tonde () che racchiudono gli elementi separati da virgole.\n",
    "\n",
    "### Creazione di una tupla\n",
    "Per creare una tupla, si possono inserire gli elementi desiderati all'interno delle parentesi tonde:"
   ]
  },
  {
   "cell_type": "code",
   "execution_count": 28,
   "id": "78236c01",
   "metadata": {},
   "outputs": [],
   "source": [
    "my_tuple = (1, 2, 3, 4, 5)"
   ]
  },
  {
   "cell_type": "markdown",
   "id": "c42d9671",
   "metadata": {},
   "source": [
    "### Accesso agli elementi di una tupla\n",
    "Si può accedere agli elementi di una tupla tramite l'indice corrispondente, allo stesso modo delle liste:"
   ]
  },
  {
   "cell_type": "code",
   "execution_count": 32,
   "id": "9463a321",
   "metadata": {},
   "outputs": [
    {
     "data": {
      "text/plain": [
       "3"
      ]
     },
     "execution_count": 32,
     "metadata": {},
     "output_type": "execute_result"
    }
   ],
   "source": [
    "my_tuple[2]"
   ]
  },
  {
   "cell_type": "markdown",
   "id": "8bc5446d",
   "metadata": {},
   "source": [
    "### Slicing\n",
    "Anche per le tuple si può utilizzare la tecnica dello slicing per selezionare una sotto-sequenza di elementi:"
   ]
  },
  {
   "cell_type": "code",
   "execution_count": null,
   "id": "bc59f8f6",
   "metadata": {},
   "outputs": [],
   "source": [
    "my_tuple[:3]"
   ]
  },
  {
   "cell_type": "markdown",
   "id": "ee58c4a5",
   "metadata": {},
   "source": [
    "### Immutabilità delle tuple\n",
    "Le tuple sono sequenze di oggetti immutabili, il che significa che una volta create non possono essere modificate."
   ]
  },
  {
   "cell_type": "markdown",
   "id": "03ad4f88",
   "metadata": {},
   "source": [
    "# Dizionari\n",
    "\n",
    "i dizionari sono una struttura dati fondamentale per gestire dati che hanno un rapporto chiave-valore. Vedremo come creare, manipolare e svolgere operazioni sui dizionari in Python.\n"
   ]
  },
  {
   "cell_type": "markdown",
   "id": "67b8553b",
   "metadata": {},
   "source": [
    "### Creazione di un dizionario\n",
    "Per creare un dizionario in Python, si utilizza la sintassi {key1: value1, key2: value2, ...}. Di seguito, vediamo un esempio:"
   ]
  },
  {
   "cell_type": "code",
   "execution_count": 33,
   "id": "f58bf951",
   "metadata": {},
   "outputs": [],
   "source": [
    "dizionario = {'nome': 'Marco', 'cognome': 'Rossi', 'età': 30}"
   ]
  },
  {
   "cell_type": "markdown",
   "id": "828a5298",
   "metadata": {},
   "source": [
    "In questo esempio, abbiamo creato un dizionario con tre coppie chiave-valore: 'nome': 'Marco', 'cognome': 'Rossi' e 'età': 30. Le chiavi del dizionario devono essere univoche e possono essere di qualsiasi tipo di dato *immutabile* come stringhe, numeri e tuple. I valori invece possono essere di qualsiasi tipo di dato, anche di tipo complesso come liste o altri dizionari."
   ]
  },
  {
   "cell_type": "markdown",
   "id": "6291d452",
   "metadata": {},
   "source": [
    "### Accesso ai valori di un dizionario\n",
    "Per accedere ai valori di un dizionario, si utilizza la sintassi dizionario[key]. Di seguito, vediamo un esempio:\n"
   ]
  },
  {
   "cell_type": "code",
   "execution_count": 34,
   "id": "5bbd59fd",
   "metadata": {},
   "outputs": [
    {
     "name": "stdout",
     "output_type": "stream",
     "text": [
      "Marco\n"
     ]
    }
   ],
   "source": [
    "dizionario = {'nome': 'Marco', 'cognome': 'Rossi', 'età': 30}\n",
    "print(dizionario['nome'])  # Output: 'Marco'"
   ]
  },
  {
   "cell_type": "markdown",
   "id": "ceb75a07",
   "metadata": {},
   "source": [
    "In questo esempio, accediamo al valore associato alla chiave 'nome' del dizionario dizionario utilizzando la sintassi dizionario['nome']."
   ]
  },
  {
   "cell_type": "markdown",
   "id": "c2803bf1",
   "metadata": {},
   "source": [
    "### Aggiunta di un elemento a un dizionario\n",
    "\n",
    "Per aggiungere un elemento a un dizionario, si utilizza la sintassi dizionario[key] = value. Di seguito, vediamo un esempio:"
   ]
  },
  {
   "cell_type": "code",
   "execution_count": 35,
   "id": "98fb9d85",
   "metadata": {},
   "outputs": [
    {
     "name": "stdout",
     "output_type": "stream",
     "text": [
      "{'nome': 'Marco', 'cognome': 'Rossi', 'età': 30, 'sesso': 'M'}\n"
     ]
    }
   ],
   "source": [
    "dizionario = {'nome': 'Marco', 'cognome': 'Rossi', 'età': 30}\n",
    "dizionario['sesso'] = 'M'\n",
    "print(dizionario)  # Output: {'nome': 'Marco', 'cognome': 'Rossi', 'età': 30, 'sesso': 'M'}"
   ]
  },
  {
   "cell_type": "markdown",
   "id": "cd8ece94",
   "metadata": {},
   "source": [
    "In questo esempio, abbiamo aggiunto un nuovo elemento al dizionario \"dizionario\" con chiave 'sesso' e valore 'M'."
   ]
  },
  {
   "cell_type": "markdown",
   "id": "0d84325e",
   "metadata": {},
   "source": [
    "### Aggiornamento di un elemento di un dizionario\n",
    "Per aggiornare un elemento di un dizionario, si utilizza la sintassi dizionario[key] = new_value. Di seguito, vediamo un esempio:"
   ]
  },
  {
   "cell_type": "code",
   "execution_count": null,
   "id": "90267456",
   "metadata": {},
   "outputs": [],
   "source": [
    "dizionario = {'nome': 'Marco', 'cognome': 'Rossi', 'età': 30}\n",
    "dizionario['età'] = 31\n",
    "print(dizionario)  # Output: {'nome': 'Marco', 'cognome': 'Rossi', 'età': 31}\n"
   ]
  },
  {
   "cell_type": "markdown",
   "id": "4148b152",
   "metadata": {},
   "source": [
    "In questo esempio, abbiamo aggiornato il valore associato alla chiave 'età' del dizionario dizionario utilizzando la sintassi dizionario['età'] = 31."
   ]
  },
  {
   "cell_type": "markdown",
   "id": "22847695",
   "metadata": {},
   "source": [
    "### Rimozione di un elemento di un dizionario"
   ]
  },
  {
   "cell_type": "markdown",
   "id": "7d597ee4",
   "metadata": {},
   "source": [
    "Per rimuovere un elemento da un dizionario, è possibile utilizzare il metodo pop(). Questo metodo accetta come argomento la chiave dell'elemento da rimuovere e restituisce il valore corrispondente. Se la chiave non esiste nel dizionario, viene sollevata un'eccezione KeyError."
   ]
  },
  {
   "cell_type": "code",
   "execution_count": 39,
   "id": "5b9cc848",
   "metadata": {},
   "outputs": [
    {
     "name": "stdout",
     "output_type": "stream",
     "text": [
      "{'mela': 2, 'arancia': 5}\n",
      "3\n"
     ]
    }
   ],
   "source": [
    "frutta = {'mela': 2, 'banana': 3, 'arancia': 5}\n",
    "\n",
    "valore_rimosso = frutta.pop('banana')\n",
    "\n",
    "print(frutta) # Output: {'mela': 2, 'arancia': 5}\n",
    "print(valore_rimosso) # Output: 3\n"
   ]
  },
  {
   "cell_type": "markdown",
   "id": "5cf69c77",
   "metadata": {},
   "source": [
    "In questo esempio, il metodo pop() è stato utilizzato per rimuovere l'elemento con chiave 'banana' dal dizionario frutta. Il valore 3 corrispondente è stato assegnato alla variabile valore_rimosso.\n",
    "\n",
    "Per rimuovere l'ultimo elemento dal dizionario, è possibile utilizzare il metodo popitem(), che rimuove e restituisce un elemento casuale del dizionario come una tupla (chiave, valore). Se il dizionario è vuoto, viene sollevata un'eccezione KeyError."
   ]
  },
  {
   "cell_type": "code",
   "execution_count": 44,
   "id": "a6520144",
   "metadata": {},
   "outputs": [
    {
     "name": "stdout",
     "output_type": "stream",
     "text": [
      "{'mela': 2, 'banana': 3}\n",
      "('arancia', 5)\n"
     ]
    }
   ],
   "source": [
    "frutta = {'mela': 2, 'banana': 3, 'arancia': 5}\n",
    "\n",
    "elemento_rimosso = frutta.popitem()\n",
    "\n",
    "print(frutta) # Output: {'mela': 2, 'banana': 3}\n",
    "print(elemento_rimosso) # Output: ('arancia', 5)\n"
   ]
  },
  {
   "cell_type": "markdown",
   "id": "6f90af31",
   "metadata": {},
   "source": [
    "Infine, è possibile utilizzare la parola chiave *del* per rimuovere un elemento da un dizionario. In questo caso, la chiave dell'elemento da rimuovere viene specificata direttamente dopo la parola chiave del. Se la chiave non esiste nel dizionario, viene sollevata un'eccezione *KeyError*.\n",
    "\n",
    "Esempio:"
   ]
  },
  {
   "cell_type": "code",
   "execution_count": 45,
   "id": "a98d47d3",
   "metadata": {},
   "outputs": [
    {
     "name": "stdout",
     "output_type": "stream",
     "text": [
      "{'mela': 2, 'arancia': 5}\n"
     ]
    }
   ],
   "source": [
    "frutta = {'mela': 2, 'banana': 3, 'arancia': 5}\n",
    "\n",
    "del frutta['banana']\n",
    "\n",
    "print(frutta) # Output: {'mela': 2, 'arancia': 5}"
   ]
  },
  {
   "cell_type": "markdown",
   "id": "1d99b6b8",
   "metadata": {},
   "source": [
    "### values e keys"
   ]
  },
  {
   "cell_type": "markdown",
   "id": "ba45dd07",
   "metadata": {},
   "source": [
    "Si può accedere a tutte le chiavi o a tutti i valori rispettivamente col metodo *.keys* e *.values*"
   ]
  },
  {
   "cell_type": "code",
   "execution_count": 53,
   "id": "cfc74c47",
   "metadata": {},
   "outputs": [
    {
     "data": {
      "text/plain": [
       "['mela', 'arancia']"
      ]
     },
     "execution_count": 53,
     "metadata": {},
     "output_type": "execute_result"
    }
   ],
   "source": [
    "lista_frutti = list(frutta.keys())\n",
    "lista_frutti"
   ]
  },
  {
   "cell_type": "code",
   "execution_count": 57,
   "id": "8ed16878",
   "metadata": {},
   "outputs": [
    {
     "data": {
      "text/plain": [
       "7"
      ]
     },
     "execution_count": 57,
     "metadata": {},
     "output_type": "execute_result"
    }
   ],
   "source": [
    "totale_frutta = sum(frutta.values())\n",
    "totale_frutta"
   ]
  },
  {
   "cell_type": "markdown",
   "id": "b298a4e9",
   "metadata": {},
   "source": [
    "# Set\n",
    "\n",
    "I set in Python sono una collezione di elementi **unici** e **immutabili**, utilizzati per eseguire operazioni di insieme come unione, intersezione, differenza e altri.\n",
    "\n",
    "I set vengono definiti utilizzando parentesi graffe { } o utilizzando il costruttore set(). Gli elementi all'interno del set sono separati da virgole.\n",
    "\n",
    "Ad esempio, per creare un set contenente dei colori, si può utilizzare la seguente sintassi:"
   ]
  },
  {
   "cell_type": "code",
   "execution_count": 47,
   "id": "9c536395",
   "metadata": {},
   "outputs": [],
   "source": [
    "colori = {\"rosso\",\"verde\",\"blu\"}\n",
    "\n",
    "colori = set([\"rosso\",\"verde\",\"blu\"])"
   ]
  },
  {
   "cell_type": "markdown",
   "id": "7f4c1e9e",
   "metadata": {},
   "source": [
    "È importante notare che, a differenza delle liste e delle tuple, i set non sono ordinati. Ciò significa che gli elementi all'interno del set non hanno un ordine predefinito.\n",
    "\n",
    "Per eseguire operazioni di insieme, come l'unione, l'intersezione e la differenza, si possono utilizzare i metodi union(), intersection() e difference()."
   ]
  },
  {
   "cell_type": "code",
   "execution_count": 49,
   "id": "a11c2915",
   "metadata": {},
   "outputs": [
    {
     "data": {
      "text/plain": [
       "{'blu', 'rosso', 'verde'}"
      ]
     },
     "execution_count": 49,
     "metadata": {},
     "output_type": "execute_result"
    }
   ],
   "source": [
    "colori"
   ]
  },
  {
   "cell_type": "markdown",
   "id": "2ad66e3d",
   "metadata": {},
   "source": [
    "Perché in alcuni casi conviene usare i set?\n",
    "- **Elementi unici**: i set sono utili quando si desidera mantenere solo gli elementi unici all'interno di una collezione. Se si utilizza una lista, si possono avere duplicati, mentre i set garantiscono che ogni elemento sia presente una sola volta.\n",
    "\n",
    "- **Operazioni di insieme**: i set forniscono metodi per eseguire operazioni di insieme, come l'unione, l'intersezione e la differenza. Se si desidera eseguire queste operazioni su una lista, è necessario scrivere codice personalizzato, mentre con i set, gli operatori predefiniti sono disponibili.\n",
    "\n",
    "- **Efficienza**: i set sono implementati internamente come tabelle hash, che forniscono un accesso rapido e efficiente ai loro elementi. Questo rende i set molto più veloci delle liste per la ricerca e il controllo dell'appartenenza.\n",
    "\n",
    "- **Ordine non importante**: se non si ha bisogno di mantenere un ordine specifico degli elementi nella collezione, i set possono essere una scelta migliore rispetto alle liste, poiché sono meno costosi in termini di spazio e prestazioni.\n",
    "\n",
    "Tuttavia, ci sono anche situazioni in cui può essere più appropriato utilizzare una lista, ad esempio se si desidera mantenere l'ordine degli elementi o se si desidera accedere agli elementi tramite un indice. In ogni caso, la scelta tra un set e una lista dipende dalle esigenze specifiche dell'applicazione."
   ]
  },
  {
   "cell_type": "markdown",
   "id": "1b3feca1",
   "metadata": {},
   "source": [
    "### Esercizio 1:\n",
    "\n",
    "Inverti una lista di numeri."
   ]
  },
  {
   "cell_type": "code",
   "execution_count": 2,
   "id": "3086540e",
   "metadata": {},
   "outputs": [],
   "source": [
    "lista = [1,2,3,4,5]\n",
    "\n",
    "lista_invertita = lista..."
   ]
  },
  {
   "cell_type": "markdown",
   "id": "edf9a6e4",
   "metadata": {},
   "source": [
    "### Esercizio 2:\n",
    "\n",
    "selziona solo gli elementi della lista in posizione pari, escludi la posizione 0 (tutte le donne tranne Elena)"
   ]
  },
  {
   "cell_type": "code",
   "execution_count": 3,
   "id": "b88b3416",
   "metadata": {},
   "outputs": [],
   "source": [
    "lista = [\"Elena\", \"Luigi\", \"Martina\", \"Marco\", \"Giulia\", \"Simone\", \"Francesca\", \"Alessandro\", \"Sara\", \"Lorenzo\"]\n",
    "\n",
    "elementi_pari = lista...\n"
   ]
  },
  {
   "cell_type": "markdown",
   "id": "44f977fa",
   "metadata": {},
   "source": [
    "### Esercizio 3:\n",
    "\n",
    "Immagina di dover creare un dizionario che mappa i nomi dei paesi del g8 alla rispettiva capitale.\n",
    "Il dizionario è quasi completo, mancano 'Regno Unito': 'Londra' e 'Stati Uniti': 'Washington, D.C.'. Aggiungili al dizionario esplicitamente"
   ]
  },
  {
   "cell_type": "code",
   "execution_count": 5,
   "id": "96eb3fdc",
   "metadata": {},
   "outputs": [],
   "source": [
    "g8 = {\n",
    "    'Canada': 'Ottawa',\n",
    "    'Francia': 'Parigi',\n",
    "    'Germania': 'Berlino',\n",
    "    'Italia': 'Roma',\n",
    "    'Giappone': 'Tokyo',\n",
    "    'Russia': 'Mosca',\n",
    "    ...: 'Washington, D.C.'\n",
    "}"
   ]
  },
  {
   "cell_type": "markdown",
   "id": "b0e61ccc",
   "metadata": {},
   "source": [
    "Nota: l'elenco dei membri del G8 è cambiato nel tempo e attualmente comprende solo sette paesi, in quanto la Russia è stata esclusa dal gruppo nel 2014.\n",
    "\n",
    "Dunque aggiorniamo il dizionario eliminando con il metodo opportuna la Russia dal dizionario"
   ]
  },
  {
   "cell_type": "code",
   "execution_count": 22,
   "id": "41fb0685",
   "metadata": {},
   "outputs": [
    {
     "data": {
      "text/plain": [
       "{'Canada': 'Ottawa',\n",
       " 'Francia': 'Parigi',\n",
       " 'Germania': 'Berlino',\n",
       " 'Italia': 'Roma',\n",
       " 'Giappone': 'Tokyo',\n",
       " 'Regno Unito': 'Londra',\n",
       " 'Stati Uniti': 'Washington, D.C.'}"
      ]
     },
     "execution_count": 22,
     "metadata": {},
     "output_type": "execute_result"
    }
   ],
   "source": [
    "g7 = g8.copy() # usiamo copy per non eliminare il valore anche da g8\n",
    "paese_rimosso = g7...\n",
    "g7"
   ]
  },
  {
   "cell_type": "code",
   "execution_count": 23,
   "id": "ed33c90c",
   "metadata": {},
   "outputs": [
    {
     "data": {
      "text/plain": [
       "{'Canada': 'Ottawa',\n",
       " 'Francia': 'Parigi',\n",
       " 'Germania': 'Berlino',\n",
       " 'Italia': 'Roma',\n",
       " 'Giappone': 'Tokyo',\n",
       " 'Russia': 'Mosca',\n",
       " 'Regno Unito': 'Londra',\n",
       " 'Stati Uniti': 'Washington, D.C.'}"
      ]
     },
     "execution_count": 23,
     "metadata": {},
     "output_type": "execute_result"
    }
   ],
   "source": [
    "g8"
   ]
  },
  {
   "cell_type": "markdown",
   "id": "53bbcdb8",
   "metadata": {},
   "source": [
    "Immaginiamo ipoteticamente che ad un certo punto entrino nel g7 Spagna, Paesi Bassi e Korea del sud.\n",
    "(Paesi Bassi'->'Amsterdam' e 'Corea del Sud'->'Seoul')"
   ]
  },
  {
   "cell_type": "code",
   "execution_count": 24,
   "id": "1dfc5c91",
   "metadata": {},
   "outputs": [],
   "source": [
    "g10 = g7.copy()\n",
    "g10['Spagna'] = 'Madrid'\n",
    "g10['Paesi Bassi'] = ...\n",
    "... = 'Seoul'"
   ]
  },
  {
   "cell_type": "markdown",
   "id": "6b606eb8",
   "metadata": {},
   "source": [
    "Ipoteticamente l'Italia cambia capitale, ora è Bobbio"
   ]
  },
  {
   "cell_type": "code",
   "execution_count": 26,
   "id": "a9eb1432",
   "metadata": {},
   "outputs": [
    {
     "data": {
      "text/plain": [
       "{'Canada': 'Ottawa',\n",
       " 'Francia': 'Parigi',\n",
       " 'Germania': 'Berlino',\n",
       " 'Italia': 'Bobbio',\n",
       " 'Giappone': 'Tokyo',\n",
       " 'Regno Unito': 'Londra',\n",
       " 'Stati Uniti': 'Washington, D.C.',\n",
       " 'Spagna': 'Madrid',\n",
       " 'Paesi Bassi': 'Amsterdam',\n",
       " 'Corea del Sud': 'Seoul'}"
      ]
     },
     "execution_count": 26,
     "metadata": {},
     "output_type": "execute_result"
    }
   ],
   "source": [
    "g10...\n",
    "g10"
   ]
  },
  {
   "cell_type": "markdown",
   "id": "1dbebf31",
   "metadata": {},
   "source": [
    "recuperiamo la lista dei paesi dal dizionario:"
   ]
  },
  {
   "cell_type": "code",
   "execution_count": 31,
   "id": "7c96c79f",
   "metadata": {},
   "outputs": [
    {
     "data": {
      "text/plain": [
       "['Canada',\n",
       " 'Francia',\n",
       " 'Germania',\n",
       " 'Italia',\n",
       " 'Giappone',\n",
       " 'Regno Unito',\n",
       " 'Stati Uniti',\n",
       " 'Spagna',\n",
       " 'Paesi Bassi',\n",
       " 'Corea del Sud']"
      ]
     },
     "execution_count": 31,
     "metadata": {},
     "output_type": "execute_result"
    }
   ],
   "source": [
    "list(g10...)"
   ]
  }
 ],
 "metadata": {
  "kernelspec": {
   "display_name": "Python 3 (ipykernel)",
   "language": "python",
   "name": "python3"
  },
  "language_info": {
   "codemirror_mode": {
    "name": "ipython",
    "version": 3
   },
   "file_extension": ".py",
   "mimetype": "text/x-python",
   "name": "python",
   "nbconvert_exporter": "python",
   "pygments_lexer": "ipython3",
   "version": "3.11.7"
  }
 },
 "nbformat": 4,
 "nbformat_minor": 5
}

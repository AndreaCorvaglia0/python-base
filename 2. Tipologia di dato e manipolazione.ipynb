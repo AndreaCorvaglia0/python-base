{
 "cells": [
  {
   "cell_type": "markdown",
   "id": "179aa961",
   "metadata": {},
   "source": [
    "# Tipologia di dato e manipolazione\n",
    "In questo notebook vedremo le principali strutture dati di Python e come manipolarle.\n",
    "\n",
    "# Liste\n",
    "Le liste sono sequenze ordinate di elementi, dove ogni elemento è identificato da un indice. In Python, le liste sono indicizzate da 0. Possiamo accedere a un singolo elemento della lista utilizzando l'operatore di indexing [].\n",
    "\n",
    "Ad esempio, consideriamo la lista seguente:"
   ]
  },
  {
   "cell_type": "code",
   "execution_count": 29,
   "id": "fb634056",
   "metadata": {},
   "outputs": [
    {
     "data": {
      "text/plain": [
       "10"
      ]
     },
     "execution_count": 29,
     "metadata": {},
     "output_type": "execute_result"
    }
   ],
   "source": [
    "lista_numeri = [2, 7, 2, 3, 7, 5, 9, 7, 8, 9]\n",
    "len(lista_numeri)"
   ]
  },
  {
   "cell_type": "markdown",
   "id": "e0b7940e",
   "metadata": {},
   "source": [
    "### Indexing\n",
    "Possiamo accedere all'elemento in posizione i della lista utilizzando l'operatore di indexing:"
   ]
  },
  {
   "cell_type": "code",
   "execution_count": 30,
   "id": "1cc94f3f",
   "metadata": {},
   "outputs": [],
   "source": [
    "elemento = lista_numeri[2]"
   ]
  },
  {
   "cell_type": "markdown",
   "id": "5099691e",
   "metadata": {},
   "source": [
    "Inoltre, è possibile utilizzare gli indici negativi per accedere agli elementi dalla fine della lista:"
   ]
  },
  {
   "cell_type": "code",
   "execution_count": 31,
   "id": "3bb2e740",
   "metadata": {},
   "outputs": [],
   "source": [
    "elemento = lista_numeri[-2]"
   ]
  },
  {
   "cell_type": "markdown",
   "id": "c86abb2d",
   "metadata": {},
   "source": [
    "### Slicing\n",
    "\n",
    "Possiamo anche utilizzare l'operatore di slicing per selezionare una porzione della lista. L'operatore di slicing utilizza la sintassi **[start:end:step]**.\n",
    "\n",
    "\n",
    "Ad esempio, per selezionare gli elementi dalla lista dall'inizio fino ad un certo punto, possiamo omettere l'inizio dell'operatore di slicing. Allo stesso modo, per selezionare gli elementi dalla lista dalla fine fino ad un certo punto, possiamo omettere la fine dell'operatore di slicing. Ad esempio:"
   ]
  },
  {
   "cell_type": "code",
   "execution_count": 32,
   "id": "b25600b8",
   "metadata": {},
   "outputs": [
    {
     "data": {
      "text/plain": [
       "[2, 7, 2, 3, 7]"
      ]
     },
     "execution_count": 32,
     "metadata": {},
     "output_type": "execute_result"
    }
   ],
   "source": [
    "# seleziona i primi 5 elementi della lista\n",
    "lista_numeri[:5]"
   ]
  },
  {
   "cell_type": "code",
   "execution_count": 33,
   "id": "bd9fe431",
   "metadata": {},
   "outputs": [],
   "source": [
    "# seleziona i primi 5 elementi della lista\n",
    "primi_cinque = lista_numeri[:5]\n",
    "\n",
    "# seleziona gli elementi dalla posizione 3 alla posizione 7\n",
    "selezione = lista_numeri[3:8]\n",
    "\n",
    "# seleziona gli ultimi 3 elementi della lista\n",
    "ultimi_tre = lista_numeri[-3:]"
   ]
  },
  {
   "cell_type": "code",
   "execution_count": 34,
   "id": "39e34a4a",
   "metadata": {},
   "outputs": [
    {
     "data": {
      "text/plain": [
       "[2, 7, 2, 3, 7, 5, 9, 7, 8, 9]"
      ]
     },
     "execution_count": 34,
     "metadata": {},
     "output_type": "execute_result"
    }
   ],
   "source": [
    "lista_numeri"
   ]
  },
  {
   "cell_type": "code",
   "execution_count": 35,
   "id": "30c0514a",
   "metadata": {},
   "outputs": [
    {
     "data": {
      "text/plain": [
       "[7, 3, 5, 7, 9]"
      ]
     },
     "execution_count": 35,
     "metadata": {},
     "output_type": "execute_result"
    }
   ],
   "source": [
    "lista_numeri[1::2]"
   ]
  },
  {
   "cell_type": "markdown",
   "id": "d4c42949",
   "metadata": {},
   "source": [
    "Possiamo anche utilizzare un valore di passo negativo per selezionare gli elementi in ordine inverso:"
   ]
  },
  {
   "cell_type": "code",
   "execution_count": 36,
   "id": "f2bd9134",
   "metadata": {},
   "outputs": [],
   "source": [
    "# seleziona gli elementi in ordine inverso\n",
    "inversi = lista_numeri[::-1]"
   ]
  },
  {
   "cell_type": "code",
   "execution_count": 37,
   "id": "720a3831",
   "metadata": {},
   "outputs": [
    {
     "data": {
      "text/plain": [
       "[2, 7, 2, 3, 7, 5, 9, 7, 8, 9]"
      ]
     },
     "execution_count": 37,
     "metadata": {},
     "output_type": "execute_result"
    }
   ],
   "source": [
    "lista_numeri"
   ]
  },
  {
   "cell_type": "code",
   "execution_count": 38,
   "id": "aa55a896",
   "metadata": {},
   "outputs": [
    {
     "data": {
      "text/plain": [
       "[2, 7, 2, 110, 7, 5, 9, 7, 8, 9]"
      ]
     },
     "execution_count": 38,
     "metadata": {},
     "output_type": "execute_result"
    }
   ],
   "source": [
    "lista_numeri[3] = 110\n",
    "lista_numeri"
   ]
  },
  {
   "cell_type": "markdown",
   "id": "47b83bbc",
   "metadata": {},
   "source": [
    "Inoltre, possiamo modificare gli elementi di una lista selezionando una porzione della lista e assegnando un nuovo valore ad essa:"
   ]
  },
  {
   "cell_type": "code",
   "execution_count": 39,
   "id": "4a464fa5",
   "metadata": {},
   "outputs": [
    {
     "data": {
      "text/plain": [
       "[-10, -11, -12, 110, 7, 5, 9, 7, 8, 9]"
      ]
     },
     "execution_count": 39,
     "metadata": {},
     "output_type": "execute_result"
    }
   ],
   "source": [
    "# modifica i primi 3 elementi della lista\n",
    "lista_numeri[:3] = [-10, -11, -12]\n",
    "lista_numeri"
   ]
  },
  {
   "cell_type": "code",
   "execution_count": 40,
   "id": "5c9c0187",
   "metadata": {},
   "outputs": [
    {
     "data": {
      "text/plain": [
       "2.5"
      ]
     },
     "execution_count": 40,
     "metadata": {},
     "output_type": "execute_result"
    }
   ],
   "source": [
    "import numpy as np\n",
    "\n",
    "np.mean([3,2])"
   ]
  },
  {
   "cell_type": "code",
   "execution_count": 41,
   "id": "36613e57",
   "metadata": {},
   "outputs": [],
   "source": [
    "outlier_index = 3\n",
    "sost = (lista_numeri[outlier_index - 1] + lista_numeri[outlier_index + 1])/2\n",
    "\n",
    "lista_numeri[outlier_index] = sost"
   ]
  },
  {
   "cell_type": "code",
   "execution_count": 42,
   "id": "d8c1b752",
   "metadata": {},
   "outputs": [
    {
     "data": {
      "text/plain": [
       "[-10, -11, -12, -2.5, 7, 5, 9, 7, 8, 9]"
      ]
     },
     "execution_count": 42,
     "metadata": {},
     "output_type": "execute_result"
    }
   ],
   "source": [
    "lista_numeri"
   ]
  },
  {
   "cell_type": "markdown",
   "id": "ebf2cbd5",
   "metadata": {},
   "source": [
    "Aggiunta e rimozione di elementi\n",
    "Per aggiungere un elemento alla fine della lista, si può utilizzare il metodo **append**:"
   ]
  },
  {
   "cell_type": "code",
   "execution_count": 43,
   "id": "c5bccb5c",
   "metadata": {},
   "outputs": [],
   "source": [
    "lista_numeri.append(6)"
   ]
  },
  {
   "cell_type": "code",
   "execution_count": 44,
   "id": "49bc6c41",
   "metadata": {},
   "outputs": [],
   "source": [
    "lista_numeri[0] = 10\n",
    "lista_numeri[1] = 10"
   ]
  },
  {
   "cell_type": "markdown",
   "id": "90b17ea6",
   "metadata": {},
   "source": [
    "Per rimuovere un elemento dalla lista, si può utilizzare il metodo **remove** specificando l'elemento da rimuovere:"
   ]
  },
  {
   "cell_type": "code",
   "execution_count": 45,
   "id": "daef4910",
   "metadata": {},
   "outputs": [
    {
     "data": {
      "text/plain": [
       "[10, -12, -2.5, 7, 5, 9, 7, 8, 9, 6]"
      ]
     },
     "execution_count": 45,
     "metadata": {},
     "output_type": "execute_result"
    }
   ],
   "source": [
    "lista_numeri.remove(10) # rimuove il valore 10\n",
    "lista_numeri"
   ]
  },
  {
   "cell_type": "markdown",
   "id": "d71ef009",
   "metadata": {},
   "source": [
    "### Lunghezza della lista\n",
    "Per ottenere la lunghezza di una lista, si può utilizzare la funzione len:"
   ]
  },
  {
   "cell_type": "code",
   "execution_count": 19,
   "id": "06753f73",
   "metadata": {
    "scrolled": true
   },
   "outputs": [
    {
     "data": {
      "text/plain": [
       "10"
      ]
     },
     "execution_count": 19,
     "metadata": {},
     "output_type": "execute_result"
    }
   ],
   "source": [
    "len(lista_numeri)"
   ]
  },
  {
   "cell_type": "code",
   "execution_count": 21,
   "id": "37bb9392",
   "metadata": {},
   "outputs": [],
   "source": [
    "# metodo insert per l'inserimento di un valore in una precisa posizione\n",
    "lista_numeri.insert(1,100)"
   ]
  },
  {
   "cell_type": "code",
   "execution_count": 22,
   "id": "705c9e57",
   "metadata": {},
   "outputs": [
    {
     "data": {
      "text/plain": [
       "[10, 100, -12, -2.5, 7, 5, 9, 7, 8, 9, 6]"
      ]
     },
     "execution_count": 22,
     "metadata": {},
     "output_type": "execute_result"
    }
   ],
   "source": [
    "lista_numeri"
   ]
  },
  {
   "cell_type": "markdown",
   "id": "c3571a53",
   "metadata": {},
   "source": [
    "### Liste di Liste"
   ]
  },
  {
   "cell_type": "markdown",
   "id": "ecead683",
   "metadata": {},
   "source": [
    "Le liste di liste sono una forma comune di dati complessi in Python e possono essere utilizzate per rappresentare matrici, tabelle o qualsiasi altro tipo di dati strutturati. Ogni elemento nella lista esterna è una lista separata, il che significa che possiamo accedere agli elementi di queste liste interne utilizzando l'operatore di indice.\n",
    "\n",
    "Ad esempio, possiamo creare una lista di liste per rappresentare una matrice 3x3:"
   ]
  },
  {
   "cell_type": "code",
   "execution_count": 48,
   "id": "ba9ad6e3",
   "metadata": {},
   "outputs": [],
   "source": [
    "matrix = [[1, 2, 3],\n",
    "          [4, 5, 6], \n",
    "          [7, 8, 9]]"
   ]
  },
  {
   "cell_type": "markdown",
   "id": "fac344fe",
   "metadata": {},
   "source": [
    "Possiamo accedere all'elemento in posizione [i][j] utilizzando l'operatore di indice:\n"
   ]
  },
  {
   "cell_type": "code",
   "execution_count": 50,
   "id": "dfe9481f",
   "metadata": {},
   "outputs": [
    {
     "data": {
      "text/plain": [
       "2"
      ]
     },
     "execution_count": 50,
     "metadata": {},
     "output_type": "execute_result"
    }
   ],
   "source": [
    "matrix[0][1]"
   ]
  },
  {
   "cell_type": "code",
   "execution_count": 51,
   "id": "f0f1ce93",
   "metadata": {},
   "outputs": [
    {
     "data": {
      "text/plain": [
       "8"
      ]
     },
     "execution_count": 51,
     "metadata": {},
     "output_type": "execute_result"
    }
   ],
   "source": [
    "matrix[2][1]"
   ]
  },
  {
   "cell_type": "code",
   "execution_count": 25,
   "id": "3654a1b3",
   "metadata": {
    "collapsed": true
   },
   "outputs": [
    {
     "ename": "NameError",
     "evalue": "name 'i' is not defined",
     "output_type": "error",
     "traceback": [
      "\u001b[0;31m---------------------------------------------------------------------------\u001b[0m",
      "\u001b[0;31mNameError\u001b[0m                                 Traceback (most recent call last)",
      "Cell \u001b[0;32mIn[25], line 1\u001b[0m\n\u001b[0;32m----> 1\u001b[0m element \u001b[38;5;241m=\u001b[39m matrix[\u001b[43mi\u001b[49m][j]\n",
      "\u001b[0;31mNameError\u001b[0m: name 'i' is not defined"
     ]
    }
   ],
   "source": [
    "element = matrix[i][j]"
   ]
  },
  {
   "cell_type": "markdown",
   "id": "6bef63a6",
   "metadata": {},
   "source": [
    "Inoltre, le liste di liste possono essere utilizzate per rappresentare tensori, che sono strutture multidimensionali di dati numerici. In Python, i tensori possono essere rappresentati come liste di liste di liste, dove ogni lista interna rappresenta una dimensione del tensore.\n",
    "\n",
    "Perché è importante conoscere i tensori in Python? I tensori sono alla base del deep learning, una tecnica di machine learning che permette di apprendere rappresentazioni sempre più complesse dei dati. Ad esempio, le immagini possono essere rappresentate come tensori tridimensionali, dove le prime due dimensioni rappresentano le coordinate spaziali dell'immagine e la terza dimensione rappresenta i canali di colore (rosso, verde, blu). Utilizzando i tensori, possiamo addestrare reti neurali profonde per riconoscere oggetti nelle immagini, tradurre il linguaggio naturale, generare testo e molto altro ancora."
   ]
  },
  {
   "cell_type": "markdown",
   "id": "ed4ea857",
   "metadata": {},
   "source": [
    "# Tuple\n",
    "\n",
    "Le tuple sono sequenze di oggetti immutabili, rappresentate da parentesi tonde () che racchiudono gli elementi separati da virgole.\n",
    "\n",
    "### Creazione di una tupla\n",
    "Per creare una tupla, si possono inserire gli elementi desiderati all'interno delle parentesi tonde:"
   ]
  },
  {
   "cell_type": "code",
   "execution_count": 60,
   "id": "78236c01",
   "metadata": {},
   "outputs": [
    {
     "data": {
      "text/plain": [
       "(1, 2, 3, 4, 5)"
      ]
     },
     "execution_count": 60,
     "metadata": {},
     "output_type": "execute_result"
    }
   ],
   "source": [
    "my_tuple = (1, 2, 3, 4, 5)\n",
    "my_tuple"
   ]
  },
  {
   "cell_type": "markdown",
   "id": "c42d9671",
   "metadata": {},
   "source": [
    "### Accesso agli elementi di una tupla\n",
    "Gli elementi di una tupla possono essere accessati tramite l'indice corrispondente, allo stesso modo delle liste:"
   ]
  },
  {
   "cell_type": "code",
   "execution_count": 59,
   "id": "9463a321",
   "metadata": {},
   "outputs": [
    {
     "data": {
      "text/plain": [
       "4"
      ]
     },
     "execution_count": 59,
     "metadata": {},
     "output_type": "execute_result"
    }
   ],
   "source": [
    "my_tuple[3]"
   ]
  },
  {
   "cell_type": "markdown",
   "id": "8bc5446d",
   "metadata": {},
   "source": [
    "### Slicing\n",
    "Anche per le tuple si può utilizzare la tecnica dello slicing per selezionare una sotto-sequenza di elementi:"
   ]
  },
  {
   "cell_type": "code",
   "execution_count": 58,
   "id": "bc59f8f6",
   "metadata": {},
   "outputs": [
    {
     "data": {
      "text/plain": [
       "(1, 2, 3)"
      ]
     },
     "execution_count": 58,
     "metadata": {},
     "output_type": "execute_result"
    }
   ],
   "source": [
    "my_tuple[:3]"
   ]
  },
  {
   "cell_type": "markdown",
   "id": "ee58c4a5",
   "metadata": {},
   "source": [
    "### Immutabilità delle tuple\n",
    "Le tuple sono sequenze di oggetti immutabili, il che significa che una volta create non possono essere modificate."
   ]
  },
  {
   "cell_type": "markdown",
   "id": "03ad4f88",
   "metadata": {},
   "source": [
    "# Dizionari\n",
    "\n",
    "i dizionari sono una struttura dati fondamentale per gestire dati che hanno un rapporto chiave-valore. Vedremo come creare, manipolare e svolgere operazioni sui dizionari in Python.\n"
   ]
  },
  {
   "cell_type": "code",
   "execution_count": 81,
   "id": "fa4efc4e",
   "metadata": {},
   "outputs": [],
   "source": [
    "conf = {'finestre_di_previsione': [24,48,96] }"
   ]
  },
  {
   "cell_type": "code",
   "execution_count": 85,
   "id": "4a0eb840",
   "metadata": {},
   "outputs": [
    {
     "data": {
      "text/plain": [
       "[24, 48, 96]"
      ]
     },
     "execution_count": 85,
     "metadata": {},
     "output_type": "execute_result"
    }
   ],
   "source": [
    "conf['finestre_di_previsione']"
   ]
  },
  {
   "cell_type": "code",
   "execution_count": null,
   "id": "a53fe557",
   "metadata": {},
   "outputs": [],
   "source": [
    "modello(dati, conf['finestra_di_previsione'][0])\n",
    "\n",
    "modello(dati, conf['finestra_di_previsione'][1])\n",
    "\n",
    "modello(dati, conf['finestra_di_previsione'][2])\n"
   ]
  },
  {
   "cell_type": "markdown",
   "id": "67b8553b",
   "metadata": {},
   "source": [
    "### Creazione di un dizionario\n",
    "Per creare un dizionario in Python, si utilizza la sintassi {key1: value1, key2: value2, ...}. Di seguito, vediamo un esempio:"
   ]
  },
  {
   "cell_type": "code",
   "execution_count": 64,
   "id": "f58bf951",
   "metadata": {},
   "outputs": [],
   "source": [
    "persona = {'nome': 'Marco', \n",
    "              'cognome': 'Rossi',\n",
    "              'età': 30}"
   ]
  },
  {
   "cell_type": "code",
   "execution_count": 75,
   "id": "6c968907",
   "metadata": {},
   "outputs": [],
   "source": [
    "# recuperiamo il valore associato alla chiave \"nome\"\n",
    "nome = persona['nome']"
   ]
  },
  {
   "cell_type": "code",
   "execution_count": 78,
   "id": "b4be8ca3",
   "metadata": {},
   "outputs": [
    {
     "name": "stdout",
     "output_type": "stream",
     "text": [
      "Ciao , Marco\n"
     ]
    }
   ],
   "source": [
    "print(f\"Ciao , {nome}\")"
   ]
  },
  {
   "cell_type": "markdown",
   "id": "828a5298",
   "metadata": {},
   "source": [
    "In questo esempio, abbiamo creato un dizionario con tre coppie chiave-valore: 'nome': 'Marco', 'cognome': 'Rossi' e 'età': 30. Le chiavi del dizionario devono essere univoche e possono essere di qualsiasi tipo di dato immutabile come stringhe, numeri e tuple. I valori invece possono essere di qualsiasi tipo di dato, anche di tipo complesso come liste o altri dizionari."
   ]
  },
  {
   "cell_type": "markdown",
   "id": "6291d452",
   "metadata": {},
   "source": [
    "### Accesso ai valori di un dizionario\n",
    "Per accedere ai valori di un dizionario, si utilizza la sintassi dizionario[key]. Di seguito, vediamo un esempio:\n"
   ]
  },
  {
   "cell_type": "code",
   "execution_count": null,
   "id": "5bbd59fd",
   "metadata": {},
   "outputs": [],
   "source": [
    "dizionario = {'nome': 'Marco', 'cognome': 'Rossi', 'età': 30}\n",
    "print(dizionario['nome'])  # Output: 'Marco'"
   ]
  },
  {
   "cell_type": "markdown",
   "id": "ceb75a07",
   "metadata": {},
   "source": [
    "In questo esempio, abbiamo acceduto al valore associato alla chiave 'nome' del dizionario dizionario utilizzando la sintassi dizionario['nome']."
   ]
  },
  {
   "cell_type": "markdown",
   "id": "c2803bf1",
   "metadata": {},
   "source": [
    "### Aggiunta di un elemento a un dizionario\n",
    "\n",
    "Per aggiungere un elemento a un dizionario, si utilizza la sintassi dizionario[key] = value. Di seguito, vediamo un esempio:"
   ]
  },
  {
   "cell_type": "code",
   "execution_count": 87,
   "id": "98fb9d85",
   "metadata": {},
   "outputs": [
    {
     "name": "stdout",
     "output_type": "stream",
     "text": [
      "{'nome': 'Marco', 'cognome': 'Rossi', 'età': 30, 'sesso': 'M'}\n"
     ]
    }
   ],
   "source": [
    "dizionario = {'nome': 'Marco', 'cognome': 'Rossi', 'età': 30}\n",
    "dizionario['sesso'] = 'M'\n",
    "print(dizionario)  # Output: {'nome': 'Marco', 'cognome': 'Rossi', 'età': 30, 'sesso': 'M'}"
   ]
  },
  {
   "cell_type": "markdown",
   "id": "cd8ece94",
   "metadata": {},
   "source": [
    "In questo esempio, abbiamo aggiunto un nuovo elemento al dizionario dizionario con chiave 'sesso' e valore 'M'."
   ]
  },
  {
   "cell_type": "markdown",
   "id": "0d84325e",
   "metadata": {},
   "source": [
    "### Aggiornamento di un elemento di un dizionario\n",
    "Per aggiornare un elemento di un dizionario, si utilizza la sintassi dizionario[key] = new_value. Di seguito, vediamo un esempio:"
   ]
  },
  {
   "cell_type": "code",
   "execution_count": 88,
   "id": "90267456",
   "metadata": {},
   "outputs": [
    {
     "name": "stdout",
     "output_type": "stream",
     "text": [
      "{'nome': 'Marco', 'cognome': 'Rossi', 'età': 31}\n"
     ]
    }
   ],
   "source": [
    "dizionario = {'nome': 'Marco', 'cognome': 'Rossi', 'età': 30}\n",
    "dizionario['età'] = 31\n",
    "print(dizionario)  # Output: {'nome': 'Marco', 'cognome': 'Rossi', 'età': 31}\n"
   ]
  },
  {
   "cell_type": "code",
   "execution_count": 89,
   "id": "dabe7582",
   "metadata": {},
   "outputs": [],
   "source": [
    "dizionario[\"nome\"] = \"Luca\""
   ]
  },
  {
   "cell_type": "code",
   "execution_count": 93,
   "id": "d10c47d0",
   "metadata": {
    "collapsed": true
   },
   "outputs": [
    {
     "ename": "KeyError",
     "evalue": "'cognome'",
     "output_type": "error",
     "traceback": [
      "\u001b[0;31m---------------------------------------------------------------------------\u001b[0m",
      "\u001b[0;31mKeyError\u001b[0m                                  Traceback (most recent call last)",
      "Cell \u001b[0;32mIn[93], line 1\u001b[0m\n\u001b[0;32m----> 1\u001b[0m \u001b[43mdizionario\u001b[49m\u001b[38;5;241;43m.\u001b[39;49m\u001b[43mpop\u001b[49m\u001b[43m(\u001b[49m\u001b[38;5;124;43m\"\u001b[39;49m\u001b[38;5;124;43mcognome\u001b[39;49m\u001b[38;5;124;43m\"\u001b[39;49m\u001b[43m)\u001b[49m\n",
      "\u001b[0;31mKeyError\u001b[0m: 'cognome'"
     ]
    }
   ],
   "source": [
    "dizionario.pop(\"cognome\")"
   ]
  },
  {
   "cell_type": "markdown",
   "id": "4148b152",
   "metadata": {},
   "source": [
    "In questo esempio, abbiamo aggiornato il valore associato alla chiave 'età' del dizionario dizionario utilizzando la sintassi dizionario['età'] = 31."
   ]
  },
  {
   "cell_type": "markdown",
   "id": "22847695",
   "metadata": {},
   "source": [
    "### Rimozione di un elemento di un dizionario"
   ]
  },
  {
   "cell_type": "markdown",
   "id": "7d597ee4",
   "metadata": {},
   "source": [
    "Per rimuovere un elemento da un dizionario, è possibile utilizzare il metodo pop(). Questo metodo accetta come argomento la chiave dell'elemento da rimuovere e restituisce il valore corrispondente. Se la chiave non esiste nel dizionario, viene sollevata un'eccezione KeyError."
   ]
  },
  {
   "cell_type": "code",
   "execution_count": 91,
   "id": "5b9cc848",
   "metadata": {},
   "outputs": [
    {
     "name": "stdout",
     "output_type": "stream",
     "text": [
      "{'mela': 2, 'arancia': 5}\n",
      "3\n"
     ]
    }
   ],
   "source": [
    "frutta = {'mela': 2, 'banana': 3, 'arancia': 5}\n",
    "\n",
    "valore_rimosso = frutta.pop('banana')\n",
    "\n",
    "print(frutta) # Output: {'mela': 2, 'arancia': 5}\n",
    "print(valore_rimosso) # Output: 3\n"
   ]
  },
  {
   "cell_type": "markdown",
   "id": "5cf69c77",
   "metadata": {},
   "source": [
    "In questo esempio, il metodo pop() è stato utilizzato per rimuovere l'elemento con chiave 'banana' dal dizionario frutta. Il valore 3 corrispondente è stato assegnato alla variabile valore_rimosso.\n",
    "\n",
    "Per rimuovere un elemento in modo casuale dal dizionario, è possibile utilizzare il metodo popitem(), che rimuove e restituisce un elemento casuale del dizionario come una tupla (chiave, valore). Se il dizionario è vuoto, viene sollevata un'eccezione KeyError."
   ]
  },
  {
   "cell_type": "code",
   "execution_count": 100,
   "id": "a6520144",
   "metadata": {},
   "outputs": [
    {
     "name": "stdout",
     "output_type": "stream",
     "text": [
      "{'mela': 2, 'banana': 3}\n",
      "('arancia', 5)\n"
     ]
    }
   ],
   "source": [
    "frutta = {'mela': 2, 'banana': 3, 'arancia': 5}\n",
    "\n",
    "elemento_rimosso = frutta.popitem()\n",
    "\n",
    "print(frutta) # Output: {'mela': 2, 'banana': 3}\n",
    "print(elemento_rimosso) # Output: ('arancia', 5)\n"
   ]
  },
  {
   "cell_type": "markdown",
   "id": "6f90af31",
   "metadata": {},
   "source": [
    "Infine, è possibile utilizzare la parola chiave del per rimuovere un elemento da un dizionario. In questo caso, la chiave dell'elemento da rimuovere viene specificata direttamente dopo la parola chiave del. Se la chiave non esiste nel dizionario, viene sollevata un'eccezione KeyError.\n",
    "\n",
    "Esempio:"
   ]
  },
  {
   "cell_type": "code",
   "execution_count": 95,
   "id": "a98d47d3",
   "metadata": {},
   "outputs": [
    {
     "name": "stdout",
     "output_type": "stream",
     "text": [
      "{'mela': 2, 'arancia': 5}\n"
     ]
    }
   ],
   "source": [
    "frutta = {'mela': 2, 'banana': 3, 'arancia': 5}\n",
    "\n",
    "del frutta['banana']\n",
    "\n",
    "print(frutta) # Output: {'mela': 2, 'arancia': 5}"
   ]
  },
  {
   "cell_type": "markdown",
   "id": "1fb4bd3a",
   "metadata": {},
   "source": [
    "In questo esempio, la parola chiave del è stata utilizzata per rimuovere l'elemento con chiave 'banana' dal dizionario frutta."
   ]
  },
  {
   "cell_type": "markdown",
   "id": "b298a4e9",
   "metadata": {},
   "source": [
    "# Set\n",
    "\n",
    "I set in Python sono una collezione di elementi unici e immutabili, utilizzati per eseguire operazioni di insieme come unione, intersezione, differenza e altri.\n",
    "\n",
    "I set vengono definiti utilizzando parentesi graffe { } o utilizzando il costruttore set(). Gli elementi all'interno del set sono separati da virgole.\n",
    "\n",
    "Ad esempio, per creare un set contenente alcuni numeri interi, si può utilizzare la seguente sintassi:"
   ]
  },
  {
   "cell_type": "code",
   "execution_count": 103,
   "id": "739739bc",
   "metadata": {},
   "outputs": [
    {
     "data": {
      "text/plain": [
       "{1, 2, 3, 10}"
      ]
     },
     "execution_count": 103,
     "metadata": {},
     "output_type": "execute_result"
    }
   ],
   "source": [
    "set([10,1,2,2,1,3])"
   ]
  },
  {
   "cell_type": "code",
   "execution_count": 104,
   "id": "9c536395",
   "metadata": {},
   "outputs": [
    {
     "data": {
      "text/plain": [
       "{'blu', 'rosso', 'verde'}"
      ]
     },
     "execution_count": 104,
     "metadata": {},
     "output_type": "execute_result"
    }
   ],
   "source": [
    "colori = {\"rosso\",\"verde\",\"blu\"}\n",
    "\n",
    "colori = set([\"rosso\",\"verde\",\"blu\"])\n",
    "colori"
   ]
  },
  {
   "cell_type": "markdown",
   "id": "7f4c1e9e",
   "metadata": {},
   "source": [
    "È importante notare che, a differenza delle liste e delle tuple, i set non sono ordinati. Ciò significa che gli elementi all'interno del set non hanno un ordine predefinito.\n",
    "\n",
    "Per eseguire operazioni di insieme, come l'unione, l'intersezione e la differenza, si possono utilizzare i metodi union(), intersection() e difference()."
   ]
  },
  {
   "cell_type": "markdown",
   "id": "2ad66e3d",
   "metadata": {},
   "source": [
    "Perché in alcuni casi conviene usare i set?\n",
    "- **Elementi unici**: i set sono utili quando si desidera mantenere solo gli elementi unici all'interno di una collezione. Se si utilizza una lista, si possono avere duplicati, mentre i set garantiscono che ogni elemento sia presente una sola volta.\n",
    "\n",
    "- **Operazioni di insieme**: i set forniscono metodi per eseguire operazioni di insieme, come l'unione, l'intersezione e la differenza. Se si desidera eseguire queste operazioni su una lista, è necessario scrivere codice personalizzato, mentre con i set, gli operatori predefiniti sono disponibili.\n",
    "\n",
    "- **Efficienza**: i set sono implementati internamente come tabelle hash, che forniscono un accesso rapido e efficiente ai loro elementi. Questo rende i set molto più veloci delle liste per la ricerca e il controllo dell'appartenenza.\n",
    "\n",
    "- **Ordine non importante**: se non si ha bisogno di mantenere un ordine specifico degli elementi nella collezione, i set possono essere una scelta migliore rispetto alle liste, poiché sono meno costosi in termini di spazio e prestazioni.\n",
    "\n",
    "Tuttavia, ci sono anche situazioni in cui può essere più appropriato utilizzare una lista, ad esempio se si desidera mantenere l'ordine degli elementi o se si desidera accedere agli elementi tramite un indice. In ogni caso, la scelta tra un set e una lista dipende dalle esigenze specifiche dell'applicazione."
   ]
  },
  {
   "cell_type": "markdown",
   "id": "f916c6da",
   "metadata": {},
   "source": [
    "Colori nel testo (ref: https://medium.com/analytics-vidhya/the-ultimate-markdown-guide-for-jupyter-notebook-d5e5abf728fd)"
   ]
  },
  {
   "cell_type": "markdown",
   "id": "f21a75ae",
   "metadata": {},
   "source": [
    "\n",
    "<span style=\"color:blue\">Questa scritta è blu</span>\n"
   ]
  },
  {
   "cell_type": "markdown",
   "id": "1b3feca1",
   "metadata": {},
   "source": [
    "### Esercizio 1:\n",
    "\n",
    "Inverti una lista di numeri."
   ]
  },
  {
   "cell_type": "code",
   "execution_count": 110,
   "id": "6369cfea",
   "metadata": {},
   "outputs": [
    {
     "data": {
      "text/plain": [
       "dict_keys(['Prova'])"
      ]
     },
     "execution_count": 110,
     "metadata": {},
     "output_type": "execute_result"
    }
   ],
   "source": [
    "d.keys()\n"
   ]
  },
  {
   "cell_type": "code",
   "execution_count": 2,
   "id": "3086540e",
   "metadata": {},
   "outputs": [],
   "source": [
    "lista = [1,2,3,4,5]\n",
    "\n",
    "lista_invertita = lista[::-1]"
   ]
  },
  {
   "cell_type": "markdown",
   "id": "edf9a6e4",
   "metadata": {},
   "source": [
    "### Esercizio 2:\n",
    "\n",
    "selziona solo gli elementi della lista in posizione pari, escludi la posizione 0 (tutte le donne tranne Elena)"
   ]
  },
  {
   "cell_type": "code",
   "execution_count": 111,
   "id": "b88b3416",
   "metadata": {},
   "outputs": [],
   "source": [
    "lista = [\"Elena\", \"Luigi\", \"Martina\", \"Marco\", \"Giulia\", \"Simone\", \"Francesca\", \"Alessandro\", \"Sara\", \"Lorenzo\"]\n"
   ]
  },
  {
   "cell_type": "code",
   "execution_count": 112,
   "id": "4369ff27",
   "metadata": {},
   "outputs": [
    {
     "data": {
      "text/plain": [
       "['Martina', 'Giulia', 'Francesca', 'Sara']"
      ]
     },
     "execution_count": 112,
     "metadata": {},
     "output_type": "execute_result"
    }
   ],
   "source": [
    "lista[2::2]"
   ]
  },
  {
   "cell_type": "markdown",
   "id": "44f977fa",
   "metadata": {},
   "source": [
    "### Esercizio 3:\n",
    "\n",
    "Immagina di dover creare un dizionario che mappa i nomi dei paesi del g8 alla rispettiva capitale.\n",
    "Il dizionario è quasi completo, mancano 'Regno Unito': 'Londra' e 'Stati Uniti': 'Washington, D.C.'. Aggiungili al dizionario esplicitamente"
   ]
  },
  {
   "cell_type": "code",
   "execution_count": 119,
   "id": "96eb3fdc",
   "metadata": {},
   "outputs": [],
   "source": [
    "g8 = {\n",
    "    'Canada': 'Ottawa',\n",
    "    'Francia': 'Parigi',\n",
    "    'Germania': 'Berlino',\n",
    "    'Italia': 'Roma',\n",
    "    'Giappone': 'Tokyo',\n",
    "    'Russia': 'Mosca',\n",
    "    'Regno Unito': 'Londra',\n",
    "    'Stati Uniti': 'Washington, D.C.'\n",
    "}"
   ]
  },
  {
   "cell_type": "markdown",
   "id": "b0e61ccc",
   "metadata": {},
   "source": [
    "Nota: l'elenco dei membri del G8 è cambiato nel tempo e attualmente comprende solo sette paesi, in quanto la Russia è stata esclusa dal gruppo nel 2014.\n",
    "\n",
    "Dunque aggiorniamo il dizionario eliminando con il metodo opportuna la Russia dal dizionario"
   ]
  },
  {
   "cell_type": "code",
   "execution_count": 120,
   "id": "41fb0685",
   "metadata": {},
   "outputs": [
    {
     "data": {
      "text/plain": [
       "{'Canada': 'Ottawa',\n",
       " 'Francia': 'Parigi',\n",
       " 'Germania': 'Berlino',\n",
       " 'Italia': 'Roma',\n",
       " 'Giappone': 'Tokyo',\n",
       " 'Regno Unito': 'Londra',\n",
       " 'Stati Uniti': 'Washington, D.C.'}"
      ]
     },
     "execution_count": 120,
     "metadata": {},
     "output_type": "execute_result"
    }
   ],
   "source": [
    "g7 = g8.copy() # usiamo copy per non eliminare il valore anche da g8\n",
    "paese_rimosso = g7.pop('Russia')\n",
    "g7"
   ]
  },
  {
   "cell_type": "code",
   "execution_count": 121,
   "id": "ed33c90c",
   "metadata": {},
   "outputs": [
    {
     "data": {
      "text/plain": [
       "{'Canada': 'Ottawa',\n",
       " 'Francia': 'Parigi',\n",
       " 'Germania': 'Berlino',\n",
       " 'Italia': 'Roma',\n",
       " 'Giappone': 'Tokyo',\n",
       " 'Russia': 'Mosca',\n",
       " 'Regno Unito': 'Londra',\n",
       " 'Stati Uniti': 'Washington, D.C.'}"
      ]
     },
     "execution_count": 121,
     "metadata": {},
     "output_type": "execute_result"
    }
   ],
   "source": [
    "g8"
   ]
  },
  {
   "cell_type": "markdown",
   "id": "53bbcdb8",
   "metadata": {},
   "source": [
    "Immaginiamo ipoteticamente che ad un certo punto entrino nel g7 Spagna, Paesi Bassi e Korea del sud.\n",
    "(Paesi Bassi'->'Amsterdam' e 'Corea del Sud'->'Seoul')"
   ]
  },
  {
   "cell_type": "code",
   "execution_count": 124,
   "id": "1dfc5c91",
   "metadata": {},
   "outputs": [],
   "source": [
    "g10 = g7.copy()\n",
    "g10['Spagna'] = 'Madrid'\n",
    "g10['Corea del Sud'] = 'Seoul'\n",
    "g10['Paesi Bassi'] = 'Amsterdam'"
   ]
  },
  {
   "cell_type": "code",
   "execution_count": 127,
   "id": "40d1aa5c",
   "metadata": {},
   "outputs": [
    {
     "data": {
      "text/plain": [
       "{'Canada': 'Ottawa',\n",
       " 'Francia': 'Parigi',\n",
       " 'Germania': 'Berlino',\n",
       " 'Italia': 'Roma',\n",
       " 'Giappone': 'Tokyo',\n",
       " 'Regno Unito': 'Londra',\n",
       " 'Stati Uniti': 'Washington, D.C.',\n",
       " 'Spagna': 'Madrid',\n",
       " 'Corea del Sud': 'Seoul',\n",
       " 'Paesi Bassi': 'Amsterdam'}"
      ]
     },
     "execution_count": 127,
     "metadata": {},
     "output_type": "execute_result"
    }
   ],
   "source": [
    "g10"
   ]
  },
  {
   "cell_type": "markdown",
   "id": "6b606eb8",
   "metadata": {},
   "source": [
    "Ipoteticamente l'Italia cambia capitale, ora è Bobbio"
   ]
  },
  {
   "cell_type": "code",
   "execution_count": 128,
   "id": "a9eb1432",
   "metadata": {},
   "outputs": [
    {
     "data": {
      "text/plain": [
       "{'Canada': 'Ottawa',\n",
       " 'Francia': 'Parigi',\n",
       " 'Germania': 'Berlino',\n",
       " 'Italia': 'Bobbio',\n",
       " 'Giappone': 'Tokyo',\n",
       " 'Regno Unito': 'Londra',\n",
       " 'Stati Uniti': 'Washington, D.C.',\n",
       " 'Spagna': 'Madrid',\n",
       " 'Corea del Sud': 'Seoul',\n",
       " 'Paesi Bassi': 'Amsterdam'}"
      ]
     },
     "execution_count": 128,
     "metadata": {},
     "output_type": "execute_result"
    }
   ],
   "source": [
    "g10['Italia'] = \"Bobbio\"\n",
    "g10"
   ]
  },
  {
   "cell_type": "markdown",
   "id": "1dbebf31",
   "metadata": {},
   "source": [
    "recuperiamo la lista dei paesi dal dizionario:"
   ]
  },
  {
   "cell_type": "code",
   "execution_count": 130,
   "id": "6db2ecfc",
   "metadata": {},
   "outputs": [
    {
     "data": {
      "text/plain": [
       "{'Canada',\n",
       " 'Corea del Sud',\n",
       " 'Francia',\n",
       " 'Germania',\n",
       " 'Giappone',\n",
       " 'Italia',\n",
       " 'Paesi Bassi',\n",
       " 'Regno Unito',\n",
       " 'Spagna',\n",
       " 'Stati Uniti'}"
      ]
     },
     "execution_count": 130,
     "metadata": {},
     "output_type": "execute_result"
    }
   ],
   "source": [
    "set(g10)"
   ]
  }
 ],
 "metadata": {
  "kernelspec": {
   "display_name": "Python 3 (ipykernel)",
   "language": "python",
   "name": "python3"
  },
  "language_info": {
   "codemirror_mode": {
    "name": "ipython",
    "version": 3
   },
   "file_extension": ".py",
   "mimetype": "text/x-python",
   "name": "python",
   "nbconvert_exporter": "python",
   "pygments_lexer": "ipython3",
   "version": "3.9.15"
  }
 },
 "nbformat": 4,
 "nbformat_minor": 5
}

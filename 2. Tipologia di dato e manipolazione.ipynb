{
 "cells": [
  {
   "cell_type": "markdown",
   "id": "179aa961",
   "metadata": {},
   "source": [
    "# Tipologia di dato e manipolazione\n",
    "In questo notebook vedremo le principali tipologie di dati di Python e come manipolarle.\n",
    "\n",
    "## Liste\n",
    "Le liste sono sequenze ordinate di elementi, dove ogni elemento è identificato da un indice. In Python, le liste sono indicizzate da 0. Possiamo accedere a un singolo elemento della lista utilizzando l'operatore di indexing [].\n",
    "\n",
    "Ad esempio, consideriamo la lista seguente:"
   ]
  },
  {
   "cell_type": "code",
   "execution_count": null,
   "id": "fb634056",
   "metadata": {},
   "outputs": [],
   "source": [
    "lista_numeri = [0, 1, 2, 3, 4, 5, 6, 7, 8, 9]"
   ]
  },
  {
   "cell_type": "markdown",
   "id": "e0b7940e",
   "metadata": {},
   "source": [
    "### Indexing\n",
    "Possiamo accedere all'elemento in posizione i della lista utilizzando l'operatore di indexing:"
   ]
  },
  {
   "cell_type": "code",
   "execution_count": null,
   "id": "1cc94f3f",
   "metadata": {},
   "outputs": [],
   "source": [
    "elemento = lista_numeri[i]"
   ]
  },
  {
   "cell_type": "markdown",
   "id": "5099691e",
   "metadata": {},
   "source": [
    "Inoltre, è possibile utilizzare gli indici negativi per accedere agli elementi dalla fine della lista:"
   ]
  },
  {
   "cell_type": "code",
   "execution_count": null,
   "id": "3bb2e740",
   "metadata": {},
   "outputs": [],
   "source": [
    "elemento = lista_numeri[-i]"
   ]
  },
  {
   "cell_type": "markdown",
   "id": "c86abb2d",
   "metadata": {},
   "source": [
    "### Slicing\n",
    "\n",
    "Possiamo anche utilizzare l'operatore di slicing per selezionare una porzione della lista. L'operatore di slicing utilizza la sintassi **[start:end:step]**.\n",
    "\n",
    "\n",
    "Ad esempio, per selezionare gli elementi dalla lista dall'inizio fino ad un certo punto, possiamo omettere l'inizio dell'operatore di slicing. Allo stesso modo, per selezionare gli elementi dalla lista dalla fine fino ad un certo punto, possiamo omettere la fine dell'operatore di slicing. Ad esempio:"
   ]
  },
  {
   "cell_type": "code",
   "execution_count": null,
   "id": "bd9fe431",
   "metadata": {},
   "outputs": [],
   "source": [
    "# seleziona i primi 5 elementi della lista\n",
    "primi_cinque = lista_numeri[:5]\n",
    "\n",
    "# seleziona gli elementi dalla posizione 3 alla posizione 7\n",
    "selezione = lista_numeri[3:8]\n",
    "\n",
    "# seleziona gli ultimi 3 elementi della lista\n",
    "ultimi_tre = lista_numeri[-3:]"
   ]
  },
  {
   "cell_type": "markdown",
   "id": "d4c42949",
   "metadata": {},
   "source": [
    "Possiamo anche utilizzare un valore di passo negativo per selezionare gli elementi in ordine inverso:"
   ]
  },
  {
   "cell_type": "code",
   "execution_count": null,
   "id": "f2bd9134",
   "metadata": {},
   "outputs": [],
   "source": [
    "# seleziona gli elementi in ordine inverso\n",
    "inversi = lista_numeri[::-1]"
   ]
  },
  {
   "cell_type": "markdown",
   "id": "47b83bbc",
   "metadata": {},
   "source": [
    "Inoltre, possiamo modificare gli elementi di una lista selezionando una porzione della lista e assegnando un nuovo valore ad essa:"
   ]
  },
  {
   "cell_type": "code",
   "execution_count": null,
   "id": "4a464fa5",
   "metadata": {},
   "outputs": [],
   "source": [
    "# modifica i primi 3 elementi della lista\n",
    "lista_numeri[:3] = [10, 11, 12]"
   ]
  },
  {
   "cell_type": "markdown",
   "id": "ebf2cbd5",
   "metadata": {},
   "source": [
    "Aggiunta e rimozione di elementi\n",
    "Per aggiungere un elemento alla fine della lista, si può utilizzare il metodo **append**:"
   ]
  },
  {
   "cell_type": "code",
   "execution_count": null,
   "id": "c5bccb5c",
   "metadata": {},
   "outputs": [],
   "source": [
    "my_list.append(6)"
   ]
  },
  {
   "cell_type": "markdown",
   "id": "90b17ea6",
   "metadata": {},
   "source": [
    "Per rimuovere un elemento dalla lista, si può utilizzare il metodo **remove** specificando l'elemento da rimuovere:"
   ]
  },
  {
   "cell_type": "code",
   "execution_count": null,
   "id": "daef4910",
   "metadata": {},
   "outputs": [],
   "source": [
    "my_list.remove(2)"
   ]
  },
  {
   "cell_type": "markdown",
   "id": "d71ef009",
   "metadata": {},
   "source": [
    "### Lunghezza della lista\n",
    "Per ottenere la lunghezza di una lista, si può utilizzare la funzione len:"
   ]
  },
  {
   "cell_type": "code",
   "execution_count": null,
   "id": "06753f73",
   "metadata": {},
   "outputs": [],
   "source": [
    "len(my_list)"
   ]
  },
  {
   "cell_type": "markdown",
   "id": "c3571a53",
   "metadata": {},
   "source": [
    "### Liste di Liste"
   ]
  },
  {
   "cell_type": "markdown",
   "id": "ecead683",
   "metadata": {},
   "source": [
    "Le liste di liste sono una forma comune di dati complessi in Python e possono essere utilizzate per rappresentare matrici, tabelle o qualsiasi altro tipo di dati strutturati. Ogni elemento nella lista esterna è una lista separata, il che significa che possiamo accedere agli elementi di queste liste interne utilizzando l'operatore di indice.\n",
    "\n",
    "Ad esempio, possiamo creare una lista di liste per rappresentare una matrice 3x3:"
   ]
  },
  {
   "cell_type": "code",
   "execution_count": 6,
   "id": "955ec319",
   "metadata": {},
   "outputs": [],
   "source": [
    "matrix = [[1, 2, 3],\n",
    "          [4, 5, 6], \n",
    "          [7, 8, 9]]"
   ]
  },
  {
   "cell_type": "markdown",
   "id": "fac344fe",
   "metadata": {},
   "source": [
    "Possiamo accedere all'elemento in posizione [i][j] utilizzando l'operatore di indice:\n"
   ]
  },
  {
   "cell_type": "code",
   "execution_count": null,
   "id": "3654a1b3",
   "metadata": {},
   "outputs": [],
   "source": [
    "element = matrix[i][j]"
   ]
  },
  {
   "cell_type": "markdown",
   "id": "6bef63a6",
   "metadata": {},
   "source": [
    "Inoltre, le liste di liste possono essere utilizzate per rappresentare tensori, che sono strutture multidimensionali di dati numerici. In Python, i tensori possono essere rappresentati come liste di liste di liste, dove ogni lista interna rappresenta una dimensione del tensore.\n",
    "\n",
    "Perché è importante conoscere i tensori in Python? I tensori sono alla base del deep learning, una tecnica di machine learning che permette di apprendere rappresentazioni sempre più complesse dei dati. Ad esempio, le immagini possono essere rappresentate come tensori tridimensionali, dove le prime due dimensioni rappresentano le coordinate spaziali dell'immagine e la terza dimensione rappresenta i canali di colore (rosso, verde, blu). Utilizzando i tensori, possiamo addestrare reti neurali profonde per riconoscere oggetti nelle immagini, tradurre il linguaggio naturale, generare testo e molto altro ancora."
   ]
  },
  {
   "cell_type": "markdown",
   "id": "ed4ea857",
   "metadata": {},
   "source": [
    "## Tuple\n",
    "\n",
    "Le tuple sono sequenze di oggetti immutabili, rappresentate da parentesi tonde () che racchiudono gli elementi separati da virgole.\n",
    "\n",
    "### Creazione di una tupla\n",
    "Per creare una tupla, si possono inserire gli elementi desiderati all'interno delle parentesi tonde:"
   ]
  },
  {
   "cell_type": "code",
   "execution_count": null,
   "id": "78236c01",
   "metadata": {},
   "outputs": [],
   "source": [
    "my_tuple = (1, 2, 3, 4, 5)"
   ]
  },
  {
   "cell_type": "markdown",
   "id": "c42d9671",
   "metadata": {},
   "source": [
    "### Accesso agli elementi di una tupla\n",
    "Gli elementi di una tupla possono essere accessati tramite l'indice corrispondente, allo stesso modo delle liste:"
   ]
  },
  {
   "cell_type": "code",
   "execution_count": null,
   "id": "9463a321",
   "metadata": {},
   "outputs": [],
   "source": [
    "my_tuple[2]"
   ]
  },
  {
   "cell_type": "markdown",
   "id": "8bc5446d",
   "metadata": {},
   "source": [
    "### Slicing\n",
    "Anche per le tuple si può utilizzare la tecnica dello slicing per selezionare una sotto-sequenza di elementi:"
   ]
  },
  {
   "cell_type": "code",
   "execution_count": null,
   "id": "bc59f8f6",
   "metadata": {},
   "outputs": [],
   "source": [
    "my_tuple[:3]"
   ]
  },
  {
   "cell_type": "markdown",
   "id": "ee58c4a5",
   "metadata": {},
   "source": [
    "### Immutabilità delle tuple\n",
    "Le tuple sono sequenze di oggetti immutabili, il che significa che una volta create non possono essere modificate."
   ]
  },
  {
   "cell_type": "markdown",
   "id": "03ad4f88",
   "metadata": {},
   "source": [
    "## Dizionari\n",
    "\n",
    "i dizionari sono una struttura dati fondamentale per gestire dati che hanno un rapporto chiave-valore. Vedremo come creare, manipolare e svolgere operazioni sui dizionari in Python.\n"
   ]
  },
  {
   "cell_type": "markdown",
   "id": "67b8553b",
   "metadata": {},
   "source": [
    "### Creazione di un dizionario\n",
    "Per creare un dizionario in Python, si utilizza la sintassi {key1: value1, key2: value2, ...}. Di seguito, vediamo un esempio:"
   ]
  },
  {
   "cell_type": "code",
   "execution_count": 3,
   "id": "f58bf951",
   "metadata": {},
   "outputs": [],
   "source": [
    "dizionario = {'nome': 'Marco', 'cognome': 'Rossi', 'età': 30}"
   ]
  },
  {
   "cell_type": "markdown",
   "id": "828a5298",
   "metadata": {},
   "source": [
    "In questo esempio, abbiamo creato un dizionario con tre coppie chiave-valore: 'nome': 'Marco', 'cognome': 'Rossi' e 'età': 30. Le chiavi del dizionario devono essere univoche e possono essere di qualsiasi tipo di dato immutabile come stringhe, numeri e tuple. I valori invece possono essere di qualsiasi tipo di dato, anche di tipo complesso come liste o altri dizionari."
   ]
  },
  {
   "cell_type": "markdown",
   "id": "6291d452",
   "metadata": {},
   "source": [
    "### Accesso ai valori di un dizionario\n",
    "Per accedere ai valori di un dizionario, si utilizza la sintassi dizionario[key]. Di seguito, vediamo un esempio:\n"
   ]
  },
  {
   "cell_type": "code",
   "execution_count": null,
   "id": "5bbd59fd",
   "metadata": {},
   "outputs": [],
   "source": [
    "dizionario = {'nome': 'Marco', 'cognome': 'Rossi', 'età': 30}\n",
    "print(dizionario['nome'])  # Output: 'Marco'"
   ]
  },
  {
   "cell_type": "markdown",
   "id": "ceb75a07",
   "metadata": {},
   "source": [
    "In questo esempio, abbiamo acceduto al valore associato alla chiave 'nome' del dizionario dizionario utilizzando la sintassi dizionario['nome']."
   ]
  },
  {
   "cell_type": "markdown",
   "id": "c2803bf1",
   "metadata": {},
   "source": [
    "### Aggiunta di un elemento a un dizionario\n",
    "\n",
    "Per aggiungere un elemento a un dizionario, si utilizza la sintassi dizionario[key] = value. Di seguito, vediamo un esempio:"
   ]
  },
  {
   "cell_type": "code",
   "execution_count": null,
   "id": "98fb9d85",
   "metadata": {},
   "outputs": [],
   "source": [
    "dizionario = {'nome': 'Marco', 'cognome': 'Rossi', 'età': 30}\n",
    "dizionario['sesso'] = 'M'\n",
    "print(dizionario)  # Output: {'nome': 'Marco', 'cognome': 'Rossi', 'età': 30, 'sesso': 'M'}"
   ]
  },
  {
   "cell_type": "markdown",
   "id": "cd8ece94",
   "metadata": {},
   "source": [
    "In questo esempio, abbiamo aggiunto un nuovo elemento al dizionario dizionario con chiave 'sesso' e valore 'M'."
   ]
  },
  {
   "cell_type": "markdown",
   "id": "0d84325e",
   "metadata": {},
   "source": [
    "### Aggiornamento di un elemento di un dizionario\n",
    "Per aggiornare un elemento di un dizionario, si utilizza la sintassi dizionario[key] = new_value. Di seguito, vediamo un esempio:"
   ]
  },
  {
   "cell_type": "code",
   "execution_count": null,
   "id": "90267456",
   "metadata": {},
   "outputs": [],
   "source": [
    "dizionario = {'nome': 'Marco', 'cognome': 'Rossi', 'età': 30}\n",
    "dizionario['età'] = 31\n",
    "print(dizionario)  # Output: {'nome': 'Marco', 'cognome': 'Rossi', 'età': 31}\n"
   ]
  },
  {
   "cell_type": "markdown",
   "id": "4148b152",
   "metadata": {},
   "source": [
    "In questo esempio, abbiamo aggiornato il valore associato alla chiave 'età' del dizionario dizionario utilizzando la sintassi dizionario['età'] = 31."
   ]
  },
  {
   "cell_type": "markdown",
   "id": "22847695",
   "metadata": {},
   "source": [
    "### Rimozione di un elemento di un dizionario"
   ]
  },
  {
   "cell_type": "markdown",
   "id": "7d597ee4",
   "metadata": {},
   "source": [
    "Per rimuovere un elemento da un dizionario, è possibile utilizzare il metodo pop(). Questo metodo accetta come argomento la chiave dell'elemento da rimuovere e restituisce il valore corrispondente. Se la chiave non esiste nel dizionario, viene sollevata un'eccezione KeyError."
   ]
  },
  {
   "cell_type": "code",
   "execution_count": null,
   "id": "5b9cc848",
   "metadata": {},
   "outputs": [],
   "source": [
    "frutta = {'mela': 2, 'banana': 3, 'arancia': 5}\n",
    "\n",
    "valore_rimosso = frutta.pop('banana')\n",
    "\n",
    "print(frutta) # Output: {'mela': 2, 'arancia': 5}\n",
    "print(valore_rimosso) # Output: 3\n"
   ]
  },
  {
   "cell_type": "markdown",
   "id": "5cf69c77",
   "metadata": {},
   "source": [
    "In questo esempio, il metodo pop() è stato utilizzato per rimuovere l'elemento con chiave 'banana' dal dizionario frutta. Il valore 3 corrispondente è stato assegnato alla variabile valore_rimosso.\n",
    "\n",
    "Per rimuovere un elemento in modo casuale dal dizionario, è possibile utilizzare il metodo popitem(), che rimuove e restituisce un elemento casuale del dizionario come una tupla (chiave, valore). Se il dizionario è vuoto, viene sollevata un'eccezione KeyError."
   ]
  },
  {
   "cell_type": "code",
   "execution_count": null,
   "id": "a6520144",
   "metadata": {},
   "outputs": [],
   "source": [
    "frutta = {'mela': 2, 'banana': 3, 'arancia': 5}\n",
    "\n",
    "elemento_rimosso = frutta.popitem()\n",
    "\n",
    "print(frutta) # Output: {'mela': 2, 'banana': 3}\n",
    "print(elemento_rimosso) # Output: ('arancia', 5)\n"
   ]
  },
  {
   "cell_type": "markdown",
   "id": "6f90af31",
   "metadata": {},
   "source": [
    "Infine, è possibile utilizzare la parola chiave del per rimuovere un elemento da un dizionario. In questo caso, la chiave dell'elemento da rimuovere viene specificata direttamente dopo la parola chiave del. Se la chiave non esiste nel dizionario, viene sollevata un'eccezione KeyError.\n",
    "\n",
    "Esempio:"
   ]
  },
  {
   "cell_type": "code",
   "execution_count": null,
   "id": "a98d47d3",
   "metadata": {},
   "outputs": [],
   "source": [
    "frutta = {'mela': 2, 'banana': 3, 'arancia': 5}\n",
    "\n",
    "del frutta['banana']\n",
    "\n",
    "print(frutta) # Output: {'mela': 2, 'arancia': 5}"
   ]
  },
  {
   "cell_type": "markdown",
   "id": "1fb4bd3a",
   "metadata": {},
   "source": [
    "In questo esempio, la parola chiave del è stata utilizzata per rimuovere l'elemento con chiave 'banana' dal dizionario frutta."
   ]
  },
  {
   "cell_type": "code",
   "execution_count": null,
   "id": "eef7d73c",
   "metadata": {},
   "outputs": [],
   "source": []
  }
 ],
 "metadata": {
  "kernelspec": {
   "display_name": "Python 3 (ipykernel)",
   "language": "python",
   "name": "python3"
  },
  "language_info": {
   "codemirror_mode": {
    "name": "ipython",
    "version": 3
   },
   "file_extension": ".py",
   "mimetype": "text/x-python",
   "name": "python",
   "nbconvert_exporter": "python",
   "pygments_lexer": "ipython3",
   "version": "3.9.15"
  }
 },
 "nbformat": 4,
 "nbformat_minor": 5
}

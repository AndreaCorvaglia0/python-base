{
 "cells": [
  {
   "cell_type": "markdown",
   "id": "307b8465",
   "metadata": {},
   "source": [
    "## Eccezioni in pyhton"
   ]
  },
  {
   "cell_type": "markdown",
   "id": "445b6265",
   "metadata": {},
   "source": [
    "Le eccezioni in Python rappresentano degli errori che possono verificarsi durante l'esecuzione del codice. Python offre un sistema di gestione delle eccezioni che consente di individuare e gestire gli errori in modo elegante e sicuro.\n",
    "\n",
    "Di seguito sono riportate alcune delle eccezioni più comuni e un esempio di codice che può generare tale eccezione:"
   ]
  },
  {
   "cell_type": "markdown",
   "id": "4ffd1c52",
   "metadata": {},
   "source": [
    "**TypeError**: solitamente viene generata quando si cerca di eseguire un'operazione su un oggetto di un tipo non supportato. Ad esempio, tentare di sommare una stringa e un intero genererà una TypeError. Esempio di codice:"
   ]
  },
  {
   "cell_type": "code",
   "execution_count": 1,
   "id": "8bec4113",
   "metadata": {},
   "outputs": [
    {
     "ename": "TypeError",
     "evalue": "can only concatenate str (not \"int\") to str",
     "output_type": "error",
     "traceback": [
      "\u001b[1;31m---------------------------------------------------------------------------\u001b[0m",
      "\u001b[1;31mTypeError\u001b[0m                                 Traceback (most recent call last)",
      "Cell \u001b[1;32mIn[1], line 3\u001b[0m\n\u001b[0;32m      1\u001b[0m x \u001b[38;5;241m=\u001b[39m \u001b[38;5;124m'\u001b[39m\u001b[38;5;124mhello\u001b[39m\u001b[38;5;124m'\u001b[39m\n\u001b[0;32m      2\u001b[0m y \u001b[38;5;241m=\u001b[39m \u001b[38;5;241m5\u001b[39m\n\u001b[1;32m----> 3\u001b[0m z \u001b[38;5;241m=\u001b[39m x \u001b[38;5;241m+\u001b[39m y\n",
      "\u001b[1;31mTypeError\u001b[0m: can only concatenate str (not \"int\") to str"
     ]
    }
   ],
   "source": [
    "x = 'hello'\n",
    "y = 5\n",
    "z = x + y # Genera una TypeError"
   ]
  },
  {
   "cell_type": "markdown",
   "id": "24169ee5",
   "metadata": {},
   "source": [
    "il messaggio \"Traceback (most recent call last)\" indica che l'elenco di chiamate è elencato in ordine inverso rispetto all'ordine in cui sono state effettuate. Questo perché la traccia degli errori viene generata in modo tale da aiutare a tracciare la causa dell'errore partendo dall'ultimo punto in cui è stato rilevato l'errore e risalendo progressivamente fino alla prima chiamata nella sequenza di chiamate. "
   ]
  },
  {
   "cell_type": "markdown",
   "id": "c86d121e",
   "metadata": {},
   "source": [
    "Oltre a questo viene specificato il tipo di errore: in questo caso TypeError\n",
    "\n",
    "La cella e la linea : Cell In[1], line 3 , con in più la parte di codice che ha provocato l'errore\n",
    "\n",
    "Infine un messaggio che specifica ulteriormente il messaggio"
   ]
  },
  {
   "cell_type": "markdown",
   "id": "48cbacb1",
   "metadata": {},
   "source": [
    "**KeyError**: viene generata quando si cerca di accedere a una chiave in un dizionario che non esiste. Esempio di codice:"
   ]
  },
  {
   "cell_type": "code",
   "execution_count": 3,
   "id": "fe0e061d",
   "metadata": {},
   "outputs": [
    {
     "ename": "KeyError",
     "evalue": "'d'",
     "output_type": "error",
     "traceback": [
      "\u001b[0;31m---------------------------------------------------------------------------\u001b[0m",
      "\u001b[0;31mKeyError\u001b[0m                                  Traceback (most recent call last)",
      "Cell \u001b[0;32mIn[3], line 2\u001b[0m\n\u001b[1;32m      1\u001b[0m my_dict \u001b[38;5;241m=\u001b[39m {\u001b[38;5;124m'\u001b[39m\u001b[38;5;124ma\u001b[39m\u001b[38;5;124m'\u001b[39m: \u001b[38;5;241m1\u001b[39m, \u001b[38;5;124m'\u001b[39m\u001b[38;5;124mb\u001b[39m\u001b[38;5;124m'\u001b[39m: \u001b[38;5;241m2\u001b[39m, \u001b[38;5;124m'\u001b[39m\u001b[38;5;124mc\u001b[39m\u001b[38;5;124m'\u001b[39m: \u001b[38;5;241m3\u001b[39m}\n\u001b[0;32m----> 2\u001b[0m value \u001b[38;5;241m=\u001b[39m \u001b[43mmy_dict\u001b[49m\u001b[43m[\u001b[49m\u001b[38;5;124;43m'\u001b[39;49m\u001b[38;5;124;43md\u001b[39;49m\u001b[38;5;124;43m'\u001b[39;49m\u001b[43m]\u001b[49m \u001b[38;5;66;03m# Genera una KeyError\u001b[39;00m\n",
      "\u001b[0;31mKeyError\u001b[0m: 'd'"
     ]
    }
   ],
   "source": [
    "my_dict = {'a': 1, 'b': 2, 'c': 3}\n",
    "value = my_dict['d'] # Genera una KeyError"
   ]
  },
  {
   "cell_type": "markdown",
   "id": "62c9d1f4",
   "metadata": {},
   "source": [
    "**IndexError**: viene generata quando si cerca di accedere a un indice in una lista o in una tupla che non esiste. Esempio di codice:"
   ]
  },
  {
   "cell_type": "code",
   "execution_count": 4,
   "id": "b309b320",
   "metadata": {},
   "outputs": [
    {
     "ename": "IndexError",
     "evalue": "list index out of range",
     "output_type": "error",
     "traceback": [
      "\u001b[0;31m---------------------------------------------------------------------------\u001b[0m",
      "\u001b[0;31mIndexError\u001b[0m                                Traceback (most recent call last)",
      "Cell \u001b[0;32mIn[4], line 2\u001b[0m\n\u001b[1;32m      1\u001b[0m my_list \u001b[38;5;241m=\u001b[39m [\u001b[38;5;241m1\u001b[39m, \u001b[38;5;241m2\u001b[39m, \u001b[38;5;241m3\u001b[39m]\n\u001b[0;32m----> 2\u001b[0m value \u001b[38;5;241m=\u001b[39m \u001b[43mmy_list\u001b[49m\u001b[43m[\u001b[49m\u001b[38;5;241;43m3\u001b[39;49m\u001b[43m]\u001b[49m \u001b[38;5;66;03m# Genera un IndexError\u001b[39;00m\n",
      "\u001b[0;31mIndexError\u001b[0m: list index out of range"
     ]
    }
   ],
   "source": [
    "my_list = [1, 2, 3]\n",
    "value = my_list[3] # Genera un IndexError"
   ]
  },
  {
   "cell_type": "markdown",
   "id": "550b5611",
   "metadata": {},
   "source": [
    "**ImportError**: viene generata quando si tenta di importare un modulo che non esiste o che non può essere trovato. Esempio di codice:"
   ]
  },
  {
   "cell_type": "code",
   "execution_count": 5,
   "id": "d5826c83",
   "metadata": {},
   "outputs": [
    {
     "ename": "ModuleNotFoundError",
     "evalue": "No module named 'my_module'",
     "output_type": "error",
     "traceback": [
      "\u001b[0;31m---------------------------------------------------------------------------\u001b[0m",
      "\u001b[0;31mModuleNotFoundError\u001b[0m                       Traceback (most recent call last)",
      "Cell \u001b[0;32mIn[5], line 1\u001b[0m\n\u001b[0;32m----> 1\u001b[0m \u001b[38;5;28;01mimport\u001b[39;00m \u001b[38;5;21;01mmy_module\u001b[39;00m \u001b[38;5;66;03m# Genera un ImportError se my_module non esiste\u001b[39;00m\n",
      "\u001b[0;31mModuleNotFoundError\u001b[0m: No module named 'my_module'"
     ]
    }
   ],
   "source": [
    "import my_module # Genera un ImportError se my_module non esiste"
   ]
  },
  {
   "cell_type": "markdown",
   "id": "c47b3863",
   "metadata": {},
   "source": [
    "## Try Except"
   ]
  },
  {
   "cell_type": "markdown",
   "id": "e63773cd",
   "metadata": {},
   "source": [
    "Gestire gli errori nel codice è una parte importante dello sviluppo di programmi affidabili e stabili. Python fornisce diversi meccanismi per gestire le eccezioni e risolvere eventuali problemi.\n",
    "\n",
    "In Python, le eccezioni sono gestite utilizzando il costrutto \"try-except\". Il codice che potrebbe generare un'eccezione viene inserito all'interno del blocco \"try\". Se viene generata un'eccezione, il programma interrompe l'esecuzione del codice all'interno del blocco \"try\" e passa alla gestione dell'eccezione nel blocco \"except\". Il blocco \"except\" fornisce le istruzioni per gestire l'eccezione e può essere personalizzato per affrontare casi specifici.\n",
    "\n",
    "Ecco un esempio di come utilizzare il costrutto \"try-except\" per gestire un'eccezione di tipo \"ZeroDivisionError\":"
   ]
  },
  {
   "cell_type": "code",
   "execution_count": 19,
   "id": "5dc50dc8",
   "metadata": {},
   "outputs": [
    {
     "name": "stdout",
     "output_type": "stream",
     "text": [
      "Errore: divisione per zero\n"
     ]
    }
   ],
   "source": [
    "try:\n",
    "    risultato = 10 / 0\n",
    "except ZeroDivisionError :\n",
    "    print(\"Errore: divisione per zero\")\n"
   ]
  },
  {
   "cell_type": "markdown",
   "id": "37cfbcb0",
   "metadata": {},
   "source": [
    "In questo esempio, il codice all'interno del blocco \"try\" tenta di dividere 10 per 0, che genera un'eccezione di tipo \"ZeroDivisionError\". Nel blocco \"except\", viene stampato un messaggio di errore specifico per l'eccezione di tipo \"ZeroDivisionError\"."
   ]
  },
  {
   "cell_type": "markdown",
   "id": "297c9c41",
   "metadata": {},
   "source": [
    "In Python, esiste la classe base Exception che può essere utilizzata per gestire eccezioni generiche. Per catturare qualsiasi tipo di eccezione, è possibile utilizzare l'istruzione \"except Exception\". Tuttavia, è buona pratica usare le eccezioni specifiche.\n",
    "\n",
    "Ad esempio, si potrebbe scrivere:"
   ]
  },
  {
   "cell_type": "code",
   "execution_count": 21,
   "id": "3d5d13b7",
   "metadata": {
    "scrolled": true
   },
   "outputs": [
    {
     "name": "stdout",
     "output_type": "stream",
     "text": [
      "Si è verificata un'eccezione: division by zero\n"
     ]
    }
   ],
   "source": [
    "x = 0\n",
    "\n",
    "try:\n",
    "    risultato = 10 / x\n",
    "except Exception as e:\n",
    "    print(\"Si è verificata un'eccezione:\", e)\n"
   ]
  },
  {
   "cell_type": "markdown",
   "id": "5b7ad729",
   "metadata": {},
   "source": [
    "In questo caso, l'istruzione \"except Exception\" cattura qualsiasi tipo di eccezione, e l'oggetto \"e\" rappresenta l'eccezione stessa, che può essere utilizzata per ottenere informazioni sul tipo di errore che è stato sollevato."
   ]
  },
  {
   "cell_type": "markdown",
   "id": "a0efd4df",
   "metadata": {},
   "source": [
    "\n",
    "Oltre alla gestione delle eccezioni utilizzando il costrutto \"try-except\", Python fornisce anche la possibilità di sollevare manualmente un'eccezione utilizzando il costrutto \"raise\". Ad esempio, il seguente codice solleverà un'eccezione di tipo \"ValueError\":"
   ]
  },
  {
   "cell_type": "code",
   "execution_count": null,
   "id": "975f0355",
   "metadata": {},
   "outputs": [],
   "source": [
    "def verifica_numero_positivo(numero):\n",
    "    if numero < 0:\n",
    "        raise ValueError(\"Il numero deve essere positivo\")"
   ]
  },
  {
   "cell_type": "markdown",
   "id": "3c6eb0c2",
   "metadata": {},
   "source": [
    "In questo esempio, la funzione \"verifica_numero_positivo\" verifica se un numero è positivo e, se non lo è, solleva un'eccezione di tipo \"ValueError\" con un messaggio di errore personalizzato."
   ]
  }
 ],
 "metadata": {
  "kernelspec": {
   "display_name": "Python 3 (ipykernel)",
   "language": "python",
   "name": "python3"
  },
  "language_info": {
   "codemirror_mode": {
    "name": "ipython",
    "version": 3
   },
   "file_extension": ".py",
   "mimetype": "text/x-python",
   "name": "python",
   "nbconvert_exporter": "python",
   "pygments_lexer": "ipython3",
   "version": "3.11.7"
  }
 },
 "nbformat": 4,
 "nbformat_minor": 5
}

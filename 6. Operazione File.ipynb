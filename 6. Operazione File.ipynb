{
 "cells": [
  {
   "cell_type": "markdown",
   "id": "6d230999",
   "metadata": {},
   "source": [
    "## Gestire Operazioni su File tramite Python (Lettura, Scrittura, Cancellazione…)"
   ]
  },
  {
   "cell_type": "markdown",
   "id": "0f4ba18c",
   "metadata": {},
   "source": [
    "Prima di iniziare, è importante notare che ci sono diverse modalità di apertura di un file in Python, come lettura ('r'), scrittura ('w') o aggiornamento ('a'). Inoltre, è possibile specificare il tipo di file (testo, binario, etc.), ma in questo esempio utilizzeremo i file di testo."
   ]
  },
  {
   "cell_type": "markdown",
   "id": "cae20ae1",
   "metadata": {},
   "source": [
    "Questo codice apre il file 'miofile.txt' in modalità scrittura. Se il file non esiste, verrà creato.\n",
    "\n",
    "Scrittura di un messaggio nel file:"
   ]
  },
  {
   "cell_type": "code",
   "execution_count": 2,
   "id": "68ff9d27",
   "metadata": {},
   "outputs": [],
   "source": [
    "file = open('test_file.txt', 'w')\n",
    "file.write('Questo è un messaggio di prova!')\n",
    "file.close()"
   ]
  },
  {
   "cell_type": "markdown",
   "id": "51384de4",
   "metadata": {},
   "source": [
    "Apertura di un file per la lettura:"
   ]
  },
  {
   "cell_type": "code",
   "execution_count": 3,
   "id": "98db1388",
   "metadata": {},
   "outputs": [],
   "source": [
    "file = open('test_file.txt', 'r')"
   ]
  },
  {
   "cell_type": "markdown",
   "id": "8373bdef",
   "metadata": {},
   "source": [
    "Questo codice legge il contenuto del file 'miofile.txt' e lo stampa a video.\n",
    "\n"
   ]
  },
  {
   "cell_type": "code",
   "execution_count": 4,
   "id": "2fddfa44",
   "metadata": {
    "scrolled": true
   },
   "outputs": [
    {
     "name": "stdout",
     "output_type": "stream",
     "text": [
      "Questo è un messaggio di prova!\n"
     ]
    }
   ],
   "source": [
    "print(file.read())"
   ]
  },
  {
   "cell_type": "markdown",
   "id": "594c8809",
   "metadata": {},
   "source": [
    "Chiusura del file:"
   ]
  },
  {
   "cell_type": "code",
   "execution_count": 8,
   "id": "367ad456",
   "metadata": {},
   "outputs": [],
   "source": [
    "file.close()"
   ]
  },
  {
   "cell_type": "markdown",
   "id": "bb764121",
   "metadata": {},
   "source": [
    "Per aggiornare il contenuto di un file in Python, puoi aprire il file in modalità 'a' (aggiunta) invece di 'w' (scrittura)."
   ]
  },
  {
   "cell_type": "code",
   "execution_count": null,
   "id": "8676fc7e",
   "metadata": {},
   "outputs": [],
   "source": [
    "file = open('miofile.txt', 'a')\n",
    "file.write('\\nQuesto è un nuovo messaggio!')\n",
    "file.close()"
   ]
  },
  {
   "cell_type": "markdown",
   "id": "14a0f862",
   "metadata": {},
   "source": [
    "### Esercizio\n",
    "per te: crea un file di testo chiamato 'dati.txt' e scrivi al suo interno il tuo nome e la tua età. Poi leggi il contenuto del file e stampalo a video.\n",
    "\n",
    "Soluzione:"
   ]
  },
  {
   "cell_type": "code",
   "execution_count": null,
   "id": "b051aa6a",
   "metadata": {},
   "outputs": [],
   "source": [
    "# Scrittura dei dati nel file\n",
    "\n",
    "\n",
    "# Lettura del contenuto del file e stampa a video\n"
   ]
  }
 ],
 "metadata": {
  "kernelspec": {
   "display_name": "Python 3 (ipykernel)",
   "language": "python",
   "name": "python3"
  },
  "language_info": {
   "codemirror_mode": {
    "name": "ipython",
    "version": 3
   },
   "file_extension": ".py",
   "mimetype": "text/x-python",
   "name": "python",
   "nbconvert_exporter": "python",
   "pygments_lexer": "ipython3",
   "version": "3.9.15"
  }
 },
 "nbformat": 4,
 "nbformat_minor": 5
}

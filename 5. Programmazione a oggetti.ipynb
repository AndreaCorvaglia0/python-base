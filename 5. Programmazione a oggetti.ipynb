{
 "cells": [
  {
   "cell_type": "markdown",
   "id": "8bcb81b4",
   "metadata": {},
   "source": [
    "\n",
    "## Introduzione alla programmazione ad oggetti\n",
    "\n",
    "La programmazione ad oggetti (OOP - Object Oriented Programming) è un paradigma di programmazione che si basa sulla creazione di oggetti, ovvero entità che rappresentano un'istanza di una classe. Una classe può essere considerata come un \"modello\" o una \"blueprint\" che definisce le proprietà e i comportamenti che gli oggetti creati da essa possono avere.\n",
    "\n",
    "L'OOP è ampiamente utilizzato nella programmazione moderna perché offre numerosi vantaggi, tra cui una maggiore modularità, riusabilità del codice e una migliore organizzazione del codice. Inoltre, l'OOP consente di modellare le entità del mondo reale in modo più naturale, rendendo il codice più comprensibile e intuitivo."
   ]
  },
  {
   "cell_type": "markdown",
   "id": "426b297e",
   "metadata": {},
   "source": [
    "## La programmazione ad oggetti in Python\n",
    "\n",
    "Python è un linguaggio di programmazione completamente orientato agli oggetti. Tutto in Python è un oggetto, incluso il codice stesso! Questo significa che Python supporta pienamente la creazione e l'utilizzo di classi e oggetti, permettendo ai programmatori di scrivere codice OOP elegante e efficiente.\n",
    "\n",
    "In Python, la definizione di una classe è simile alla definizione di una funzione. Inizia con la parola chiave class seguita dal nome della classe. Qui c'è un esempio di definizione di una classe:"
   ]
  },
  {
   "cell_type": "code",
   "execution_count": null,
   "id": "0aa07c6b",
   "metadata": {},
   "outputs": [],
   "source": [
    "class Automobile:\n",
    "    def __init__(self, marca, modello, anno, prezzo):\n",
    "        self.marca = marca\n",
    "        self.modello = modello\n",
    "        self.anno = anno\n",
    "        self.prezzo = prezzo\n",
    "\n",
    "    def descrizione(self):\n",
    "        return f\"{self.marca} {self.modello} del {self.anno} che costa {self.prezzo} euro\""
   ]
  },
  {
   "cell_type": "markdown",
   "id": "8ccd7b24",
   "metadata": {},
   "source": [
    "In questo esempio, abbiamo definito una classe Automobile che ha quattro proprietà: marca, modello, anno e prezzo. Abbiamo anche definito un metodo descrizione che restituisce una descrizione della macchina come stringa.\n",
    "\n",
    "Creare un oggetto da una classe è chiamato \"istanziare\" una classe. Ecco un esempio:"
   ]
  },
  {
   "cell_type": "code",
   "execution_count": null,
   "id": "f94aadee",
   "metadata": {},
   "outputs": [],
   "source": [
    "auto1 = Automobile(\"Fiat\", \"Panda\", 2021, 15000)"
   ]
  },
  {
   "cell_type": "markdown",
   "id": "96bf6470",
   "metadata": {},
   "source": [
    "In questo esempio, abbiamo creato un oggetto auto1 della classe Automobile. Abbiamo passato i valori \"Fiat\", \"Panda\", 2021 e 15000 come argomenti al costruttore della classe (__init__), che ha assegnato questi valori alle proprietà della classe.\n",
    "\n",
    "Per accedere alle proprietà e ai metodi di un oggetto, usiamo la sintassi \"punto\". Ad esempio:"
   ]
  },
  {
   "cell_type": "code",
   "execution_count": null,
   "id": "f648a4b4",
   "metadata": {},
   "outputs": [],
   "source": [
    "print(auto1.marca)\n",
    "print(auto1.descrizione())"
   ]
  },
  {
   "cell_type": "markdown",
   "id": "a8a7bfd6",
   "metadata": {},
   "source": [
    "Questo codice stamperebbe \"Fiat\" e \"Fiat Panda del 2021 che costa 15000 euro\".\n",
    "\n"
   ]
  },
  {
   "cell_type": "markdown",
   "id": "585352ee",
   "metadata": {},
   "source": [
    "## Importanza degli oggetti in Python\n",
    "Come accennato in precedenza, tutto in Python è un oggetto. Ciò significa che anche le strutture dati come array, liste, dizionari, tuple e set sono oggetti. Ad esempio, quando creiamo una lista come questa:"
   ]
  },
  {
   "cell_type": "code",
   "execution_count": 1,
   "id": "ea0c98f7",
   "metadata": {},
   "outputs": [],
   "source": [
    "lista = [1, 2, 3, 4]"
   ]
  },
  {
   "cell_type": "markdown",
   "id": "9c444760",
   "metadata": {},
   "source": [
    "La variabile lista è in realtà un oggetto di tipo list, che ha proprietà e metodi che possiamo utilizzare per manipolare la lista. Ad esempio, possiamo usare il metodo append per aggiungere un elemento alla lista:"
   ]
  },
  {
   "cell_type": "code",
   "execution_count": 2,
   "id": "de431d52",
   "metadata": {},
   "outputs": [],
   "source": [
    "lista.append(5)"
   ]
  },
  {
   "cell_type": "markdown",
   "id": "3513bede",
   "metadata": {},
   "source": [
    "Inoltre, molte librerie di data science come NumPy, Pandas e Matplotlib utilizzano oggetti per rappresentare dati e visualizzazioni. Ad esempio, il famoso DataFrame di Pandas è un oggetto che rappresenta un insieme di dati organizzati in colonne e righe.\n",
    "\n",
    "L'utilizzo di oggetti in Python offre numerosi vantaggi, come una maggiore flessibilità e facilità di utilizzo delle strutture dati, la possibilità di creare codice modulare e riusabile e la semplificazione della gestione degli stati e dei comportamenti complessi."
   ]
  },
  {
   "cell_type": "markdown",
   "id": "16741434",
   "metadata": {},
   "source": [
    "## Esercizi\n",
    "### Esercizio 1:\n",
    "Definire una classe Person che abbia come proprietà il nome, l'età e la città di residenza di una persona. La classe dovrebbe avere un metodo presentazione che restituisce una stringa che descrive la persona in questo modo: \"Mi chiamo [nome], ho [età] anni e vivo a [città]\".\n",
    "\n",
    "### Esercizio 2:\n",
    "Definire una classe Rettangolo che abbia come proprietà la larghezza e l'altezza di un rettangolo. La classe dovrebbe avere un metodo area che restituisce l'area del rettangolo.\n",
    "\n",
    "### Esercizio 3 (Avanzato):\n",
    "\n",
    "Definire una classe **Playlist** che rappresenta una playlist musicale. La classe dovrebbe avere una proprietà canzoni che è una lista di oggetti Canzone. \n",
    "\n",
    "La classe **Canzone** dovrebbe avere le proprietà:\n",
    "- titolo\n",
    "- artista\n",
    "- durata.\n",
    "\n",
    "La classe Playlist dovrebbe avere un metodo durata_totale che restituisce la durata totale della playlist."
   ]
  },
  {
   "cell_type": "markdown",
   "id": "15d52745",
   "metadata": {},
   "source": [
    "## Extra"
   ]
  },
  {
   "cell_type": "markdown",
   "id": "2814fb5f",
   "metadata": {},
   "source": [
    "Per creare una classe in Python, dobbiamo usare la parola chiave **class** seguita dal nome della classe. Il nome della classe dovrebbe iniziare con una lettera maiuscola e seguire la convenzione **CamelCase** (ad esempio, MiaClasse, LaMiaSecondaClasse, ClasseBase, ecc.)."
   ]
  },
  {
   "cell_type": "markdown",
   "id": "06a3cd95",
   "metadata": {},
   "source": [
    "__init__ è un metodo speciale che viene eseguito in automatica nel momento in cui l'istanza di una classe viene creata. I parametri in input al metodo andranno a valorizzare gli attributi della classe. Self rappresenta l'instanza in sè "
   ]
  },
  {
   "cell_type": "code",
   "execution_count": 16,
   "id": "7633ec32",
   "metadata": {},
   "outputs": [],
   "source": [
    "class Person:\n",
    "    def __init__(self, nome, eta, citta):\n",
    "        self.nome = nome\n",
    "        self.eta = eta \n",
    "        self.citta = citta \n",
    "        \n",
    "    def presentazione(self):\n",
    "        print(f\"ciao a tutti, il mio nome è {self.nome}, ho {self.eta} anni e vivo a {self.citta}\")"
   ]
  },
  {
   "cell_type": "code",
   "execution_count": 17,
   "id": "4a9551c7",
   "metadata": {},
   "outputs": [],
   "source": [
    "p = Person(\"andrea\", 26, \"Milano\")"
   ]
  },
  {
   "cell_type": "code",
   "execution_count": 18,
   "id": "dc75e575",
   "metadata": {},
   "outputs": [
    {
     "name": "stdout",
     "output_type": "stream",
     "text": [
      "ciao a tutti, il mio nome è andrea, ho 26 anni e vivo a Milano\n"
     ]
    }
   ],
   "source": [
    "p.presentazione()"
   ]
  }
 ],
 "metadata": {
  "kernelspec": {
   "display_name": "Python 3 (ipykernel)",
   "language": "python",
   "name": "python3"
  },
  "language_info": {
   "codemirror_mode": {
    "name": "ipython",
    "version": 3
   },
   "file_extension": ".py",
   "mimetype": "text/x-python",
   "name": "python",
   "nbconvert_exporter": "python",
   "pygments_lexer": "ipython3",
   "version": "3.9.15"
  }
 },
 "nbformat": 4,
 "nbformat_minor": 5
}

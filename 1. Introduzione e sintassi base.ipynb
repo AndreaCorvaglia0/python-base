{
 "cells": [
  {
   "cell_type": "markdown",
   "id": "8896a3ae",
   "metadata": {},
   "source": [
    "# Introduzione a python e sintassi base"
   ]
  },
  {
   "cell_type": "markdown",
   "id": "b16ec5c1",
   "metadata": {},
   "source": [
    "Python è un linguaggio di programmazione ad alto livello, interpretato e general-purpose. Il suo design filosofico privilegia la leggibilità del codice, la sintassi semplice e la scrittura di codice esplicito. Python è un linguaggio multi-paradigma, che significa che supporta sia la programmazione orientata agli oggetti che quella procedurale.\n",
    "\n",
    "## Caratteristiche principali di Python\n",
    "\n",
    "- Leggibilità del codice\n",
    "- Sintassi semplice e pulita\n",
    "- Interpretato, non compilato\n",
    "- Gestione automatica della memoria\n",
    "- Linguaggio multi-paradigma\n",
    "- Ampia libreria standard\n",
    "- Orientato agli oggetti"
   ]
  },
  {
   "cell_type": "markdown",
   "id": "d82265e0",
   "metadata": {},
   "source": [
    "\n",
    "## Identazione\n",
    "\n",
    "In Python, la sintassi richiede l'uso dell'indentazione per definire i blocchi di codice. Non esistono parentesi o altre indicazioni visive per separare le istruzioni.\n"
   ]
  },
  {
   "cell_type": "code",
   "execution_count": 3,
   "id": "26fcdf77",
   "metadata": {},
   "outputs": [
    {
     "name": "stdout",
     "output_type": "stream",
     "text": [
      "Questo è un output\n"
     ]
    }
   ],
   "source": [
    "if 3 == 3:\n",
    "    print(\"Questo è un output\")"
   ]
  },
  {
   "cell_type": "markdown",
   "id": "80bd6a95",
   "metadata": {},
   "source": [
    "## Variabili\n",
    "In Python, non è necessario specificare il tipo di variabile al momento della dichiarazione. Il tipo viene assegnato automaticamente al valore che viene assegnato alla variabile. Ad esempio:"
   ]
  },
  {
   "cell_type": "code",
   "execution_count": 4,
   "id": "b311b71f",
   "metadata": {},
   "outputs": [],
   "source": [
    "x = 42 # x è un intero\n",
    "y = 3.14 # y è un float\n",
    "z = \"Hello, world!\" # z è una stringa"
   ]
  },
  {
   "cell_type": "markdown",
   "id": "ac619fa0",
   "metadata": {},
   "source": [
    "## Import delle librerie\n",
    "Python ha un vasto ecosistema di librerie e framework, che possono essere utilizzati per sviluppare applicazioni web, applicazioni scientifiche, analisi dati e molto altro. Per utilizzare una libreria, è necessario importarla nel proprio codice.\n",
    "\n",
    "Ad esempio, per utilizzare la libreria \"numpy\" che fornisce funzioni per la manipolazione di array numerici:"
   ]
  },
  {
   "cell_type": "code",
   "execution_count": 6,
   "id": "82a14b62",
   "metadata": {},
   "outputs": [
    {
     "name": "stdout",
     "output_type": "stream",
     "text": [
      "1.22.3\n"
     ]
    }
   ],
   "source": [
    "import numpy as np\n",
    "\n",
    "print(np.__version__)"
   ]
  },
  {
   "cell_type": "markdown",
   "id": "440fea46",
   "metadata": {},
   "source": [
    "## Riconoscere le tipologie di dato numerico e capire come Python esegue calcoli matematici\n"
   ]
  },
  {
   "cell_type": "markdown",
   "id": "f1cb3371",
   "metadata": {},
   "source": [
    "Python è in grado di gestire vari tipi di dati numerici. I principali sono:\n",
    "\n",
    "- Integers (int): numeri interi positivi o negativi senza virgola\n",
    "- Floats (float): numeri decimali positivi o negativi\n",
    "- Booleans (bool): valori binari True (vero) o False (falso)\n",
    "\n",
    "Python è in grado di eseguire operazioni matematiche tra numeri, con gli operatori aritmetici standard come:\n",
    "\n",
    "- Somma (+)\n",
    "- Sottrazione (-)\n",
    "- Moltiplicazione (*)\n",
    "- Divisione (/)\n",
    "- Divisione intera (//): restituisce la parte intera del risultato della divisione tra due numeri\n",
    "- Resto della divisione (%)\n",
    "- Potenza (**)\n",
    "\n",
    "In Python, le operazioni vengono eseguite rispettando l'ordine delle operazioni matematiche standard. Tuttavia, è possibile cambiare l'ordine di esecuzione delle operazioni tramite l'utilizzo di parentesi.\n",
    "\n",
    "Esempio di codice:"
   ]
  },
  {
   "cell_type": "code",
   "execution_count": 11,
   "id": "91742e6b",
   "metadata": {},
   "outputs": [],
   "source": [
    "# Esempi di operazioni matematiche in Python\n",
    "a = 5 # int\n",
    "b = 2 # int\n",
    "c = 3.5 # float"
   ]
  },
  {
   "cell_type": "code",
   "execution_count": 12,
   "id": "5876e3db",
   "metadata": {},
   "outputs": [
    {
     "name": "stdout",
     "output_type": "stream",
     "text": [
      "7\n",
      "5.5\n"
     ]
    }
   ],
   "source": [
    "# Somma\n",
    "print(a + b)   # Output: 7\n",
    "print(c + b)   # Output: 5.5"
   ]
  },
  {
   "cell_type": "code",
   "execution_count": 13,
   "id": "f61a5a70",
   "metadata": {},
   "outputs": [
    {
     "name": "stdout",
     "output_type": "stream",
     "text": [
      "10\n",
      "7.0\n"
     ]
    }
   ],
   "source": [
    "# Moltiplicazione\n",
    "print(a * b)   # Output: 10\n",
    "print(c * b)   # Output: 7.0"
   ]
  },
  {
   "cell_type": "code",
   "execution_count": 14,
   "id": "d3f4df17",
   "metadata": {},
   "outputs": [
    {
     "name": "stdout",
     "output_type": "stream",
     "text": [
      "2.5\n",
      "1.75\n"
     ]
    }
   ],
   "source": [
    "# Divisione\n",
    "print(a / b)   # Output: 2.5\n",
    "print(c / b)   # Output: 1.75"
   ]
  },
  {
   "cell_type": "code",
   "execution_count": 15,
   "id": "fff19c58",
   "metadata": {},
   "outputs": [
    {
     "name": "stdout",
     "output_type": "stream",
     "text": [
      "2\n",
      "1.0\n"
     ]
    }
   ],
   "source": [
    "# Divisione intera\n",
    "print(a // b)  # Output: 2\n",
    "print(c // b)  # Output: 1.0"
   ]
  },
  {
   "cell_type": "code",
   "execution_count": 16,
   "id": "be64d357",
   "metadata": {},
   "outputs": [
    {
     "name": "stdout",
     "output_type": "stream",
     "text": [
      "1\n",
      "1.5\n"
     ]
    }
   ],
   "source": [
    "# Resto della divisione\n",
    "print(a % b)   # Output: 1\n",
    "print(c % b)   # Output: 1.5"
   ]
  },
  {
   "cell_type": "code",
   "execution_count": 17,
   "id": "4cb26039",
   "metadata": {},
   "outputs": [
    {
     "name": "stdout",
     "output_type": "stream",
     "text": [
      "25\n",
      "12.25\n"
     ]
    }
   ],
   "source": [
    "# Potenza\n",
    "print(a ** b)  # Output: 25\n",
    "print(c ** b)  # Output: 12.25"
   ]
  },
  {
   "cell_type": "markdown",
   "id": "e4ec1415",
   "metadata": {},
   "source": [
    "In Python è inoltre possibile utilizzare alcune funzioni matematiche predefinite presenti nel modulo math. Ad esempio:"
   ]
  },
  {
   "cell_type": "code",
   "execution_count": 18,
   "id": "e376d395",
   "metadata": {},
   "outputs": [
    {
     "name": "stdout",
     "output_type": "stream",
     "text": [
      "5.0\n",
      "10\n",
      "1.0\n"
     ]
    }
   ],
   "source": [
    "import math\n",
    "\n",
    "# Calcolo della radice quadrata di un numero\n",
    "print(math.sqrt(25))  # Output: 5.0\n",
    "\n",
    "# Calcolo del valore assoluto di un numero\n",
    "print(abs(-10))       # Output: 10\n",
    "\n",
    "# Calcolo del seno di un angolo in radianti\n",
    "print(math.sin(math.pi/2))  # Output: 1.0"
   ]
  },
  {
   "cell_type": "markdown",
   "id": "dc9b637a",
   "metadata": {},
   "source": [
    "## Manipolare e far interagire dati testuali, creare variabili per la generazione di testi dinamici\n"
   ]
  },
  {
   "cell_type": "markdown",
   "id": "a8c7a554",
   "metadata": {},
   "source": [
    "In questa sezione vedremo come manipolare e interagire con i dati di tipo testuale (stringhe) in Python. In particolare, impareremo a creare variabili per la generazione di testi dinamici.\n",
    "\n",
    "###  Stringhe\n",
    "\n",
    "In Python, le stringhe sono rappresentate da una sequenza di caratteri delimitata da apici singoli ('') o doppi (\"\"). Ad esempio:"
   ]
  },
  {
   "cell_type": "code",
   "execution_count": 19,
   "id": "fc488d0c",
   "metadata": {},
   "outputs": [],
   "source": [
    "nome = 'Mario'\n",
    "cognome = \"Rossi\""
   ]
  },
  {
   "cell_type": "markdown",
   "id": "5c2c57e7",
   "metadata": {},
   "source": [
    "La funzione type() ci permette di verificare il tipo di dato di una variabile:"
   ]
  },
  {
   "cell_type": "code",
   "execution_count": 20,
   "id": "c0d24968",
   "metadata": {},
   "outputs": [
    {
     "name": "stdout",
     "output_type": "stream",
     "text": [
      "<class 'str'>\n",
      "<class 'str'>\n"
     ]
    }
   ],
   "source": [
    "print(type(nome)) # Output: <class 'str'>\n",
    "print(type(cognome)) # Output: <class 'str'>"
   ]
  },
  {
   "cell_type": "markdown",
   "id": "2a6ed658",
   "metadata": {},
   "source": [
    "### Concatenazione di stringhe\n",
    "\n",
    "Possiamo concatenare due o più stringhe utilizzando l'operatore +:"
   ]
  },
  {
   "cell_type": "code",
   "execution_count": 22,
   "id": "a5709ce0",
   "metadata": {},
   "outputs": [
    {
     "name": "stdout",
     "output_type": "stream",
     "text": [
      "Mario Rossi\n"
     ]
    }
   ],
   "source": [
    "nome_completo = nome + ' ' + cognome\n",
    "print(nome_completo) # Output: Mario Rossi"
   ]
  },
  {
   "cell_type": "markdown",
   "id": "a668a695",
   "metadata": {},
   "source": [
    "### Formattazione di stringhe\n",
    "In Python, è possibile formattare una stringa utilizzando il metodo format(). Questo ci permette di inserire dinamicamente dei valori all'interno di una stringa."
   ]
  },
  {
   "cell_type": "code",
   "execution_count": 23,
   "id": "8717cb41",
   "metadata": {},
   "outputs": [
    {
     "name": "stdout",
     "output_type": "stream",
     "text": [
      "Ciao, mi chiamo Mario e ho 30 anni\n"
     ]
    }
   ],
   "source": [
    "nome = 'Mario'\n",
    "anni = 30\n",
    "\n",
    "saluto = 'Ciao, mi chiamo {} e ho {} anni'.format(nome, anni)\n",
    "print(saluto) # Output: Ciao, mi chiamo Mario e ho 30 anni\n"
   ]
  },
  {
   "cell_type": "markdown",
   "id": "b78d17ad",
   "metadata": {},
   "source": [
    "Esiste anche una sintassi più recente e più concisa per formattare le stringhe, utilizzando le cosiddette f-string. Per utilizzarle, basta anteporre la lettera f alla stringa, e utilizzare le parentesi graffe {} per inserire le variabili."
   ]
  },
  {
   "cell_type": "code",
   "execution_count": 24,
   "id": "3d93c7e2",
   "metadata": {},
   "outputs": [
    {
     "name": "stdout",
     "output_type": "stream",
     "text": [
      "Ciao, mi chiamo Mario e ho 30 anni\n"
     ]
    }
   ],
   "source": [
    "nome = 'Mario'\n",
    "anni = 30\n",
    "\n",
    "saluto = f'Ciao, mi chiamo {nome} e ho {anni} anni'\n",
    "print(saluto) # Output: Ciao, mi chiamo Mario e ho 30 anni"
   ]
  },
  {
   "cell_type": "markdown",
   "id": "6a0de70c",
   "metadata": {},
   "source": [
    "## Esercizi"
   ]
  },
  {
   "cell_type": "markdown",
   "id": "22330271",
   "metadata": {},
   "source": [
    "### Esercizio 1:\n",
    "\n",
    "Definire due variabili stringa, concatenarle e salvarle in una nuova variabile. Aggiungere un'altra stringa alla variabile concatenata e sostituire una parola con un'altra."
   ]
  },
  {
   "cell_type": "code",
   "execution_count": null,
   "id": "96a04696",
   "metadata": {},
   "outputs": [],
   "source": [
    "str1 = \"Hello\"\n",
    "str2 = \"world!\"\n",
    "\n",
    "concatenata = str1 + \" \" + str2\n",
    "print(concatenata)\n",
    "\n",
    "concatenata += \" Welcome to the world of programming!\"\n",
    "print(concatenata)\n",
    "\n",
    "concatenata = concatenata.replace(\"programming\", \"Python\")\n",
    "print(concatenata)\n"
   ]
  },
  {
   "cell_type": "markdown",
   "id": "bd2da3fc",
   "metadata": {},
   "source": [
    "### Esercizio 2:\n",
    "\n",
    "Definire tre variabili numeriche, trovare il valore massimo, il valore minimo e la differenza tra di essi.\n",
    "\n",
    "Soluzione:"
   ]
  },
  {
   "cell_type": "code",
   "execution_count": null,
   "id": "fbaaf3d0",
   "metadata": {},
   "outputs": [],
   "source": [
    "a = 10\n",
    "b = 15\n",
    "c = 20\n",
    "\n",
    "max_value = max(a, b, c)\n",
    "min_value = min(a, b, c)\n",
    "diff = max_value - min_value\n",
    "\n",
    "print(\"Il valore massimo è:\", max_value)\n",
    "print(\"Il valore minimo è:\", min_value)\n",
    "print(\"La differenza tra il valore massimo e il valore minimo è:\", diff)\n"
   ]
  },
  {
   "cell_type": "markdown",
   "id": "d15736f4",
   "metadata": {},
   "source": [
    "### Esercizio 3: \n",
    "\n",
    "Scrivi un programma che calcoli l'area di un cerchio di raggio 5 e stampi il risultato.\n",
    "\n",
    "hint: La formula per calcolare l'area di un cerchio è:\n",
    "\n",
    "area = π * raggio^2\n",
    "\n",
    "Dove π (pi greco) è un valore approssimativamente pari a 3.14, mentre il raggio del cerchio è la distanza dal centro del cerchio fino alla sua circonferenza."
   ]
  },
  {
   "cell_type": "code",
   "execution_count": null,
   "id": "1ad0825d",
   "metadata": {},
   "outputs": [],
   "source": [
    "import math\n",
    "\n",
    "raggio = 5\n",
    "area = math.pi * raggio ** 2\n",
    "\n",
    "print(f\"L'area del cerchio di raggio {raggio} è {area:.2f}\")\n"
   ]
  }
 ],
 "metadata": {
  "kernelspec": {
   "display_name": "Python 3 (ipykernel)",
   "language": "python",
   "name": "python3"
  },
  "language_info": {
   "codemirror_mode": {
    "name": "ipython",
    "version": 3
   },
   "file_extension": ".py",
   "mimetype": "text/x-python",
   "name": "python",
   "nbconvert_exporter": "python",
   "pygments_lexer": "ipython3",
   "version": "3.9.15"
  }
 },
 "nbformat": 4,
 "nbformat_minor": 5
}

{
 "cells": [
  {
   "cell_type": "markdown",
   "id": "4f84fde6",
   "metadata": {},
   "source": [
    "## Formulazione del problema\n",
    "\n",
    "La natura intermittente e lo scarso controllo sulle condizioni del vento pongono lo stesso problema a tutti i gestori di rete nella loro integrazione per soddisfare la domanda corrente. Oltre a dover prevedere la domanda e bilanciarla con l'offerta, l'operatore di rete deve anche prevedere la disponibilità degli impianti di generazione eolica e solare nell'ora, nel giorno o nella settimana successivi. Oltre a frenare i benefici dell'energia rinnovabile, una programmazione errata degli impianti di generazione eolica può portare a prenotazioni non necessarie, a costi più elevati trasferiti ai consumatori e all'utilizzo di altre risorse energetiche più costose e inquinanti. Lavorare con dati reali è difficile a causa del rumore e dei periodi mancanti.\n",
    "\n",
    "\n",
    "## Dettaglio del dataset\n",
    "\n",
    "link dataset: https://www.kaggle.com/datasets/pravdomirdobrev/texas-wind-turbine-dataset-simulated\n",
    "\n",
    "Le serie orarie annuali fornite sono state simulate utilizzando il software del National Renewable Energy Laboratory (NREL) per una località del Texas, negli Stati Uniti. Presenta una perfetta completezza dei dati e l'assenza di dati rumorosi; sfide che ostacolano le attività di previsione con i set di dati reali e distraggono dall'obiettivo. Il set di dati contiene diverse caratteristiche meteorologiche che possono essere analizzate e utilizzate come predittori.\n",
    "\n",
    "## Dettagli del task\n",
    "Prevedere la produzione di energia del giorno successivo = 24 passi avanti.\n",
    "\n",
    "In particolare noi ci concentreremo solo sull'analisi decrittiva del dataset e sulla sua elaborazione con gli strumenti che abbiamo appreso. Faremo una prova di previsione con una baseline basata sul valore precedente."
   ]
  },
  {
   "cell_type": "markdown",
   "id": "13759bfa",
   "metadata": {},
   "source": [
    "### Import del Dataset"
   ]
  },
  {
   "cell_type": "code",
   "execution_count": null,
   "id": "4151d3c8",
   "metadata": {},
   "outputs": [],
   "source": [
    "import pandas as pd\n",
    "\n",
    "df = pd.read_csv(\"Dati/TexasTurbine.csv\")"
   ]
  },
  {
   "cell_type": "markdown",
   "id": "8e381e97",
   "metadata": {},
   "source": [
    "### Esplorazione di base"
   ]
  },
  {
   "cell_type": "code",
   "execution_count": null,
   "id": "f9652b81",
   "metadata": {},
   "outputs": [],
   "source": [
    "df.head()"
   ]
  },
  {
   "cell_type": "code",
   "execution_count": null,
   "id": "30caaf0e",
   "metadata": {},
   "outputs": [],
   "source": [
    "df.dtypes"
   ]
  },
  {
   "cell_type": "code",
   "execution_count": null,
   "id": "5d8476f6",
   "metadata": {},
   "outputs": [],
   "source": [
    "print(f\"il dataset presenta {df.size} righe\")"
   ]
  },
  {
   "cell_type": "code",
   "execution_count": null,
   "id": "2d2c8622",
   "metadata": {},
   "outputs": [],
   "source": [
    "df.describe()"
   ]
  },
  {
   "cell_type": "code",
   "execution_count": null,
   "id": "e2b1eb2c",
   "metadata": {},
   "outputs": [],
   "source": [
    "start = df[\"Time stamp\"].iloc[0]\n",
    "end = df[\"Time stamp\"].iloc[-1]\n",
    "print(f\"Il periodo coperto va dal {start} al {end} di un anno ipotetico.\")"
   ]
  },
  {
   "cell_type": "markdown",
   "id": "2cf17dfc",
   "metadata": {},
   "source": [
    "## Data cleaning"
   ]
  },
  {
   "cell_type": "code",
   "execution_count": null,
   "id": "b09ecbfc",
   "metadata": {},
   "outputs": [],
   "source": [
    "# count missing values\n",
    "df.isna().sum()"
   ]
  },
  {
   "cell_type": "code",
   "execution_count": null,
   "id": "6bf44907",
   "metadata": {},
   "outputs": [],
   "source": [
    "rename_dict = {'Time stamp':'ts',\n",
    "'System power generated | (kW)': 'potenza',\n",
    "'Wind speed | (m/s)': 'velocità',\n",
    "'Wind direction | (deg)':'direzione',\n",
    "'Pressure | (atm)': 'pressione',\n",
    "\"Air temperature | ('C)\": 'temperatura'}\n",
    "\n",
    "df = df.rename(columns=rename_dict)"
   ]
  },
  {
   "cell_type": "code",
   "execution_count": null,
   "id": "c0e35643",
   "metadata": {},
   "outputs": [],
   "source": [
    "# Converte la colonna 'dt' in oggetti datetime\n",
    "df['ts'] = pd.to_datetime(df['ts'], format='%b %d, %I:%M %p')\n",
    "\n",
    "# Crea un nuovo DataFrame con l'indice impostato sulla colonna 'dt'\n",
    "df_ts = df.set_index('ts')"
   ]
  },
  {
   "cell_type": "code",
   "execution_count": null,
   "id": "5fa37220",
   "metadata": {},
   "outputs": [],
   "source": [
    "df_ts.head()"
   ]
  },
  {
   "cell_type": "markdown",
   "id": "04c86a30",
   "metadata": {},
   "source": [
    "### Gestione dell'indice temporale\n",
    "\n",
    "Quando si lavora con dati di serie temporali, è importante che le informazioni relative al tempo siano in un formato facilmente leggibile dal computer. È qui che gli oggetti datetime si rivelano utili. Convertendo la colonna 'Time stamp' da un oggetto stringa a un oggetto datetime, è possibile eseguire varie operazioni sui dati, come filtrare, aggregare e tracciare in base a intervalli di tempo come giorni, settimane, mesi e così via.\n",
    "\n",
    "Ad esempio, possiamo facilmente raggruppare i dati per mese e calcolare la potenza media generata per mese, il che può aiutarci a identificare tendenze e modelli nei dati. Inoltre, gli oggetti datetime forniscono vari attributi e metodi che consentono di estrarre informazioni specifiche dalla data e dall'ora, come il mese, il giorno, l'ora, il minuto, ecc. Questo può aiutarci a eseguire analisi più granulari e a ottenere approfondimenti sui dati.\n",
    "\n",
    "In generale, la conversione della colonna 'Time stamp' in un oggetto datetime facilita il lavoro con i dati delle serie temporali e consente di eseguire analisi e visualizzazioni più sofisticate.\n",
    "\n",
    "La libreria datetime è molto utile per lavorare con dati di serie temporali, poiché offre metodi per effettuare la conversione tra diversi formati di data e tempo, la creazione di intervalli di tempo e l'accesso a parti specifiche di una data o ora. Inoltre, è possibile eseguire operazioni matematiche come la somma e la sottrazione di date e orari, rendendo la libreria datetime uno strumento molto versatile per l'analisi dei dati.\n",
    "\n",
    "Per trasformare correttamente la colonna 'Time stamp' in un oggetto datetime, possiamo utilizzare il metodo pd.to_datetime di Pandas, specificando il formato della stringa di input utilizzando i codici di formato. In questo caso, il formato corretto della stringa è '%b %d, %I:%M %p', dove:\n",
    "\n",
    "'%b' rappresenta il mese abbreviato in tre lettere (es. Jan per Gennaio)\n",
    "'%d' rappresenta il giorno del mese (01-31)\n",
    "'%I' rappresenta l'ora in formato 12 ore (01-12)\n",
    "'%M' rappresenta i minuti (00-59)\n",
    "'%p' rappresenta l'indicatore AM o PM"
   ]
  },
  {
   "cell_type": "code",
   "execution_count": null,
   "id": "f91d4772",
   "metadata": {},
   "outputs": [],
   "source": [
    "df_ts"
   ]
  },
  {
   "cell_type": "code",
   "execution_count": null,
   "id": "165cbd02",
   "metadata": {},
   "outputs": [],
   "source": [
    "import matplotlib.pyplot as plt\n",
    "plt.figure(figsize=(50, 10))\n",
    "plt.plot(df_ts['potenza'])\n",
    "plt.title('potenza nel tempo')\n",
    "plt.show()"
   ]
  },
  {
   "cell_type": "code",
   "execution_count": null,
   "id": "1b0cf36f",
   "metadata": {},
   "outputs": [],
   "source": [
    "plt.figure(figsize=(30, 10))\n",
    "cond = df_ts.index >'1900-12-01 00:00:00'\n",
    "plt.plot(df_ts['potenza'].loc[cond], '-o')\n",
    "plt.title('potenza nel tempo (dicembre)')\n",
    "plt.show()"
   ]
  },
  {
   "cell_type": "markdown",
   "id": "dde84bf3",
   "metadata": {},
   "source": [
    "## Analisi aggregata\n",
    "possiamo effettuare un'analisi aggregata sulla produzione totale della giornata e su altre variabili prese come media della giornata. Per fare ciò, possiamo usare il metodo groupby() di Pandas per raggruppare i dati per giorno e calcolare la somma della potenza generata e la media delle altre variabili per ciascun giorno."
   ]
  },
  {
   "cell_type": "code",
   "execution_count": null,
   "id": "1ffe42eb",
   "metadata": {},
   "outputs": [],
   "source": [
    "# Estraiamo la data come una nuova colonna\n",
    "df_ts['giorno'] = df_ts.index.date\n",
    "\n",
    "# Calcoliamo la somma della potenza generata e la media delle altre variabili per giorno\n",
    "daily_data = df_ts.groupby('giorno').agg({'potenza': 'sum',\n",
    "                                      'velocità': 'mean',\n",
    "                                      'direzione': 'mean',\n",
    "                                      'pressione': 'mean',\n",
    "                                      'temperatura': 'mean'}).reset_index()\n",
    "# Visualizziamo le prime righe del nuovo dataframe\n",
    "print(daily_data.head())\n"
   ]
  },
  {
   "cell_type": "code",
   "execution_count": null,
   "id": "67b55e2e",
   "metadata": {},
   "outputs": [],
   "source": [
    "# Converte la colonna 'dt' in oggetti datetime\n",
    "daily_data['giorno'] = pd.to_datetime(daily_data['giorno'])\n",
    "\n",
    "# Crea un nuovo DataFrame con l'indice impostato sulla colonna 'dt'\n",
    "daily_data = daily_data.set_index('giorno')"
   ]
  },
  {
   "cell_type": "code",
   "execution_count": null,
   "id": "941d676b",
   "metadata": {},
   "outputs": [],
   "source": [
    "plt.figure(figsize=(30, 10))\n",
    "cond = daily_data.index >'1900-12-01 00:00:00'\n",
    "plt.plot(daily_data['potenza'].loc[cond],'-o')\n",
    "plt.title('potenza totale giornaliera (dicembre)')\n",
    "plt.show()"
   ]
  },
  {
   "cell_type": "code",
   "execution_count": null,
   "id": "a9165023",
   "metadata": {},
   "outputs": [],
   "source": [
    "plt.figure(figsize=(30, 10))\n",
    "plt.plot(daily_data['potenza'],'-o')\n",
    "plt.title('potenza totale giornaliera')\n",
    "plt.show()"
   ]
  },
  {
   "cell_type": "code",
   "execution_count": null,
   "id": "c9d12fde",
   "metadata": {},
   "outputs": [],
   "source": [
    "import matplotlib.pyplot as plt\n",
    "\n",
    "\n",
    "df.hist(figsize=(10, 8))\n",
    "plt.tight_layout()\n",
    "plt.show()"
   ]
  },
  {
   "cell_type": "code",
   "execution_count": null,
   "id": "1c9ea002",
   "metadata": {},
   "outputs": [],
   "source": [
    "plt.scatter(df_ts['velocità'], df_ts['potenza'])\n",
    "plt.xlabel('Velocità')\n",
    "plt.ylabel('Potenza')\n",
    "plt.title('Scatter plot: Velocità vs Potenza')\n",
    "plt.show()\n"
   ]
  },
  {
   "cell_type": "markdown",
   "id": "5a56d980",
   "metadata": {},
   "source": [
    "## Regressione \n",
    "\n",
    "Ipotizziamo di avere delle previsioni della velocità del vento e di voler prevedere che potenza avremo a disposizione la prossima settimana, giorno per giorno. "
   ]
  },
  {
   "cell_type": "code",
   "execution_count": null,
   "id": "f81581c5",
   "metadata": {},
   "outputs": [],
   "source": [
    "# Importare le librerie necessarie\n",
    "import numpy as np\n",
    "from sklearn.linear_model import LinearRegression\n",
    "from sklearn.ensemble import RandomForestRegressor\n",
    "from sklearn.model_selection import train_test_split\n",
    "from sklearn.metrics import mean_squared_error\n",
    "import matplotlib.dates as mdates\n",
    "\n",
    "# Importare il dataset\n",
    "df = pd.read_csv(\"Dati/TexasTurbine.csv\")\n",
    "\n",
    "# Preprocessing dei dati\n",
    "rename_dict = {'Time stamp':'ts',\n",
    "               'System power generated | (kW)': 'potenza',\n",
    "               'Wind speed | (m/s)': 'velocità',\n",
    "               'Wind direction | (deg)':'direzione',\n",
    "               'Pressure | (atm)': 'pressione',\n",
    "               \"Air temperature | ('C)\": 'temperatura'}\n",
    "\n",
    "df = df.rename(columns=rename_dict)\n",
    "df['ts'] = pd.to_datetime(df['ts'], format='%b %d, %I:%M %p')\n",
    "df_ts = df.set_index('ts')\n",
    "\n",
    "# Estrazione dei dati giornalieri\n",
    "df_ts['giorno'] = df_ts.index.date\n",
    "daily_data = df_ts.groupby('giorno').agg({'potenza': 'sum',\n",
    "                                          'velocità': 'mean'}).reset_index()\n",
    "\n",
    "# Creazione della variabile di input X e della variabile di output y\n",
    "X = daily_data['velocità'].values.reshape(-1, 1)\n",
    "y = daily_data['potenza'].values\n",
    "\n",
    "# Split dei dati in training set e test set\n",
    "X_train, X_test, y_train, y_test = train_test_split(X, y, test_size=0.2, random_state=42)\n",
    "\n",
    "# Creazione del modello di regressione lineare\n",
    "linear_model = LinearRegression()\n",
    "linear_model.fit(X_train, y_train)\n",
    "\n",
    "# Creazione del modello di Random Forest\n",
    "rf_model = RandomForestRegressor(random_state=42)\n",
    "rf_model.fit(X_train, y_train)\n",
    "\n",
    "# Calcolo delle previsioni dei modelli\n",
    "y_pred_linear = linear_model.predict(X_test)\n",
    "y_pred_rf = rf_model.predict(X_test)\n",
    "\n",
    "# Calcolo degli errori quadratici medi (MSE)\n",
    "mse_linear = mean_squared_error(y_test, y_pred_linear)\n",
    "mse_rf = mean_squared_error(y_test, y_pred_rf)\n",
    "\n",
    "# Stampa dei valori degli MSE\n",
    "print(\"Errore quadratico medio (MSE) - Regressione lineare:\", mse_linear)\n",
    "print(\"Errore quadratico medio (MSE) - Random Forest:\", mse_rf)\n",
    "\n",
    "# Creazione della baseline usando la media della potenza generata dell'ultima settimana\n",
    "last_week_data = daily_data.tail(7)\n",
    "baseline_forecast = pd.DataFrame(index=last_week_data['giorno'])\n",
    "baseline_forecast['potenza'] = last_week_data['potenza'].mean()\n",
    "\n",
    "# Plot dei risultati delle previsioni per l'ultima settimana dei dati giornalieri\n",
    "plt.figure(figsize=(12, 6))\n",
    "plt.plot(last_week_data['giorno'], last_week_data['potenza'], color='blue', label='Dati effettivi')\n",
    "plt.plot(last_week_data['giorno'], linear_model.predict(last_week_data['velocità'].values.reshape(-1, 1)), color='red', linestyle='--', label='Regressione lineare')\n",
    "plt.plot(last_week_data['giorno'], rf_model.predict(last_week_data['velocità'].values.reshape(-1, 1)), color='green', linestyle='--', label='Random Forest')\n",
    "plt.plot(baseline_forecast.index, baseline_forecast['potenza'], color='orange', linestyle='--', label='Baseline (Media)')\n",
    "plt.xlabel('Data')\n",
    "plt.ylabel('Potenza generata (kW)')\n",
    "plt.title('Previsione della potenza generata')\n",
    "plt.gca().xaxis.set_major_locator(mdates.DayLocator())\n",
    "plt.gca().xaxis.set_major_formatter(mdates.DateFormatter('%b %d'))\n",
    "plt.legend()\n",
    "plt.show()\n"
   ]
  },
  {
   "cell_type": "code",
   "execution_count": null,
   "id": "78babbbf",
   "metadata": {},
   "outputs": [],
   "source": [
    "print(f\"Linear model: \\n potenza_generata = {round(linear_model.intercept_)} + \\\n",
    "      {round(linear_model.coef_[0])} * velocità_vento\")"
   ]
  },
  {
   "cell_type": "code",
   "execution_count": null,
   "id": "64b7d88f",
   "metadata": {},
   "outputs": [],
   "source": [
    "# Crea una sequenza di valori di velocità del vento all'interno dell'intervallo coperto dai dati del vento reale.\n",
    "wind_power_sequence = np.linspace(daily_data['velocità'].min(), daily_data['velocità'].max(), num=100)\n",
    "\n",
    "# Genera valori di potenza stimati utilizzando i modelli\n",
    "baseline_power = np.full_like(wind_power_sequence, last_week_data['potenza'].mean())\n",
    "linear_regression_power = linear_model.predict(wind_power_sequence.reshape(-1, 1))\n",
    "random_forest_power = rf_model.predict(wind_power_sequence.reshape(-1, 1))\n",
    "plt.figure(figsize=(10, 6))\n",
    "\n",
    "# Plot dati reali\n",
    "plt.scatter(daily_data['velocità'], daily_data['potenza'], color='blue', label='Actual Data',s = 5)\n",
    "\n",
    "# Plot dati stimati attraverso i modelli\n",
    "\n",
    "plt.plot(wind_power_sequence, baseline_power, color='orange', linestyle='--', label='Baseline (Mean)')\n",
    "plt.plot(wind_power_sequence, linear_regression_power, color='red', label='Linear Regression', linewidth=2)\n",
    "plt.plot(wind_power_sequence, random_forest_power, color='green', label='Random Forest', linewidth=2)\n",
    "\n",
    "plt.xlabel('Wind Power (m/s)')\n",
    "plt.ylabel('Estimated Power (kW)')\n",
    "plt.title('Estimated Power vs. Wind Power')\n",
    "plt.legend()\n",
    "plt.show()"
   ]
  }
 ],
 "metadata": {
  "kernelspec": {
   "display_name": "Python 3 (ipykernel)",
   "language": "python",
   "name": "python3"
  },
  "language_info": {
   "codemirror_mode": {
    "name": "ipython",
    "version": 3
   },
   "file_extension": ".py",
   "mimetype": "text/x-python",
   "name": "python",
   "nbconvert_exporter": "python",
   "pygments_lexer": "ipython3",
   "version": "3.11.7"
  }
 },
 "nbformat": 4,
 "nbformat_minor": 5
}
